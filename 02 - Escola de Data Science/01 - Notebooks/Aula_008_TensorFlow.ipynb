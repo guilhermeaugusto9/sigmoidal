{
  "nbformat": 4,
  "nbformat_minor": 0,
  "metadata": {
    "colab": {
      "name": "Aula 008: TensorFlow.ipynb",
      "provenance": [],
      "collapsed_sections": [],
      "include_colab_link": true
    },
    "kernelspec": {
      "name": "python3",
      "display_name": "Python 3"
    },
    "accelerator": "GPU"
  },
  "cells": [
    {
      "cell_type": "markdown",
      "metadata": {
        "id": "view-in-github",
        "colab_type": "text"
      },
      "source": [
        "<a href=\"https://colab.research.google.com/github/guilhermeaugusto9/sigmoidal/blob/master/02%20-%20Escola%20de%20Data%20Science/01%20-%20Notebooks/Aula_008_TensorFlow.ipynb\" target=\"_parent\"><img src=\"https://colab.research.google.com/assets/colab-badge.svg\" alt=\"Open In Colab\"/></a>"
      ]
    },
    {
      "cell_type": "markdown",
      "metadata": {
        "id": "oNUTbkFk3Bxr"
      },
      "source": [
        "<p align=\"center\"><img src=\"https://raw.githubusercontent.com/carlosfab/escola-data-science/master/img/eds.png\" height=\"100px\"></p>\n",
        "\n",
        "# Aula 008: TensorFlow\n",
        "\n",
        "***Fashion MNIST*** é um *dataset* considerado o *Hello, World!* de **Deep Learning** aplicado a problemas de **Visão Computacional**.\n",
        "\n",
        "Contendo 60 mil imagens para treinamento e 10 mil para teste, é um *dataset* bem melhor que o antigo **MNIST** (que continha apenas digitos manuscritos).\n",
        "\n",
        "<p align=\"center\"><img src=\"https://raw.githubusercontent.com/carlosfab/escola-data-science/master/img/fashion-mnist-sprite.png\" height=\"400px\"></p>\n",
        "\n",
        "Ao total, as 70 mil imagens têm dimensões de 28 x 28 *pixels*, como mostra a imagem acima. Cada uma dessas imagens é classificada com um desses 10 *labels*:\n",
        "\n",
        "<table>\n",
        "  <tbody><tr>\n",
        "    <th>Label</th>\n",
        "    <th>Class</th>\n",
        "  </tr>\n",
        "  <tr>\n",
        "    <td>0</td>\n",
        "    <td>T-shirt/top</td>\n",
        "  </tr>\n",
        "  <tr>\n",
        "    <td>1</td>\n",
        "    <td>Trouser</td>\n",
        "  </tr>\n",
        "    <tr>\n",
        "    <td>2</td>\n",
        "    <td>Pullover</td>\n",
        "  </tr>\n",
        "    <tr>\n",
        "    <td>3</td>\n",
        "    <td>Dress</td>\n",
        "  </tr>\n",
        "    <tr>\n",
        "    <td>4</td>\n",
        "    <td>Coat</td>\n",
        "  </tr>\n",
        "    <tr>\n",
        "    <td>5</td>\n",
        "    <td>Sandal</td>\n",
        "  </tr>\n",
        "    <tr>\n",
        "    <td>6</td>\n",
        "    <td>Shirt</td>\n",
        "  </tr>\n",
        "    <tr>\n",
        "    <td>7</td>\n",
        "    <td>Sneaker</td>\n",
        "  </tr>\n",
        "    <tr>\n",
        "    <td>8</td>\n",
        "    <td>Bag</td>\n",
        "  </tr>\n",
        "    <tr>\n",
        "    <td>9</td>\n",
        "    <td>Ankle boot</td>\n",
        "  </tr>\n",
        "</tbody></table>"
      ]
    },
    {
      "cell_type": "markdown",
      "metadata": {
        "id": "Ke3C_aAvZzJO"
      },
      "source": [
        "Nesta Aula 008, iremos implementar uma rede neural que usa apenas camadas Densas, seguindo o *intuition* dados nas últimas 3 aulas.\n",
        "\n",
        "No entanto, quando se trata de imagens, normalmente iremos procurar um tipo específico de rede neural: Redes Neurais Convolucionais (*Convolutional Neural Networks*).\n",
        "\n",
        "Por enquanto, vamos entender como resolver o *Fashion MNIST* usando o TensorFlow."
      ]
    },
    {
      "cell_type": "code",
      "metadata": {
        "id": "gIdHdKWi9xyq"
      },
      "source": [
        "# importar as bibliotecas necessárias\n",
        "%tensorflow_version 2.x\n",
        "import tensorflow as tf\n",
        "from tensorflow import keras\n",
        "import matplotlib.pyplot as plt\n",
        "import pandas as pd\n",
        "import numpy as np"
      ],
      "execution_count": null,
      "outputs": []
    },
    {
      "cell_type": "code",
      "metadata": {
        "id": "w1BptDmK-oiH"
      },
      "source": [
        "# carregar os dados do Fashion MNIST\n",
        "(X_train_orig, y_train), (X_test, y_test) = keras.datasets.fashion_mnist.load_data()"
      ],
      "execution_count": null,
      "outputs": []
    },
    {
      "cell_type": "code",
      "metadata": {
        "id": "UE6GwGzBCGHg",
        "outputId": "3eb5efb8-6b88-41b8-e4d7-089f63241010",
        "colab": {
          "base_uri": "https://localhost:8080/",
          "height": 90
        }
      },
      "source": [
        "# ver dimensionalidade\n",
        "print(\"X_train:\\t\", X_train_orig.shape)\n",
        "print(\"y_train:\\t\", y_train.shape)\n",
        "print(\"X_test:\\t\\t\", X_test.shape)\n",
        "print(\"y_test:\\t\\t\", y_test.shape)"
      ],
      "execution_count": null,
      "outputs": [
        {
          "output_type": "stream",
          "text": [
            "X_train:\t (60000, 28, 28)\n",
            "y_train:\t (60000,)\n",
            "X_test:\t\t (10000, 28, 28)\n",
            "y_test:\t\t (10000,)\n"
          ],
          "name": "stdout"
        }
      ]
    },
    {
      "cell_type": "markdown",
      "metadata": {
        "id": "o6MrCcBPdEwZ"
      },
      "source": [
        "Como usaremos um algoritmo de otimização baseado em gradiente, é preciso padronizar os pixels, o que é feito diretamente ao se dividir por 255.0. Ressalta-se que tal operação já transforma os `int` em `float`.\n",
        "\n",
        "Como o *FASHION MNIST* não possui dados de validação, irei pegar 10% dos valores com essa finalidade."
      ]
    },
    {
      "cell_type": "code",
      "metadata": {
        "id": "Egw2c5EFchU5"
      },
      "source": [
        "# padronizar o dataset de treino e criar um de validação\n",
        "X_valid, X_train = X_train_orig[:6000] / 255.0, X_train_orig[6000:] / 255.0\n",
        "y_valid, y_train = y_train[:6000], y_train[6000:]"
      ],
      "execution_count": null,
      "outputs": []
    },
    {
      "cell_type": "code",
      "metadata": {
        "id": "zd1DcTMi_vSy"
      },
      "source": [
        "# De acordo com a documentação, os labels são:\n",
        "class_names = ['Camisetas/top', 'Calça', 'Suéter',\n",
        "               'Vestidos','Casaco', 'Sandálias',\n",
        "               'Camisas', 'Tênis', 'Bolsa', 'Botas']"
      ],
      "execution_count": null,
      "outputs": []
    },
    {
      "cell_type": "code",
      "metadata": {
        "id": "C-G0yTOABbLr",
        "outputId": "a18fbdb6-4324-465e-b449-0a34c5a21daa",
        "colab": {
          "base_uri": "https://localhost:8080/",
          "height": 35
        }
      },
      "source": [
        "# ver exemplo de uma imagem aleatória\n",
        "class_names[y_train[0]]"
      ],
      "execution_count": null,
      "outputs": [
        {
          "output_type": "execute_result",
          "data": {
            "text/plain": [
              "'Bolsa'"
            ]
          },
          "metadata": {
            "tags": []
          },
          "execution_count": 6
        }
      ]
    },
    {
      "cell_type": "code",
      "metadata": {
        "id": "Vu5EEpt_drId",
        "outputId": "2010c6b0-873e-4fd9-89a9-97439a2fc552",
        "colab": {
          "base_uri": "https://localhost:8080/",
          "height": 265
        }
      },
      "source": [
        "# plotar a imagem aleatória\n",
        "plt.imshow(X_train_orig[0], cmap=plt.cm.binary);"
      ],
      "execution_count": null,
      "outputs": [
        {
          "output_type": "display_data",
          "data": {
            "image/png": "[encoded data removed]",
            "text/plain": [
              "<Figure size 432x288 with 1 Axes>"
            ]
          },
          "metadata": {
            "tags": [],
            "needs_background": "light"
          }
        }
      ]
    },
    {
      "cell_type": "code",
      "metadata": {
        "id": "OPGTosjMBrZ0",
        "outputId": "8a919522-fe0d-4aa3-e47f-fc219e5e14cf",
        "colab": {
          "base_uri": "https://localhost:8080/",
          "height": 265
        }
      },
      "source": [
        "# plotar a imagem aleatória\n",
        "plt.imshow(X_train_orig[0], cmap='gray');"
      ],
      "execution_count": null,
      "outputs": [
        {
          "output_type": "display_data",
          "data": {
            "image/png": "[encoded data removed]",
            "text/plain": [
              "<Figure size 432x288 with 1 Axes>"
            ]
          },
          "metadata": {
            "tags": [],
            "needs_background": "light"
          }
        }
      ]
    },
    {
      "cell_type": "code",
      "metadata": {
        "id": "FZ6iaRxt_Sgm",
        "outputId": "57078b87-c9c8-4633-a0c1-3d2001569a5d",
        "colab": {
          "base_uri": "https://localhost:8080/",
          "height": 265
        }
      },
      "source": [
        "# plotar a imagem aleatória com interpolação diferente\n",
        "plt.imshow(X_train_orig[0], cmap='gray', interpolation=\"bicubic\");"
      ],
      "execution_count": null,
      "outputs": [
        {
          "output_type": "display_data",
          "data": {
            "image/png": "[encoded data removed]",
            "text/plain": [
              "<Figure size 432x288 with 1 Axes>"
            ]
          },
          "metadata": {
            "tags": [],
            "needs_background": "light"
          }
        }
      ]
    },
    {
      "cell_type": "code",
      "metadata": {
        "id": "PzKt8cRx_XX5",
        "outputId": "16526a49-384e-4a5e-b457-8fe058934a22",
        "colab": {
          "base_uri": "https://localhost:8080/",
          "height": 589
        }
      },
      "source": [
        "# ver algumas imagens de exemplo\n",
        "plt.figure(figsize=(10,10))\n",
        "\n",
        "for i in range(15):\n",
        "    plt.subplot(5,3,i+1)\n",
        "    plt.xticks([])\n",
        "    plt.yticks([])\n",
        "    plt.grid(False)\n",
        "    plt.imshow(X_train[i], cmap=plt.cm.binary)\n",
        "    plt.xlabel(class_names[y_train[i]])\n",
        "plt.show()"
      ],
      "execution_count": null,
      "outputs": [
        {
          "output_type": "display_data",
          "data": {
            "image/png": "[encoded data removed]",
            "text/plain": [
              "<Figure size 720x720 with 15 Axes>"
            ]
          },
          "metadata": {
            "tags": []
          }
        }
      ]
    },
    {
      "cell_type": "markdown",
      "metadata": {
        "id": "1pZglEE-dyMM"
      },
      "source": [
        "Vamos criar um modelo bem simples de Rede Neural, usando apenas uma *hidden layer*."
      ]
    },
    {
      "cell_type": "code",
      "metadata": {
        "id": "ILhACszPENKc"
      },
      "source": [
        "# modelo 1\n",
        "model = keras.models.Sequential()\n",
        "model.add(keras.layers.Flatten(input_shape=(28,28)))\n",
        "model.add(keras.layers.Dense(784, activation='sigmoid'))\n",
        "model.add(keras.layers.Dense(10, activation='softmax'))"
      ],
      "execution_count": null,
      "outputs": []
    },
    {
      "cell_type": "code",
      "metadata": {
        "id": "PbHg6wj5FezF",
        "outputId": "a92e19c5-ae1d-48bd-a3a5-9e7040fbe338",
        "colab": {
          "base_uri": "https://localhost:8080/",
          "height": 272
        }
      },
      "source": [
        "# ver um resumo da rede\n",
        "model.summary()"
      ],
      "execution_count": null,
      "outputs": [
        {
          "output_type": "stream",
          "text": [
            "Model: \"sequential\"\n",
            "_________________________________________________________________\n",
            "Layer (type)                 Output Shape              Param #   \n",
            "=================================================================\n",
            "flatten (Flatten)            (None, 784)               0         \n",
            "_________________________________________________________________\n",
            "dense (Dense)                (None, 784)               615440    \n",
            "_________________________________________________________________\n",
            "dense_1 (Dense)              (None, 10)                7850      \n",
            "=================================================================\n",
            "Total params: 623,290\n",
            "Trainable params: 623,290\n",
            "Non-trainable params: 0\n",
            "_________________________________________________________________\n"
          ],
          "name": "stdout"
        }
      ]
    },
    {
      "cell_type": "code",
      "metadata": {
        "id": "Wg-u6TUBFtTR",
        "outputId": "11699b41-d834-4e6f-d2c7-2cd3c2bab708",
        "colab": {
          "base_uri": "https://localhost:8080/",
          "height": 72
        }
      },
      "source": [
        "# ver lista dos layers\n",
        "model.layers"
      ],
      "execution_count": null,
      "outputs": [
        {
          "output_type": "execute_result",
          "data": {
            "text/plain": [
              "[<tensorflow.python.keras.layers.core.Flatten at 0x7fd3542269e8>,\n",
              " <tensorflow.python.keras.layers.core.Dense at 0x7fd354226390>,\n",
              " <tensorflow.python.keras.layers.core.Dense at 0x7fd354a658d0>]"
            ]
          },
          "metadata": {
            "tags": []
          },
          "execution_count": 13
        }
      ]
    },
    {
      "cell_type": "code",
      "metadata": {
        "id": "qE0OQ4KXGgnF"
      },
      "source": [
        "# atribuir uma camada a uma variável\n",
        "camada1 = model.layers[1]"
      ],
      "execution_count": null,
      "outputs": []
    },
    {
      "cell_type": "code",
      "metadata": {
        "id": "jJcQZqYXGqJ9",
        "outputId": "31cba180-4e3b-47a4-878f-365713a81fcd",
        "colab": {
          "base_uri": "https://localhost:8080/",
          "height": 35
        }
      },
      "source": [
        "# ver o nome de uma camada\n",
        "camada1.name"
      ],
      "execution_count": null,
      "outputs": [
        {
          "output_type": "execute_result",
          "data": {
            "text/plain": [
              "'dense'"
            ]
          },
          "metadata": {
            "tags": []
          },
          "execution_count": 15
        }
      ]
    },
    {
      "cell_type": "code",
      "metadata": {
        "id": "sNB6a4ddGrFi",
        "outputId": "17fed164-0c3f-4c35-ba61-de2ef0c857bb",
        "colab": {
          "base_uri": "https://localhost:8080/",
          "height": 35
        }
      },
      "source": [
        "# selecionar o layer a partir de um nome\n",
        "model.get_layer(name='dense')"
      ],
      "execution_count": null,
      "outputs": [
        {
          "output_type": "execute_result",
          "data": {
            "text/plain": [
              "<tensorflow.python.keras.layers.core.Dense at 0x7fd354226390>"
            ]
          },
          "metadata": {
            "tags": []
          },
          "execution_count": 16
        }
      ]
    },
    {
      "cell_type": "code",
      "metadata": {
        "id": "oluM5otYGzsf",
        "outputId": "2711fe81-ea2e-4ddf-b8f7-76e775738df4",
        "colab": {
          "base_uri": "https://localhost:8080/",
          "height": 54
        }
      },
      "source": [
        "# acessando os pesos dos layers\n",
        "w, b = camada1.get_weights()\n",
        "\n",
        "print(\"W: \\t\", w.shape)\n",
        "print(\"b: \\t\", b.shape)"
      ],
      "execution_count": null,
      "outputs": [
        {
          "output_type": "stream",
          "text": [
            "W: \t (784, 784)\n",
            "b: \t (784,)\n"
          ],
          "name": "stdout"
        }
      ]
    },
    {
      "cell_type": "code",
      "metadata": {
        "id": "isfatU5xJFkB"
      },
      "source": [
        "# compilando o modelo\n",
        "model.compile(optimizer='sgd', loss='sparse_categorical_crossentropy',\n",
        "              metrics='accuracy')"
      ],
      "execution_count": null,
      "outputs": []
    },
    {
      "cell_type": "code",
      "metadata": {
        "id": "jdwFQny6JI2f",
        "outputId": "fd43f76d-d545-4bf0-b37b-a352aed229ff",
        "colab": {
          "base_uri": "https://localhost:8080/",
          "height": 401
        }
      },
      "source": [
        "# treinando o modelo\n",
        "history = model.fit(X_train, y_train, epochs=10, validation_data=(X_valid, y_valid))"
      ],
      "execution_count": null,
      "outputs": [
        {
          "output_type": "stream",
          "text": [
            "Epoch 1/10\n",
            "1688/1688 [==============================] - 4s 2ms/step - loss: 1.1649 - accuracy: 0.6651 - val_loss: 0.8019 - val_accuracy: 0.7378\n",
            "Epoch 2/10\n",
            "1688/1688 [==============================] - 3s 2ms/step - loss: 0.7232 - accuracy: 0.7563 - val_loss: 0.6626 - val_accuracy: 0.7657\n",
            "Epoch 3/10\n",
            "1688/1688 [==============================] - 3s 2ms/step - loss: 0.6357 - accuracy: 0.7803 - val_loss: 0.5999 - val_accuracy: 0.7915\n",
            "Epoch 4/10\n",
            "1688/1688 [==============================] - 4s 2ms/step - loss: 0.5886 - accuracy: 0.7951 - val_loss: 0.5660 - val_accuracy: 0.8068\n",
            "Epoch 5/10\n",
            "1688/1688 [==============================] - 3s 2ms/step - loss: 0.5579 - accuracy: 0.8052 - val_loss: 0.5389 - val_accuracy: 0.8153\n",
            "Epoch 6/10\n",
            "1688/1688 [==============================] - 3s 2ms/step - loss: 0.5363 - accuracy: 0.8128 - val_loss: 0.5217 - val_accuracy: 0.8207\n",
            "Epoch 7/10\n",
            "1688/1688 [==============================] - 3s 2ms/step - loss: 0.5191 - accuracy: 0.8192 - val_loss: 0.5121 - val_accuracy: 0.8213\n",
            "Epoch 8/10\n",
            "1688/1688 [==============================] - 3s 2ms/step - loss: 0.5059 - accuracy: 0.8229 - val_loss: 0.4968 - val_accuracy: 0.8278\n",
            "Epoch 9/10\n",
            "1688/1688 [==============================] - 3s 2ms/step - loss: 0.4950 - accuracy: 0.8271 - val_loss: 0.4951 - val_accuracy: 0.8330\n",
            "Epoch 10/10\n",
            "1688/1688 [==============================] - 3s 2ms/step - loss: 0.4858 - accuracy: 0.8293 - val_loss: 0.4826 - val_accuracy: 0.8342\n"
          ],
          "name": "stdout"
        }
      ]
    },
    {
      "cell_type": "code",
      "metadata": {
        "id": "FgIT29r-KJ0d",
        "outputId": "133b27a7-5eed-4b43-f8b6-e7686e682544",
        "colab": {
          "base_uri": "https://localhost:8080/",
          "height": 265
        }
      },
      "source": [
        "# plotar o histórico da otimização\n",
        "pd.DataFrame(history.history).plot()\n",
        "plt.show()"
      ],
      "execution_count": null,
      "outputs": [
        {
          "output_type": "display_data",
          "data": {
            "image/png": "[encoded data removed]",
            "text/plain": [
              "<Figure size 432x288 with 1 Axes>"
            ]
          },
          "metadata": {
            "tags": [],
            "needs_background": "light"
          }
        }
      ]
    },
    {
      "cell_type": "code",
      "metadata": {
        "id": "lybNqL08fIWC",
        "outputId": "7dd4915e-65e9-4ac6-b1df-7f35ad7dc7a5",
        "colab": {
          "base_uri": "https://localhost:8080/",
          "height": 54
        }
      },
      "source": [
        "# avaliar o modelo\n",
        "model.evaluate(X_test, y_test)"
      ],
      "execution_count": null,
      "outputs": [
        {
          "output_type": "stream",
          "text": [
            "313/313 [==============================] - 1s 2ms/step - loss: 1.7241 - accuracy: 0.7294\n"
          ],
          "name": "stdout"
        },
        {
          "output_type": "execute_result",
          "data": {
            "text/plain": [
              "[1.724050521850586, 0.7293999791145325]"
            ]
          },
          "metadata": {
            "tags": []
          },
          "execution_count": 21
        }
      ]
    },
    {
      "cell_type": "code",
      "metadata": {
        "id": "jPmncA3IMZ0N",
        "outputId": "42b4bcdc-11e3-45ba-bd0d-fdf9b42deebf",
        "colab": {
          "base_uri": "https://localhost:8080/",
          "height": 401
        }
      },
      "source": [
        "# modelo 2\n",
        "model2 = keras.models.Sequential()\n",
        "model2.add(keras.layers.Flatten(input_shape=(28,28)))\n",
        "model2.add(keras.layers.Dense(300, activation='relu'))\n",
        "model2.add(keras.layers.Dense(100, activation='relu'))\n",
        "model2.add(keras.layers.Dense(10, activation='softmax'))\n",
        "\n",
        "# compilando o modelo 2\n",
        "model2.compile(optimizer='adam', loss='sparse_categorical_crossentropy',\n",
        "              metrics='accuracy')\n",
        "\n",
        "# treinando o modelo 2\n",
        "history2 = model2.fit(X_train, y_train, epochs=10, validation_data=(X_valid, y_valid))"
      ],
      "execution_count": null,
      "outputs": [
        {
          "output_type": "stream",
          "text": [
            "Epoch 1/10\n",
            "1688/1688 [==============================] - 4s 2ms/step - loss: 0.4833 - accuracy: 0.8267 - val_loss: 0.3918 - val_accuracy: 0.8555\n",
            "Epoch 2/10\n",
            "1688/1688 [==============================] - 4s 2ms/step - loss: 0.3665 - accuracy: 0.8661 - val_loss: 0.3620 - val_accuracy: 0.8658\n",
            "Epoch 3/10\n",
            "1688/1688 [==============================] - 4s 2ms/step - loss: 0.3291 - accuracy: 0.8796 - val_loss: 0.3295 - val_accuracy: 0.8807\n",
            "Epoch 4/10\n",
            "1688/1688 [==============================] - 4s 2ms/step - loss: 0.3048 - accuracy: 0.8852 - val_loss: 0.3138 - val_accuracy: 0.8887\n",
            "Epoch 5/10\n",
            "1688/1688 [==============================] - 4s 2ms/step - loss: 0.2839 - accuracy: 0.8942 - val_loss: 0.3167 - val_accuracy: 0.8863\n",
            "Epoch 6/10\n",
            "1688/1688 [==============================] - 4s 2ms/step - loss: 0.2709 - accuracy: 0.8986 - val_loss: 0.3374 - val_accuracy: 0.8795\n",
            "Epoch 7/10\n",
            "1688/1688 [==============================] - 4s 2ms/step - loss: 0.2629 - accuracy: 0.9010 - val_loss: 0.3130 - val_accuracy: 0.8917\n",
            "Epoch 8/10\n",
            "1688/1688 [==============================] - 4s 2ms/step - loss: 0.2474 - accuracy: 0.9062 - val_loss: 0.3128 - val_accuracy: 0.8913\n",
            "Epoch 9/10\n",
            "1688/1688 [==============================] - 4s 2ms/step - loss: 0.2365 - accuracy: 0.9095 - val_loss: 0.3007 - val_accuracy: 0.8927\n",
            "Epoch 10/10\n",
            "1688/1688 [==============================] - 4s 2ms/step - loss: 0.2271 - accuracy: 0.9143 - val_loss: 0.3054 - val_accuracy: 0.8935\n"
          ],
          "name": "stdout"
        }
      ]
    },
    {
      "cell_type": "code",
      "metadata": {
        "id": "Ul5CK3UXNoZl",
        "outputId": "30bedfac-54d7-4b3e-dc8b-d769871464f7",
        "colab": {
          "base_uri": "https://localhost:8080/",
          "height": 265
        }
      },
      "source": [
        "pd.DataFrame(history2.history).plot()\n",
        "plt.show()"
      ],
      "execution_count": null,
      "outputs": [
        {
          "output_type": "display_data",
          "data": {
            "image/png": "[encoded data removed]",
            "text/plain": [
              "<Figure size 432x288 with 1 Axes>"
            ]
          },
          "metadata": {
            "tags": [],
            "needs_background": "light"
          }
        }
      ]
    },
    {
      "cell_type": "code",
      "metadata": {
        "id": "4FiFCUjVPAe-",
        "outputId": "8b6a8edd-c5a2-4675-8f99-a7f71e1c5c07",
        "colab": {
          "base_uri": "https://localhost:8080/",
          "height": 54
        }
      },
      "source": [
        "# avaliar o modelo 2\n",
        "model2.evaluate(X_test, y_test)"
      ],
      "execution_count": null,
      "outputs": [
        {
          "output_type": "stream",
          "text": [
            "313/313 [==============================] - 1s 2ms/step - loss: 60.2688 - accuracy: 0.8577\n"
          ],
          "name": "stdout"
        },
        {
          "output_type": "execute_result",
          "data": {
            "text/plain": [
              "[60.268802642822266, 0.857699990272522]"
            ]
          },
          "metadata": {
            "tags": []
          },
          "execution_count": 24
        }
      ]
    },
    {
      "cell_type": "markdown",
      "metadata": {
        "id": "tsw9VNNBefr4"
      },
      "source": [
        "#### Redes Neurais Convolucionais"
      ]
    },
    {
      "cell_type": "code",
      "metadata": {
        "id": "xTgQQMozUJml",
        "outputId": "69b7149d-0839-48be-f882-e3321ed93a46",
        "colab": {
          "base_uri": "https://localhost:8080/",
          "height": 526
        }
      },
      "source": [
        "# modelo 3\n",
        "model3 = keras.Sequential()\n",
        "\n",
        "# definir a arquitetura da rede neural\n",
        "model3.add(keras.layers.Conv2D(filters=64, kernel_size=2, padding='same', activation='relu', input_shape=(28,28,1))) \n",
        "model3.add(keras.layers.MaxPooling2D(pool_size=2))\n",
        "model3.add(keras.layers.Dropout(0.3))\n",
        "model3.add(keras.layers.Conv2D(filters=32, kernel_size=2, padding='same', activation='relu'))\n",
        "model3.add(keras.layers.MaxPooling2D(pool_size=2))\n",
        "model3.add(keras.layers.Dropout(0.3))\n",
        "model3.add(keras.layers.Flatten())\n",
        "model3.add(keras.layers.Dense(256, activation='relu'))\n",
        "model3.add(keras.layers.Dropout(0.5))\n",
        "model3.add(keras.layers.Dense(10, activation='softmax'))\n",
        "\n",
        "# Ver a aarquitetura do modelo 3\n",
        "model3.summary()"
      ],
      "execution_count": null,
      "outputs": [
        {
          "output_type": "stream",
          "text": [
            "Model: \"sequential_2\"\n",
            "_________________________________________________________________\n",
            "Layer (type)                 Output Shape              Param #   \n",
            "=================================================================\n",
            "conv2d (Conv2D)              (None, 28, 28, 64)        320       \n",
            "_________________________________________________________________\n",
            "max_pooling2d (MaxPooling2D) (None, 14, 14, 64)        0         \n",
            "_________________________________________________________________\n",
            "dropout (Dropout)            (None, 14, 14, 64)        0         \n",
            "_________________________________________________________________\n",
            "conv2d_1 (Conv2D)            (None, 14, 14, 32)        8224      \n",
            "_________________________________________________________________\n",
            "max_pooling2d_1 (MaxPooling2 (None, 7, 7, 32)          0         \n",
            "_________________________________________________________________\n",
            "dropout_1 (Dropout)          (None, 7, 7, 32)          0         \n",
            "_________________________________________________________________\n",
            "flatten_2 (Flatten)          (None, 1568)              0         \n",
            "_________________________________________________________________\n",
            "dense_5 (Dense)              (None, 256)               401664    \n",
            "_________________________________________________________________\n",
            "dropout_2 (Dropout)          (None, 256)               0         \n",
            "_________________________________________________________________\n",
            "dense_6 (Dense)              (None, 10)                2570      \n",
            "=================================================================\n",
            "Total params: 412,778\n",
            "Trainable params: 412,778\n",
            "Non-trainable params: 0\n",
            "_________________________________________________________________\n"
          ],
          "name": "stdout"
        }
      ]
    },
    {
      "cell_type": "code",
      "metadata": {
        "id": "GN8atEHce3iE"
      },
      "source": [
        "model3.compile(optimizer='adam', loss='categorical_crossentropy',\n",
        "              metrics='accuracy')"
      ],
      "execution_count": null,
      "outputs": []
    },
    {
      "cell_type": "code",
      "metadata": {
        "id": "B5T1PgPxfcm4",
        "outputId": "3c579abf-704d-4b6d-eea6-8977f61a82b2",
        "colab": {
          "base_uri": "https://localhost:8080/",
          "height": 419
        }
      },
      "source": [
        "model.fit(X_train, y_train, batch_size=64,\n",
        "         epochs=10, validation_data=(X_valid, y_valid))"
      ],
      "execution_count": null,
      "outputs": [
        {
          "output_type": "stream",
          "text": [
            "Epoch 1/10\n",
            "844/844 [==============================] - 2s 2ms/step - loss: 0.4773 - accuracy: 0.8338 - val_loss: 0.4723 - val_accuracy: 0.8377\n",
            "Epoch 2/10\n",
            "844/844 [==============================] - 2s 2ms/step - loss: 0.4735 - accuracy: 0.8348 - val_loss: 0.4703 - val_accuracy: 0.8402\n",
            "Epoch 3/10\n",
            "844/844 [==============================] - 2s 2ms/step - loss: 0.4706 - accuracy: 0.8358 - val_loss: 0.4667 - val_accuracy: 0.8402\n",
            "Epoch 4/10\n",
            "844/844 [==============================] - 2s 2ms/step - loss: 0.4677 - accuracy: 0.8365 - val_loss: 0.4626 - val_accuracy: 0.8422\n",
            "Epoch 5/10\n",
            "844/844 [==============================] - 2s 2ms/step - loss: 0.4647 - accuracy: 0.8372 - val_loss: 0.4605 - val_accuracy: 0.8398\n",
            "Epoch 6/10\n",
            "844/844 [==============================] - 2s 2ms/step - loss: 0.4618 - accuracy: 0.8393 - val_loss: 0.4586 - val_accuracy: 0.8403\n",
            "Epoch 7/10\n",
            "844/844 [==============================] - 2s 2ms/step - loss: 0.4591 - accuracy: 0.8402 - val_loss: 0.4553 - val_accuracy: 0.8408\n",
            "Epoch 8/10\n",
            "844/844 [==============================] - 2s 2ms/step - loss: 0.4565 - accuracy: 0.8409 - val_loss: 0.4549 - val_accuracy: 0.8422\n",
            "Epoch 9/10\n",
            "844/844 [==============================] - 2s 2ms/step - loss: 0.4542 - accuracy: 0.8413 - val_loss: 0.4514 - val_accuracy: 0.8417\n",
            "Epoch 10/10\n",
            "844/844 [==============================] - 2s 2ms/step - loss: 0.4516 - accuracy: 0.8424 - val_loss: 0.4546 - val_accuracy: 0.8427\n"
          ],
          "name": "stdout"
        },
        {
          "output_type": "execute_result",
          "data": {
            "text/plain": [
              "<tensorflow.python.keras.callbacks.History at 0x7fd354a729b0>"
            ]
          },
          "metadata": {
            "tags": []
          },
          "execution_count": 27
        }
      ]
    },
    {
      "cell_type": "code",
      "metadata": {
        "id": "iu04Nw5ogKdx"
      },
      "source": [
        ""
      ],
      "execution_count": null,
      "outputs": []
    }
  ]
}