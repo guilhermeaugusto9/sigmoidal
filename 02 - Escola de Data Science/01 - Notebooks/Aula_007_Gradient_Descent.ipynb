{
  "nbformat": 4,
  "nbformat_minor": 0,
  "metadata": {
    "colab": {
      "name": "Aula 007: Gradient Descent.ipynb",
      "provenance": [],
      "collapsed_sections": []
    },
    "kernelspec": {
      "name": "python3",
      "display_name": "Python 3"
    }
  },
  "cells": [
    {
      "cell_type": "markdown",
      "metadata": {
        "id": "oNUTbkFk3Bxr"
      },
      "source": [
        "<p align=\"center\"><img src=\"https://raw.githubusercontent.com/carlosfab/escola-data-science/master/img/eds.png\" height=\"100px\"></p>\n",
        "\n",
        "# Aula 007: Gradient Descent\n",
        "\n",
        "Recapitulando tudo que foi visto até o momento, vimos que a previsão $\\hat{y} = \\sigma(w^Tx + b)$, onde $\\sigma(z) = \\frac{1}{1 + e^{-z}}$, pode ter seu desempenho avaliado por meio de uma função custo.\n",
        "\n",
        "A função custo representa a avaliação conjunta das amostras. Em outras palavras, mede quão bom é o desempenho dos nossos parâmetros $w$ e $b$. No caso da regressão logística, estamos usando a seguinte função custo:\n",
        "\n",
        "$$\n",
        "J(w, b) = \\frac{1}{m} \\sum_{i=1}^{m}\\mathcal{L}(\\hat{y}^{(i)}, y^{(i)}) = - \\frac{1}{m} \\sum_{i=1}^{m} [y^{(i)} \\log \\hat{y}^{(i)} + (1 - y^{(i)})log(1 - \\hat{y}^{(i)})]\n",
        "$$\n",
        "\n",
        "Quanto menor foi o valor da função custo, melhor. A ação de \"otimizar\" é feita pelo algoritmo *Gradient Descent*. Veja sua representação espacial considerando nossos dois parâmetros.\n",
        "\n",
        "<p align=\"center\"><img src=\"https://raw.githubusercontent.com/carlosfab/escola-data-science/master/img/gradient_descent.gif\" height=\"300px\"></p>\n",
        "\n",
        "### *Forward* e *Backward Propagation*\n",
        "\n",
        "Recomendo assistir à aual e prestar atenção aos slides. Todo o conteúdo teórico foi passado por lá.\n",
        "\n",
        "Vamos recuperar as etapadas passadas na última aula, que incluiam apenas o passe de ida, e acrescentar o caminho de volta. Nesta etapa, *backward propagation*, é onde conseguimos melhorar cada parâmetro, obtendo as derivadas de cada um.\n",
        "\n",
        "**Etapas da *forward + backward propagation***\n",
        "1. Padronizar as dimensões de `X` e `y`\n",
        "2. Inicializar os parâmetros `w` e `b`\n",
        "3. Calcular $z = w^T x + b$\n",
        "4. Calcular $\\sigma(-z) = \\frac{1}{1 + e^{(-z)}}$\n",
        "5. Calcular $J(w, b) = - \\frac{1}{m} \\sum_{i=1}^{m} [y^{(i)} \\log \\hat{y}^{(i)} + (1 - y^{(i)})log(1 - \\hat{y}^{(i)})]$\n",
        "6. Calcular os gradientes de cada parâmetro usando:\n",
        "  * $\\frac{\\partial J}{\\partial w} = \\frac{1}{m}X(A-Y)^T$\n",
        "  * $\\frac{\\partial J}{\\partial b} = \\frac{1}{m} \\sum_{i=1}^m (a^{(i)}-y^{(i)})$"
      ]
    },
    {
      "cell_type": "code",
      "metadata": {
        "id": "5GRahlul89Pt"
      },
      "source": [
        "# importa bibliotecas\n",
        "import h5py\n",
        "import numpy as np\n",
        "import matplotlib.pyplot as plt\n",
        "\n",
        "# download do dataset cat vs non-cat\n",
        "!wget -q https://raw.githubusercontent.com/carlosfab/escola-data-science/master/datasets/catvsnoncat/train_catvnoncat.h5\n",
        "!wget -q https://raw.githubusercontent.com/carlosfab/escola-data-science/master/datasets/catvsnoncat/test_catvnoncat.h5\n",
        "\n",
        "# Importar os dados do arquivo .h5\n",
        "train_dataset = h5py.File('train_catvnoncat.h5', 'r')\n",
        "test_dataset = h5py.File('test_catvnoncat.h5', 'r')\n",
        "\n",
        "# dados de treino\n",
        "train_x = np.array(train_dataset['train_set_x'][:])\n",
        "train_y = np.array(train_dataset['train_set_y'][:])\n",
        "\n",
        "# dados de teste\n",
        "test_x = np.array(test_dataset['test_set_x'][:])\n",
        "test_y = np.array(test_dataset['test_set_y'][:])\n",
        "\n",
        "# reshape nas variáveis\n",
        "train_y = train_y.reshape(1, train_y.shape[0])\n",
        "test_y = test_y.reshape(1, test_y.shape[0])\n",
        "train_x_flatten = train_x.reshape(train_x.shape[0], -1).T\n",
        "test_x_flatten = test_x.reshape(test_x.shape[0], -1).T"
      ],
      "execution_count": null,
      "outputs": []
    },
    {
      "cell_type": "markdown",
      "metadata": {
        "id": "LyoZcnj7VzBV"
      },
      "source": [
        "Checar a dimensionalidade dos objetos."
      ]
    },
    {
      "cell_type": "code",
      "metadata": {
        "id": "WFSA5BiKd0XC",
        "outputId": "7ebeb007-2d80-42aa-8970-33f8f397bbec",
        "colab": {
          "base_uri": "https://localhost:8080/",
          "height": 90
        }
      },
      "source": [
        "# ver a dimensionalidade dos nossos dados de treino e teste\n",
        "for _, j in enumerate([train_x_flatten, train_y, test_x_flatten, test_y]):\n",
        "    print(j.shape)"
      ],
      "execution_count": null,
      "outputs": [
        {
          "output_type": "stream",
          "text": [
            "(12288, 209)\n",
            "(1, 209)\n",
            "(12288, 50)\n",
            "(1, 50)\n"
          ],
          "name": "stdout"
        }
      ]
    },
    {
      "cell_type": "markdown",
      "metadata": {
        "id": "El5AS387V4_F"
      },
      "source": [
        "Dividir por 255 para padronizar os datasets."
      ]
    },
    {
      "cell_type": "code",
      "metadata": {
        "id": "LnvaD-fNd2i8"
      },
      "source": [
        "# padronizar os inputs\n",
        "train_x_clean = train_x_flatten / 255.\n",
        "test_x_clean = test_x_flatten / 255."
      ],
      "execution_count": null,
      "outputs": []
    },
    {
      "cell_type": "markdown",
      "metadata": {
        "id": "7iF_Rn_Ee3oh"
      },
      "source": [
        "**Etapas da *forward + backward propagation***\n",
        "1. Padronizar as dimensões de `X` e `y`\n",
        "2. Inicializar os parâmetros `w` e `b`\n",
        "3. Calcular $z = w^T x + b$\n",
        "4. Calcular $\\sigma(-z) = \\frac{1}{1 + e^{(-z)}}$\n",
        "5. Calcular $J(w, b) = - \\frac{1}{m} \\sum_{i=1}^{m} [y^{(i)} \\log \\hat{y}^{(i)} + (1 - y^{(i)})log(1 - \\hat{y}^{(i)})]$\n",
        "6. Calcular os gradientes de cada parâmetro usando:\n",
        "  * $\\frac{\\partial J}{\\partial w} = \\frac{1}{m}X(A-Y)^T$\n",
        "  * $\\frac{\\partial J}{\\partial b} = \\frac{1}{m} \\sum_{i=1}^m (a^{(i)}-y^{(i)})$"
      ]
    },
    {
      "cell_type": "code",
      "metadata": {
        "id": "6vC3_pWid3va"
      },
      "source": [
        "def propagate(X, Y):\n",
        "    # ver qde de amostras\n",
        "    m = X.shape[1]\n",
        "\n",
        "    # inicializar variáveis em 0\n",
        "    w = np.zeros((X.shape[0], 1))\n",
        "    b = 0\n",
        "    \n",
        "    # calcular z = wx + b\n",
        "    z = np.dot(w.T, X) + b\n",
        "\n",
        "    # aplicar a função sigmóide\n",
        "    A = 1 / (1 + np.exp(-z))\n",
        "\n",
        "    # calcular custo\n",
        "    cost = (-1 / m) * np.sum(Y * np.log(A) + (1 - Y) * (np.log(1 - A)))\n",
        "\n",
        "    # calcular os gradientes na backward propagation\n",
        "    dw = (1/m) * np.dot(X, (A - Y).T)\n",
        "    db = (1/m) * np.sum(A - Y)\n",
        "\n",
        "    return cost, dw, db"
      ],
      "execution_count": null,
      "outputs": []
    },
    {
      "cell_type": "markdown",
      "metadata": {
        "id": "_wvgUOeFWCRP"
      },
      "source": [
        "O algoritmo *Gradient Descent* usará os gradientes para encontrar a direção e o parâmetro $\\alpha$ para o tamanho do *step*.\n",
        "\n",
        "Iterando até o critério de parada definido, atualiza os valores de $w$ e $b$ da seguinte maneira:\n",
        "\n",
        "$$\n",
        "w := w - \\alpha \\frac{\\partial J(w, b)}{\\partial w} \\\\\n",
        "b := b - \\alpha \\frac{\\partial J(w, b)}{\\partial b}\n",
        "$$\n",
        "\n",
        "Lembre-se que as derivadas parciais de cada parâmetro são encontradas usando:\n",
        "\n",
        "$$\n",
        "\\begin{align}\n",
        "\\frac{\\partial J}{\\partial w} &= \\frac{1}{m}X(A-Y)^T \\\\\n",
        "\\frac{\\partial J}{\\partial b} &= \\frac{1}{m} \\sum_{i=1}^m (a^{(i)}-y^{(i)})\n",
        "\\end{align}\n",
        "$$"
      ]
    },
    {
      "cell_type": "code",
      "metadata": {
        "id": "pYQsZNfefSEP"
      },
      "source": [
        "def optimize(X, Y, num_iter=100, alpha=0.01):\n",
        "    # ver qde de amostras\n",
        "    m = X.shape[1]\n",
        "\n",
        "    # inicializar parâmetros em 0\n",
        "    w = np.zeros((X.shape[0], 1))\n",
        "    b = 0\n",
        "\n",
        "    # registrar custo\n",
        "    costs = []\n",
        "\n",
        "    for i in range(num_iter):\n",
        "        # calcular z = wx + b\n",
        "        z = np.dot(w.T, X) + b\n",
        "\n",
        "        # aplicar a função sigmóide\n",
        "        A = 1 / (1 + np.exp(-z))\n",
        "\n",
        "        # calcular custo\n",
        "        cost = (-1 / m) * np.sum(Y * np.log(A) + (1 - Y) * (np.log(1 - A)))\n",
        "        costs.append(cost)\n",
        "\n",
        "        # calcular os gradientes na backward propagation\n",
        "        dw = (1/m) * np.dot(X, (A - Y).T)\n",
        "        db = (1/m) * np.sum(A - Y)\n",
        "\n",
        "        # atualizar os parâmetros\n",
        "        w = w - alpha * dw\n",
        "        b = b - alpha * db\n",
        "\n",
        "    return costs, w, b"
      ],
      "execution_count": null,
      "outputs": []
    },
    {
      "cell_type": "markdown",
      "metadata": {
        "id": "3zPQhzrVaWJO"
      },
      "source": [
        "Abaixo, um pequeno teste para ver se não erramos as dimensões de nenhuma matriz."
      ]
    },
    {
      "cell_type": "code",
      "metadata": {
        "id": "jOcyf8CciwnC",
        "outputId": "b44ebbbb-475f-42cd-8626-7fef5e1285b0",
        "colab": {
          "base_uri": "https://localhost:8080/",
          "height": 72
        }
      },
      "source": [
        "# testar a função acima\n",
        "X, Y = np.array([[2.,1.,-2.],[2.,1.,-3.2]]), np.array([[1,0,1]])\n",
        "\n",
        "costs, w, b = optimize(X, Y, 100, 0.01)\n",
        "\n",
        "print (\"w = \", w)\n",
        "print (\"b = \", b)"
      ],
      "execution_count": null,
      "outputs": [
        {
          "output_type": "stream",
          "text": [
            "w =  [[-0.04031079]\n",
            " [-0.19041433]]\n",
            "b =  0.14974150109434572\n"
          ],
          "name": "stdout"
        }
      ]
    },
    {
      "cell_type": "markdown",
      "metadata": {
        "id": "59kBlwhhacY0"
      },
      "source": [
        "Veja como o custo $J(w, b) = - \\frac{1}{m} \\sum_{i=1}^{m} [y^{(i)} \\log \\hat{y}^{(i)} + (1 - y^{(i)})log(1 - \\hat{y}^{(i)})]$ diminui ao longo das iterações."
      ]
    },
    {
      "cell_type": "code",
      "metadata": {
        "id": "wd8ITw4ljAX5",
        "outputId": "57040922-cff2-441c-bd60-9114509e3f11",
        "colab": {
          "base_uri": "https://localhost:8080/",
          "height": 265
        }
      },
      "source": [
        "# ver a função custo\n",
        "plt.plot(costs)\n",
        "plt.show()"
      ],
      "execution_count": null,
      "outputs": [
        {
          "output_type": "display_data",
          "data": {
            "image/png": "[encoded data removed]",
            "text/plain": [
              "<Figure size 432x288 with 1 Axes>"
            ]
          },
          "metadata": {
            "tags": [],
            "needs_background": "light"
          }
        }
      ]
    },
    {
      "cell_type": "markdown",
      "metadata": {
        "id": "QIy6wixJan6P"
      },
      "source": [
        "Uma outra etapa agora é realizar previsões. Uma vez que já esteja treinado, extraimos os valores encontrados de $w$ e $b$ e passamos a imagem desejada pelo *forward propagation*."
      ]
    },
    {
      "cell_type": "code",
      "metadata": {
        "id": "lv690fWPckyJ"
      },
      "source": [
        "# fazer previsão\n",
        "\n",
        "def predict(w, b, X):\n",
        "    # ver qde de amostras\n",
        "    m = X.shape[1]\n",
        "\n",
        "    # criar array para previsões\n",
        "    w = w.reshape((X.shape[0], 1))\n",
        "    # y_hat = np.zeros((1, m))\n",
        "\n",
        "    # calcular probabilidade de ser da classe\n",
        "    # calcular z = wx + b\n",
        "    z = np.dot(w.T, X) + b\n",
        "\n",
        "    # aplicar a função sigmóide\n",
        "    A = 1 / (1 + np.exp(-z))\n",
        "\n",
        "    # converter as probabilidades em previsões\n",
        "    y_hat = np.where(A > 0.5, 1., 0.).reshape((1, m))\n",
        "\n",
        "    return y_hat"
      ],
      "execution_count": null,
      "outputs": []
    },
    {
      "cell_type": "markdown",
      "metadata": {
        "id": "fu-sIrfxa_Kk"
      },
      "source": [
        "Mais um teste a fim de evitar erros de dimensionalidade."
      ]
    },
    {
      "cell_type": "code",
      "metadata": {
        "id": "1Y5iIm_0ezDH",
        "outputId": "74168c9d-9e2e-4d5e-9de7-78fa2faa633c",
        "colab": {
          "base_uri": "https://localhost:8080/",
          "height": 35
        }
      },
      "source": [
        "# fazer um teste para ver se o modelo está ok\n",
        "w = np.array([[0.74732],[0.41354]])\n",
        "b = -0.1\n",
        "X = np.array([[1.,-1.1,-3.2],[1.2,2.,0.1]])\n",
        "print (\"predictions = \", (predict(w, b, X)))"
      ],
      "execution_count": null,
      "outputs": [
        {
          "output_type": "stream",
          "text": [
            "predictions =  [[1. 0. 0.]]\n"
          ],
          "name": "stdout"
        }
      ]
    },
    {
      "cell_type": "markdown",
      "metadata": {
        "id": "SwlAb7kUbCsz"
      },
      "source": [
        "Por fim, vamos usar nosso conjunto de dados *cat vs. non-cat* e ver como a rede neural se comporta frente a dados reais."
      ]
    },
    {
      "cell_type": "code",
      "metadata": {
        "id": "kH1uuVz9fkdW",
        "outputId": "a42cabb2-6bda-4dde-87bd-5717d8e656ce",
        "colab": {
          "base_uri": "https://localhost:8080/",
          "height": 35
        }
      },
      "source": [
        "# treinar o modelo no dataset de treino\n",
        "costs, w, b = optimize(train_x_clean, train_y, 2000, 0.001)\n",
        "\n",
        "# fazer previsões no dataset de teste\n",
        "predictions = predict(w, b, test_x_clean)\n",
        "\n",
        "# ver acurácia do modelo\n",
        "print(\"Acurácia do dataset de teste: {}\".format(100 - np.mean(np.abs(predictions - test_y)) * 100))"
      ],
      "execution_count": null,
      "outputs": [
        {
          "output_type": "stream",
          "text": [
            "Acurácia do dataset de teste: 68.0\n"
          ],
          "name": "stdout"
        }
      ]
    },
    {
      "cell_type": "markdown",
      "metadata": {
        "id": "JPgr71dQbhiG"
      },
      "source": [
        "Plotaremos o gráfico do custo vs. número de iterações para ver o desempenho do *Gradient Descent*."
      ]
    },
    {
      "cell_type": "code",
      "metadata": {
        "id": "hVuz4ZoKjXQ5",
        "outputId": "30210042-599f-4da1-a0cb-997a88597cc0",
        "colab": {
          "base_uri": "https://localhost:8080/",
          "height": 265
        }
      },
      "source": [
        "plt.plot(costs)\n",
        "plt.show()"
      ],
      "execution_count": null,
      "outputs": [
        {
          "output_type": "display_data",
          "data": {
            "image/png": "[encoded data removed]",
            "text/plain": [
              "<Figure size 432x288 with 1 Axes>"
            ]
          },
          "metadata": {
            "tags": [],
            "needs_background": "light"
          }
        }
      ]
    },
    {
      "cell_type": "code",
      "metadata": {
        "id": "N4c5ZVucbV0-"
      },
      "source": [
        ""
      ],
      "execution_count": null,
      "outputs": []
    }
  ]
}