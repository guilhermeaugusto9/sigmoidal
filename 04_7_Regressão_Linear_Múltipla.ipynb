{
  "nbformat": 4,
  "nbformat_minor": 0,
  "metadata": {
    "colab": {
      "name": "Regressão Linear.ipynb",
      "provenance": [],
      "collapsed_sections": [],
      "include_colab_link": true
    },
    "kernelspec": {
      "name": "python3",
      "display_name": "Python 3"
    }
  },
  "cells": [
    {
      "cell_type": "markdown",
      "metadata": {
        "id": "view-in-github",
        "colab_type": "text"
      },
      "source": [
        "<a href=\"https://colab.research.google.com/github/guilhermeaugusto9/sigmoidal/blob/master/04_7_Regress%C3%A3o_Linear_M%C3%BAltipla.ipynb\" target=\"_parent\"><img src=\"https://colab.research.google.com/assets/colab-badge.svg\" alt=\"Open In Colab\"/></a>"
      ]
    },
    {
      "cell_type": "markdown",
      "metadata": {
        "id": "RvG7V3BNxjnM",
        "colab_type": "text"
      },
      "source": [
        "<img alt=\"Colaboratory logo\" width=\"15%\" src=\"https://raw.githubusercontent.com/carlosfab/escola-data-science/master/img/novo_logo_bg_claro.png\">\n",
        "\n",
        "#### **Data Science na Prática 2.0**\n",
        "*by [sigmoidal.ai](https://sigmoidal.ai)*\n",
        "\n",
        "---"
      ]
    },
    {
      "cell_type": "markdown",
      "metadata": {
        "id": "81XdDOLXem8n",
        "colab_type": "text"
      },
      "source": [
        "# Regressão Linear\n",
        "\n",
        "Uma analise de regressão estuda a relação existente entre uma variável dependente e uma ou mais variáveis independentes. Essa relação é representada por um modelo matemático. Quando temos apenas uma variável independente estabelecendo uma relação linear com a variável dependente, esse modelo é chamado regressão linear simples. Quando há várias variáveis independentes, temos um modelo de regressão linear múltipla.\n",
        " \n",
        "\n",
        "Se você já vendeu qualquer coisa, sabe que é difícil definir um bom preço de venda. Muitas vezes colocamos o preço barato demais (e vendemos na hora) e algumas vezes colocamos o preço tão alto que não aparece nenhum interessado sequer. Se formos falar de imóveis, aí temos vários fatores complicadores.\n",
        "\n",
        "<p align=\"center\">\n",
        "<img src=\"http://sigmoidal.ai/wp-content/uploads/2019/10/Screen-Shot-2019-10-07-at-02.49.34-1.png\" width=\"50%\"></p>\n",
        "\n",
        "Na figura acima, temos o *scatter plot* entre área do imóvel e preço de venda do mesmo para a cidade de Ames, localizada no estado americano de Iowa. Vamos supor que você tenha uma casa com uma área de 1339 $m^2$ e queira colocá-la a venda. Qual seria o preço que você colocaria nela?\n",
        "\n",
        "Uma vez que temos dados de milhares de outras casas e parece esses dados têm uma relação linear, por que não tentar traçar uma reta para inferir o preço da nossa própria casa?\n",
        "\n",
        "<p align=\"center\">\n",
        "<img src=\"http://sigmoidal.ai/wp-content/uploads/2019/10/Screen-Shot-2019-10-07-at-02.52.24-1.png\" width=\"50%\"></p>\n",
        "\n",
        "Uma reta por ser representada por uma equação do tipo $\\hat{y} = \\theta_0 + \\theta_1 x_1$, onde $\\hat{y}$ é o valor que estamos querendo prever.\n",
        "\n",
        "Para saber o \"quão boa\" uma reta é, ou seja, se ela é ideal para representar os nosso pontos, podemos calcuar o erro quadrático médio (*Mean Squared Error* - MSE) para todos os pontos.\n",
        "\n",
        "$$MSE = \\frac{1}{n} \\sum_{i=1}^{n}(y_i - \\hat{y}_i)^2$$\n",
        "\n",
        "Basicamente, essa equação calcula a distância de cada ponto até a reta. Quanto menor for esse valor, melhor é a nossa solução. O algoritmo do `scikit-learn` efetua todos os cálculos para minimizar esse valor ao máximo para nós. Quando ele encontra esse valor *ótimo*, armazena os valores dos coeficientes e do intercepto como atributo da variável.\n",
        "\n",
        "<p align=\"center\">\n",
        "<img src=\"http://sigmoidal.ai/wp-content/uploads/2019/10/1_fX95txC9xSwSPeP6ch2nmg.gif\" width=\"30%\"></p>\n",
        "\n",
        "## Regressão Linear Simples\n",
        "\n",
        "Para demonstrar como implementar uma Regressão Linear Simples, nós iremos usar o *dataset* [House Prices: Advanced Regression Techniques](https://www.kaggle.com/c/house-prices-advanced-regression-techniques/data) juntamente com a biblioteca `scikit-learn`.\n",
        "\n",
        "\n",
        "O [*dataset* original](https://www.kaggle.com/c/house-prices-advanced-regression-techniques/data) que eu estou usando neste *notebook* contém 79 variáveis relativas à imóveis de Ames, uma cidade localizada no estado americano de Iowa, e está disponível para download no Kaggle. No entanto, para facilitar o entendimento dos conceitos básicos, preparei uma versão simplificada desse *dataset*, onde há apenas uma variável. O arquivo `csv` está disponível [neste link](http://dl.dropboxusercontent.com/s/g8cgvjiorjbz54p/precificacao_housing.csv?dl=0).\n",
        "\n",
        "Vou começar importando o arquivo para um *DataFrame* e fazendo uma análise bem rápida deste. Lembre-se, o foco deste módulo não é fazer uma análise exploratória extensiva, mas sim focar na etapa de implementação de modelos de *Machine Learning*.\n"
      ]
    },
    {
      "cell_type": "code",
      "metadata": {
        "id": "YEDrcpEJen6R",
        "colab_type": "code",
        "colab": {
          "base_uri": "https://localhost:8080/",
          "height": 204
        },
        "outputId": "6b0b9d7c-a8e2-490e-e4ea-21abd695109b"
      },
      "source": [
        "# importar os pacotes necessários\n",
        "import pandas as pd\n",
        "import matplotlib.pyplot as plt\n",
        "\n",
        "# importar o arquivo\n",
        "df = pd.read_csv(\"http://dl.dropboxusercontent.com/s/g8cgvjiorjbz54p/precificacao_housing.csv?dl=0\")\n",
        "\n",
        "# ver as primeiras entradas\n",
        "df.head()"
      ],
      "execution_count": null,
      "outputs": [
        {
          "output_type": "execute_result",
          "data": {
            "text/html": [
              "<div>\n",
              "<style scoped>\n",
              "    .dataframe tbody tr th:only-of-type {\n",
              "        vertical-align: middle;\n",
              "    }\n",
              "\n",
              "    .dataframe tbody tr th {\n",
              "        vertical-align: top;\n",
              "    }\n",
              "\n",
              "    .dataframe thead th {\n",
              "        text-align: right;\n",
              "    }\n",
              "</style>\n",
              "<table border=\"1\" class=\"dataframe\">\n",
              "  <thead>\n",
              "    <tr style=\"text-align: right;\">\n",
              "      <th></th>\n",
              "      <th>GrLivArea</th>\n",
              "      <th>SalePrice</th>\n",
              "    </tr>\n",
              "  </thead>\n",
              "  <tbody>\n",
              "    <tr>\n",
              "      <th>0</th>\n",
              "      <td>1710</td>\n",
              "      <td>208500</td>\n",
              "    </tr>\n",
              "    <tr>\n",
              "      <th>1</th>\n",
              "      <td>1262</td>\n",
              "      <td>181500</td>\n",
              "    </tr>\n",
              "    <tr>\n",
              "      <th>2</th>\n",
              "      <td>1786</td>\n",
              "      <td>223500</td>\n",
              "    </tr>\n",
              "    <tr>\n",
              "      <th>3</th>\n",
              "      <td>1717</td>\n",
              "      <td>140000</td>\n",
              "    </tr>\n",
              "    <tr>\n",
              "      <th>4</th>\n",
              "      <td>2198</td>\n",
              "      <td>250000</td>\n",
              "    </tr>\n",
              "  </tbody>\n",
              "</table>\n",
              "</div>"
            ],
            "text/plain": [
              "   GrLivArea  SalePrice\n",
              "0       1710     208500\n",
              "1       1262     181500\n",
              "2       1786     223500\n",
              "3       1717     140000\n",
              "4       2198     250000"
            ]
          },
          "metadata": {
            "tags": []
          },
          "execution_count": 1
        }
      ]
    },
    {
      "cell_type": "markdown",
      "metadata": {
        "id": "Z_BA7vRqijYp",
        "colab_type": "text"
      },
      "source": [
        "O *dataset* importado contém a variável `GrLivArea` contendo o tamanho do imóvel ($m^2$) e a variável alvo `SalePrice` com o preço de venda do mesmo. Vou plotar um gráfico de dispersão para termos ideia de como os pontos estão relacionados.\n"
      ]
    },
    {
      "cell_type": "code",
      "metadata": {
        "id": "P2eoj9A-erFo",
        "colab_type": "code",
        "colab": {
          "base_uri": "https://localhost:8080/",
          "height": 334
        },
        "outputId": "86e11e67-5c7e-42f0-81df-90aeabf848e6"
      },
      "source": [
        "# plotar gráfico de dispersãp.\n",
        "fig, ax = plt.subplots(figsize=(8,5))\n",
        "df.plot.scatter(x='GrLivArea', y='SalePrice', ax=ax)\n",
        "plt.show()"
      ],
      "execution_count": null,
      "outputs": [
        {
          "output_type": "display_data",
          "data": {
            "image/png": "[encoded data removed]",
            "text/plain": [
              "<Figure size 576x360 with 1 Axes>"
            ]
          },
          "metadata": {
            "tags": [],
            "needs_background": "light"
          }
        }
      ]
    },
    {
      "cell_type": "markdown",
      "metadata": {
        "id": "STR1nCWKgqV4",
        "colab_type": "text"
      },
      "source": [
        "### Regressão Linear Simples com o `scikit-learn`\n",
        "\n",
        "Uma vez que você tenha feito toda uma análise exploratória, definido variáveis e preparado os dados adequadamente, chegou o momento de construir a Regressão Linear Simples.\n",
        "\n",
        "Em competições do Kaggle, normalmente são fornecidos dados de treino e teste. Já no mundo real, você deve dividir o seu conjunto entre *train* e *test* de maneira que eles sejam mutuamente exclusivos.\n",
        "\n",
        "Essa etapa é de extrema importância, pois vai tornar o modelo mais genérico e com melhor precisão em relação aos dados novos que venham a ser entrada do mesmo. Neste *dataset*, eu vou separar 20% dos dados para o teste no final.\n",
        "\n"
      ]
    },
    {
      "cell_type": "code",
      "metadata": {
        "id": "ALwopto2jzIy",
        "colab_type": "code",
        "colab": {}
      },
      "source": [
        "# importar bibliotecas\n",
        "from sklearn.model_selection import train_test_split\n",
        "from sklearn.metrics import r2_score\n",
        "from sklearn.metrics import mean_absolute_error\n",
        "from sklearn.metrics import mean_squared_error"
      ],
      "execution_count": null,
      "outputs": []
    },
    {
      "cell_type": "markdown",
      "metadata": {
        "id": "u9HYg6Pi6C2B",
        "colab_type": "text"
      },
      "source": [
        "Eu vou separar a variável dependente (`SalePrice`) da nossa *feature*, e usar a função `train_test_split` para fazer a divisão entre dados de treino e teste."
      ]
    },
    {
      "cell_type": "code",
      "metadata": {
        "id": "GC4kMvoCkOV2",
        "colab_type": "code",
        "colab": {
          "base_uri": "https://localhost:8080/",
          "height": 450
        },
        "outputId": "19d133c9-4f7a-4274-9ed1-151a180c5d3f"
      },
      "source": [
        "# 1. escolher e importar um modelo\n",
        "from sklearn.linear_model import LinearRegression\n",
        "\n",
        "# 2. Instanciar e escolher os hyperparameters\n",
        "model = LinearRegression()\n",
        "\n",
        "# 3. Separar os dados entre feature matrix e target vector - mas atenção com 1-feature (reshape)\n",
        "X = df['GrLivArea']\n",
        "y = df['SalePrice']\n",
        "\n",
        "# 3.1 Dividir o dataset entre treino e teste\n",
        "X_train, X_test, y_train, y_test = train_test_split(X, y)\n",
        "\n",
        "# 4. Fit do modelo (treinar)\n",
        "model.fit(X_train, y_train)\n",
        "\n",
        "# 5. Fazer previsões em cima de novos dados\n",
        "y_pred = model.predict(X_test)"
      ],
      "execution_count": null,
      "outputs": [
        {
          "output_type": "error",
          "ename": "ValueError",
          "evalue": "ignored",
          "traceback": [
            "\u001b[0;31m---------------------------------------------------------------------------\u001b[0m",
            "\u001b[0;31mValueError\u001b[0m                                Traceback (most recent call last)",
            "\u001b[0;32m<ipython-input-4-a0298af1e99a>\u001b[0m in \u001b[0;36m<module>\u001b[0;34m()\u001b[0m\n\u001b[1;32m     13\u001b[0m \u001b[0;34m\u001b[0m\u001b[0m\n\u001b[1;32m     14\u001b[0m \u001b[0;31m# 4. Fit do modelo (treinar)\u001b[0m\u001b[0;34m\u001b[0m\u001b[0;34m\u001b[0m\u001b[0;34m\u001b[0m\u001b[0m\n\u001b[0;32m---> 15\u001b[0;31m \u001b[0mmodel\u001b[0m\u001b[0;34m.\u001b[0m\u001b[0mfit\u001b[0m\u001b[0;34m(\u001b[0m\u001b[0mX_train\u001b[0m\u001b[0;34m,\u001b[0m \u001b[0my_train\u001b[0m\u001b[0;34m)\u001b[0m\u001b[0;34m\u001b[0m\u001b[0;34m\u001b[0m\u001b[0m\n\u001b[0m\u001b[1;32m     16\u001b[0m \u001b[0;34m\u001b[0m\u001b[0m\n\u001b[1;32m     17\u001b[0m \u001b[0;31m# 5. Fazer previsões em cima de novos dados\u001b[0m\u001b[0;34m\u001b[0m\u001b[0;34m\u001b[0m\u001b[0;34m\u001b[0m\u001b[0m\n",
            "\u001b[0;32m/usr/local/lib/python3.6/dist-packages/sklearn/linear_model/_base.py\u001b[0m in \u001b[0;36mfit\u001b[0;34m(self, X, y, sample_weight)\u001b[0m\n\u001b[1;32m    490\u001b[0m         \u001b[0mn_jobs_\u001b[0m \u001b[0;34m=\u001b[0m \u001b[0mself\u001b[0m\u001b[0;34m.\u001b[0m\u001b[0mn_jobs\u001b[0m\u001b[0;34m\u001b[0m\u001b[0;34m\u001b[0m\u001b[0m\n\u001b[1;32m    491\u001b[0m         X, y = check_X_y(X, y, accept_sparse=['csr', 'csc', 'coo'],\n\u001b[0;32m--> 492\u001b[0;31m                          y_numeric=True, multi_output=True)\n\u001b[0m\u001b[1;32m    493\u001b[0m \u001b[0;34m\u001b[0m\u001b[0m\n\u001b[1;32m    494\u001b[0m         \u001b[0;32mif\u001b[0m \u001b[0msample_weight\u001b[0m \u001b[0;32mis\u001b[0m \u001b[0;32mnot\u001b[0m \u001b[0;32mNone\u001b[0m\u001b[0;34m:\u001b[0m\u001b[0;34m\u001b[0m\u001b[0;34m\u001b[0m\u001b[0m\n",
            "\u001b[0;32m/usr/local/lib/python3.6/dist-packages/sklearn/utils/validation.py\u001b[0m in \u001b[0;36mcheck_X_y\u001b[0;34m(X, y, accept_sparse, accept_large_sparse, dtype, order, copy, force_all_finite, ensure_2d, allow_nd, multi_output, ensure_min_samples, ensure_min_features, y_numeric, warn_on_dtype, estimator)\u001b[0m\n\u001b[1;32m    753\u001b[0m                     \u001b[0mensure_min_features\u001b[0m\u001b[0;34m=\u001b[0m\u001b[0mensure_min_features\u001b[0m\u001b[0;34m,\u001b[0m\u001b[0;34m\u001b[0m\u001b[0;34m\u001b[0m\u001b[0m\n\u001b[1;32m    754\u001b[0m                     \u001b[0mwarn_on_dtype\u001b[0m\u001b[0;34m=\u001b[0m\u001b[0mwarn_on_dtype\u001b[0m\u001b[0;34m,\u001b[0m\u001b[0;34m\u001b[0m\u001b[0;34m\u001b[0m\u001b[0m\n\u001b[0;32m--> 755\u001b[0;31m                     estimator=estimator)\n\u001b[0m\u001b[1;32m    756\u001b[0m     \u001b[0;32mif\u001b[0m \u001b[0mmulti_output\u001b[0m\u001b[0;34m:\u001b[0m\u001b[0;34m\u001b[0m\u001b[0;34m\u001b[0m\u001b[0m\n\u001b[1;32m    757\u001b[0m         y = check_array(y, 'csr', force_all_finite=True, ensure_2d=False,\n",
            "\u001b[0;32m/usr/local/lib/python3.6/dist-packages/sklearn/utils/validation.py\u001b[0m in \u001b[0;36mcheck_array\u001b[0;34m(array, accept_sparse, accept_large_sparse, dtype, order, copy, force_all_finite, ensure_2d, allow_nd, ensure_min_samples, ensure_min_features, warn_on_dtype, estimator)\u001b[0m\n\u001b[1;32m    554\u001b[0m                     \u001b[0;34m\"Reshape your data either using array.reshape(-1, 1) if \"\u001b[0m\u001b[0;34m\u001b[0m\u001b[0;34m\u001b[0m\u001b[0m\n\u001b[1;32m    555\u001b[0m                     \u001b[0;34m\"your data has a single feature or array.reshape(1, -1) \"\u001b[0m\u001b[0;34m\u001b[0m\u001b[0;34m\u001b[0m\u001b[0m\n\u001b[0;32m--> 556\u001b[0;31m                     \"if it contains a single sample.\".format(array))\n\u001b[0m\u001b[1;32m    557\u001b[0m \u001b[0;34m\u001b[0m\u001b[0m\n\u001b[1;32m    558\u001b[0m         \u001b[0;31m# in the future np.flexible dtypes will be handled like object dtypes\u001b[0m\u001b[0;34m\u001b[0m\u001b[0;34m\u001b[0m\u001b[0;34m\u001b[0m\u001b[0m\n",
            "\u001b[0;31mValueError\u001b[0m: Expected 2D array, got 1D array instead:\narray=[ 816 1936 1520 ... 1844 1502 1502].\nReshape your data either using array.reshape(-1, 1) if your data has a single feature or array.reshape(1, -1) if it contains a single sample."
          ]
        }
      ]
    },
    {
      "cell_type": "markdown",
      "metadata": {
        "id": "j-GH6AQjl19a",
        "colab_type": "text"
      },
      "source": [
        "Mais importante que se desesperar é entender o que aconteceu. A mensagem de erro acima é por causa do `sklearn.pipeline` do pacote. Ela acontece porque passamos apenas uma variável (*feature*) na variável `X`. Veja esta parte da mensagem do erro:\n",
        "\n",
        "\n",
        "> *...if your data has a single feature or array.reshape(1, -1)*\n",
        "\n",
        "Uma coisa que você deve se lembrar é que o `scikit-learn` espera duas coisas nesta etapa:\n",
        "\n",
        "* Que a variável `X` seja sempre um `np.array` com **duas dimensões**\n",
        "* Que a variável `y` seja sempre um `np.array` com **uma dimensão**\n",
        "\n",
        "Olhe os `prints` abaixo para ver as dimensões de cada variável nossa e ver que não estão de acordo com o que o pacote espera."
      ]
    },
    {
      "cell_type": "code",
      "metadata": {
        "id": "MuPEWChAklsm",
        "colab_type": "code",
        "colab": {
          "base_uri": "https://localhost:8080/",
          "height": 89
        },
        "outputId": "6c10a147-9926-4a3c-cba4-1be8352d97aa"
      },
      "source": [
        "print(\"df:\\t\\t\",df.shape)\n",
        "\n",
        "print(\"X:\\t\\t\",X.shape)\n",
        "\n",
        "print(\"X (reshape):\\t\",X.values.reshape(-1,1).shape)\n",
        "\n",
        "print(\"y:\\t\\t\", y.shape)"
      ],
      "execution_count": null,
      "outputs": [
        {
          "output_type": "stream",
          "text": [
            "df:\t\t (1338, 2)\n",
            "X:\t\t (1338,)\n",
            "X (reshape):\t (1338, 1)\n",
            "y:\t\t (1338,)\n"
          ],
          "name": "stdout"
        }
      ]
    },
    {
      "cell_type": "markdown",
      "metadata": {
        "id": "Nlov8iAwnZhO",
        "colab_type": "text"
      },
      "source": [
        "Isso é fácil de resolver. Quando for preciso mudar a dimensão de um *array* para atender a condição acima, use `.reshape(-1,1)`."
      ]
    },
    {
      "cell_type": "code",
      "metadata": {
        "id": "X81_JKTVknGy",
        "colab_type": "code",
        "colab": {
          "base_uri": "https://localhost:8080/",
          "height": 35
        },
        "outputId": "0fa34726-2943-4b95-a71b-1356dabbb512"
      },
      "source": [
        "# 1. escolher e importar um modelo\n",
        "from sklearn.linear_model import LinearRegression\n",
        "\n",
        "# 2. Escolher os hyperparameters\n",
        "model = LinearRegression()\n",
        "\n",
        "# 3. Separar os dados entre feature matrix e target vector\n",
        "X = df['GrLivArea'].values.reshape(-1,1)\n",
        "y = df['SalePrice']\n",
        "\n",
        "# 3.1 Dividir o dataset entre treino e teste\n",
        "X_train, X_test, y_train, y_test = train_test_split(X, y)\n",
        "\n",
        "# 4. Fit do modelo (treinar)\n",
        "model.fit(X_train, y_train)"
      ],
      "execution_count": null,
      "outputs": [
        {
          "output_type": "execute_result",
          "data": {
            "text/plain": [
              "LinearRegression(copy_X=True, fit_intercept=True, n_jobs=None, normalize=False)"
            ]
          },
          "metadata": {
            "tags": []
          },
          "execution_count": 6
        }
      ]
    },
    {
      "cell_type": "markdown",
      "metadata": {
        "id": "-CH-HcURkrRp",
        "colab_type": "text"
      },
      "source": [
        "Se estamos falando de Regressão Linear, estamos falando de construir reta. Essa reta possui coeficientes associados com os ângulos de inclinação e intercepto. Neste caso específico da Regressão Linear Simples, temos apenas um coeficiente de regressão.\n",
        "\n",
        "Para obtermos os **coeficiente de regressão** e **intercepto**, basta acessar os atributos do modelo diretamente da variável `ml_model`."
      ]
    },
    {
      "cell_type": "code",
      "metadata": {
        "id": "yFIDSoE8lKfm",
        "colab_type": "code",
        "colab": {
          "base_uri": "https://localhost:8080/",
          "height": 53
        },
        "outputId": "83424588-5fcf-454d-af1d-63005f849b98"
      },
      "source": [
        "# imprimir os coeficientes\n",
        "print(\"Coeficiente:\\t\", model.coef_)\n",
        "print(\"Intercepto:\\t\", model.intercept_)"
      ],
      "execution_count": null,
      "outputs": [
        {
          "output_type": "stream",
          "text": [
            "Coeficiente:\t [82.90190209]\n",
            "Intercepto:\t 44951.13518938693\n"
          ],
          "name": "stdout"
        }
      ]
    },
    {
      "cell_type": "markdown",
      "metadata": {
        "id": "Y6BrHJJRpE0M",
        "colab_type": "text"
      },
      "source": [
        "Como estamos trabalhando com um problema de baixa dimensionalidade, é possível plotar a nossa reta, obtida pelo modelo de *Machine Learning* sobre os dados do nosso *dataset*. Veja como ela representa bem nosso conjunto de pontos."
      ]
    },
    {
      "cell_type": "code",
      "metadata": {
        "id": "FFHZ-QOupgaf",
        "colab_type": "code",
        "colab": {
          "base_uri": "https://localhost:8080/",
          "height": 283
        },
        "outputId": "fb190278-8a97-4413-8420-3f0492b19021"
      },
      "source": [
        "# plotar reta e dados\n",
        "fig, ax = plt.subplots()\n",
        "ax.scatter(X, y, s=1, color='blue')\n",
        "ax.plot(X, (model.coef_ * X + model.intercept_), '--r', linewidth=1)"
      ],
      "execution_count": null,
      "outputs": [
        {
          "output_type": "execute_result",
          "data": {
            "text/plain": [
              "[<matplotlib.lines.Line2D at 0x7fb1b23900b8>]"
            ]
          },
          "metadata": {
            "tags": []
          },
          "execution_count": 8
        },
        {
          "output_type": "display_data",
          "data": {
            "image/png": "[encoded data removed]",
            "text/plain": [
              "<Figure size 432x288 with 1 Axes>"
            ]
          },
          "metadata": {
            "tags": [],
            "needs_background": "light"
          }
        }
      ]
    },
    {
      "cell_type": "markdown",
      "metadata": {
        "id": "N42QlEE68yXx",
        "colab_type": "text"
      },
      "source": [
        "Com o modelo treinado, ele já está pronto para fazer previsões em cima de dados novos. Como separamos lá em cima dos dados de teste na variável `y_test`, vamos fazer as previsões usando o método `predict()` e armazenar na variável `y_pred`."
      ]
    },
    {
      "cell_type": "code",
      "metadata": {
        "id": "OakEosiG2j6_",
        "colab_type": "code",
        "colab": {}
      },
      "source": [
        "# 5. Fazer previsões em cima de novos dados\n",
        "y_pred = model.predict(X_test)"
      ],
      "execution_count": null,
      "outputs": []
    },
    {
      "cell_type": "markdown",
      "metadata": {
        "id": "mPfenJ6k2eW3",
        "colab_type": "text"
      },
      "source": [
        "Tem uma frase muito conhecida na área de Comando e Controle (C2) que diz que \"você não controla o que não pode medir\".\n",
        "\n",
        "Um modelo de *Machine Learning* deve ser quantificável, seja em termos de desempenho ou precisão. No caso de modelos de Regressão, \n",
        "Vamos testar o desempenho do modelo em cima do nosso conjunto de testes usando as métricas abaixo:\n",
        "\n",
        "* ***R-Squared -*** métrica popularmente usada para calcular a acurácia do seu modelo. Basicamente, calcula como o seu modelo se encaixa aos seus dados, quantificando a qualidade entre 0 e 1. No caso, a melhor pontuação que seu modelo pode atingir é 1.\n",
        "\n",
        "* ***Mean Absolut Error (MAE) -*** é a média absoluta do erro, representada pela média das somas dos erros individuais (distâncias entre pontos e retas).\n",
        "\n",
        "* ***Mean Squared Error (MSE) -*** é a média dos quadrados dos error e provavelmente a métrica mais conhecida. Tende a penalizar exponencialmente os erros, tratando diferentemente erros pequenos e grandes."
      ]
    },
    {
      "cell_type": "code",
      "metadata": {
        "id": "LzleKM4F9RCz",
        "colab_type": "code",
        "colab": {
          "base_uri": "https://localhost:8080/",
          "height": 71
        },
        "outputId": "6cfa5f1e-7b9c-4cc4-c256-e3eaaaba6fcf"
      },
      "source": [
        "# avaliar o desempenho do modelo\n",
        "print(\"R2 Score:\\t\", r2_score(y_test, y_pred))\n",
        "print(\"MAE:\\t\\t\", mean_absolute_error(y_test, y_pred))\n",
        "print(\"MSE:\\t\\t\", mean_squared_error(y_test, y_pred))"
      ],
      "execution_count": null,
      "outputs": [
        {
          "output_type": "stream",
          "text": [
            "R2 Score:\t 0.43646575546035526\n",
            "MAE:\t\t 27859.555609406063\n",
            "MSE:\t\t 1355229371.893239\n"
          ],
          "name": "stdout"
        }
      ]
    },
    {
      "cell_type": "markdown",
      "metadata": {
        "id": "b8q8PdAv9UvW",
        "colab_type": "text"
      },
      "source": [
        "## Regressão Linear Múltipla\n",
        "\n",
        "O raciocínio usado na Regressão Linear Múltipla é exatamente o mesmo que vimos com a anterior. A diferença é que temos mais variáveis independentes para considerar no nosso modelo.\n",
        "\n",
        "Para demonstrar como implementá-la, vou usar um *dataset* mais completo que o nosso anterior, disponível para download [neste link](http://dl.dropboxusercontent.com/s/gc1rm540g4i670n/precificacao_housing_plus.csv?dl=0).\n",
        "\n",
        "Mantivemos as 1460 entradas, porém temos agora 34 *features*. Vamos importar o arquivo e dar uma olhada nas primeiras entradas."
      ]
    },
    {
      "cell_type": "code",
      "metadata": {
        "id": "I7wI3qsVAVSb",
        "colab_type": "code",
        "colab": {
          "base_uri": "https://localhost:8080/",
          "height": 296
        },
        "outputId": "6e15e32d-660f-4054-b59e-53213dc63864"
      },
      "source": [
        "# importar os pacotes necessários\n",
        "import pandas as pd\n",
        "import matplotlib.pyplot as plt\n",
        "import seaborn as sns\n",
        "from sklearn.model_selection import train_test_split\n",
        "from sklearn.metrics import r2_score\n",
        "from sklearn.metrics import mean_absolute_error\n",
        "from sklearn.metrics import mean_squared_error\n",
        "\n",
        "# importar o arquivo\n",
        "df = pd.read_csv(\"http://dl.dropboxusercontent.com/s/gc1rm540g4i670n/precificacao_housing_plus.csv?dl=1\")\n",
        "\n",
        "# ver as primeiras entradas\n",
        "print(\"Tamanho de df: {}\\n\".format(df.shape))\n",
        "\n",
        "df.drop('Id', axis=1, inplace=True)\n",
        "df.head()"
      ],
      "execution_count": null,
      "outputs": [
        {
          "output_type": "stream",
          "text": [
            "/usr/local/lib/python3.6/dist-packages/statsmodels/tools/_testing.py:19: FutureWarning: pandas.util.testing is deprecated. Use the functions in the public API at pandas.testing instead.\n",
            "  import pandas.util.testing as tm\n"
          ],
          "name": "stderr"
        },
        {
          "output_type": "stream",
          "text": [
            "Tamanho de df: (1460, 35)\n",
            "\n"
          ],
          "name": "stdout"
        },
        {
          "output_type": "execute_result",
          "data": {
            "text/html": [
              "<div>\n",
              "<style scoped>\n",
              "    .dataframe tbody tr th:only-of-type {\n",
              "        vertical-align: middle;\n",
              "    }\n",
              "\n",
              "    .dataframe tbody tr th {\n",
              "        vertical-align: top;\n",
              "    }\n",
              "\n",
              "    .dataframe thead th {\n",
              "        text-align: right;\n",
              "    }\n",
              "</style>\n",
              "<table border=\"1\" class=\"dataframe\">\n",
              "  <thead>\n",
              "    <tr style=\"text-align: right;\">\n",
              "      <th></th>\n",
              "      <th>MSSubClass</th>\n",
              "      <th>LotArea</th>\n",
              "      <th>OverallQual</th>\n",
              "      <th>OverallCond</th>\n",
              "      <th>YearBuilt</th>\n",
              "      <th>YearRemodAdd</th>\n",
              "      <th>BsmtFinSF1</th>\n",
              "      <th>BsmtFinSF2</th>\n",
              "      <th>BsmtUnfSF</th>\n",
              "      <th>TotalBsmtSF</th>\n",
              "      <th>1stFlrSF</th>\n",
              "      <th>2ndFlrSF</th>\n",
              "      <th>LowQualFinSF</th>\n",
              "      <th>GrLivArea</th>\n",
              "      <th>BsmtFullBath</th>\n",
              "      <th>BsmtHalfBath</th>\n",
              "      <th>FullBath</th>\n",
              "      <th>HalfBath</th>\n",
              "      <th>BedroomAbvGr</th>\n",
              "      <th>KitchenAbvGr</th>\n",
              "      <th>TotRmsAbvGrd</th>\n",
              "      <th>Fireplaces</th>\n",
              "      <th>GarageCars</th>\n",
              "      <th>GarageArea</th>\n",
              "      <th>WoodDeckSF</th>\n",
              "      <th>OpenPorchSF</th>\n",
              "      <th>EnclosedPorch</th>\n",
              "      <th>3SsnPorch</th>\n",
              "      <th>ScreenPorch</th>\n",
              "      <th>PoolArea</th>\n",
              "      <th>MiscVal</th>\n",
              "      <th>MoSold</th>\n",
              "      <th>YrSold</th>\n",
              "      <th>SalePrice</th>\n",
              "    </tr>\n",
              "  </thead>\n",
              "  <tbody>\n",
              "    <tr>\n",
              "      <th>0</th>\n",
              "      <td>60</td>\n",
              "      <td>8450</td>\n",
              "      <td>7</td>\n",
              "      <td>5</td>\n",
              "      <td>2003</td>\n",
              "      <td>2003</td>\n",
              "      <td>706</td>\n",
              "      <td>0</td>\n",
              "      <td>150</td>\n",
              "      <td>856</td>\n",
              "      <td>856</td>\n",
              "      <td>854</td>\n",
              "      <td>0</td>\n",
              "      <td>1710</td>\n",
              "      <td>1</td>\n",
              "      <td>0</td>\n",
              "      <td>2</td>\n",
              "      <td>1</td>\n",
              "      <td>3</td>\n",
              "      <td>1</td>\n",
              "      <td>8</td>\n",
              "      <td>0</td>\n",
              "      <td>2</td>\n",
              "      <td>548</td>\n",
              "      <td>0</td>\n",
              "      <td>61</td>\n",
              "      <td>0</td>\n",
              "      <td>0</td>\n",
              "      <td>0</td>\n",
              "      <td>0</td>\n",
              "      <td>0</td>\n",
              "      <td>2</td>\n",
              "      <td>2008</td>\n",
              "      <td>208500</td>\n",
              "    </tr>\n",
              "    <tr>\n",
              "      <th>1</th>\n",
              "      <td>20</td>\n",
              "      <td>9600</td>\n",
              "      <td>6</td>\n",
              "      <td>8</td>\n",
              "      <td>1976</td>\n",
              "      <td>1976</td>\n",
              "      <td>978</td>\n",
              "      <td>0</td>\n",
              "      <td>284</td>\n",
              "      <td>1262</td>\n",
              "      <td>1262</td>\n",
              "      <td>0</td>\n",
              "      <td>0</td>\n",
              "      <td>1262</td>\n",
              "      <td>0</td>\n",
              "      <td>1</td>\n",
              "      <td>2</td>\n",
              "      <td>0</td>\n",
              "      <td>3</td>\n",
              "      <td>1</td>\n",
              "      <td>6</td>\n",
              "      <td>1</td>\n",
              "      <td>2</td>\n",
              "      <td>460</td>\n",
              "      <td>298</td>\n",
              "      <td>0</td>\n",
              "      <td>0</td>\n",
              "      <td>0</td>\n",
              "      <td>0</td>\n",
              "      <td>0</td>\n",
              "      <td>0</td>\n",
              "      <td>5</td>\n",
              "      <td>2007</td>\n",
              "      <td>181500</td>\n",
              "    </tr>\n",
              "    <tr>\n",
              "      <th>2</th>\n",
              "      <td>60</td>\n",
              "      <td>11250</td>\n",
              "      <td>7</td>\n",
              "      <td>5</td>\n",
              "      <td>2001</td>\n",
              "      <td>2002</td>\n",
              "      <td>486</td>\n",
              "      <td>0</td>\n",
              "      <td>434</td>\n",
              "      <td>920</td>\n",
              "      <td>920</td>\n",
              "      <td>866</td>\n",
              "      <td>0</td>\n",
              "      <td>1786</td>\n",
              "      <td>1</td>\n",
              "      <td>0</td>\n",
              "      <td>2</td>\n",
              "      <td>1</td>\n",
              "      <td>3</td>\n",
              "      <td>1</td>\n",
              "      <td>6</td>\n",
              "      <td>1</td>\n",
              "      <td>2</td>\n",
              "      <td>608</td>\n",
              "      <td>0</td>\n",
              "      <td>42</td>\n",
              "      <td>0</td>\n",
              "      <td>0</td>\n",
              "      <td>0</td>\n",
              "      <td>0</td>\n",
              "      <td>0</td>\n",
              "      <td>9</td>\n",
              "      <td>2008</td>\n",
              "      <td>223500</td>\n",
              "    </tr>\n",
              "    <tr>\n",
              "      <th>3</th>\n",
              "      <td>70</td>\n",
              "      <td>9550</td>\n",
              "      <td>7</td>\n",
              "      <td>5</td>\n",
              "      <td>1915</td>\n",
              "      <td>1970</td>\n",
              "      <td>216</td>\n",
              "      <td>0</td>\n",
              "      <td>540</td>\n",
              "      <td>756</td>\n",
              "      <td>961</td>\n",
              "      <td>756</td>\n",
              "      <td>0</td>\n",
              "      <td>1717</td>\n",
              "      <td>1</td>\n",
              "      <td>0</td>\n",
              "      <td>1</td>\n",
              "      <td>0</td>\n",
              "      <td>3</td>\n",
              "      <td>1</td>\n",
              "      <td>7</td>\n",
              "      <td>1</td>\n",
              "      <td>3</td>\n",
              "      <td>642</td>\n",
              "      <td>0</td>\n",
              "      <td>35</td>\n",
              "      <td>272</td>\n",
              "      <td>0</td>\n",
              "      <td>0</td>\n",
              "      <td>0</td>\n",
              "      <td>0</td>\n",
              "      <td>2</td>\n",
              "      <td>2006</td>\n",
              "      <td>140000</td>\n",
              "    </tr>\n",
              "    <tr>\n",
              "      <th>4</th>\n",
              "      <td>60</td>\n",
              "      <td>14260</td>\n",
              "      <td>8</td>\n",
              "      <td>5</td>\n",
              "      <td>2000</td>\n",
              "      <td>2000</td>\n",
              "      <td>655</td>\n",
              "      <td>0</td>\n",
              "      <td>490</td>\n",
              "      <td>1145</td>\n",
              "      <td>1145</td>\n",
              "      <td>1053</td>\n",
              "      <td>0</td>\n",
              "      <td>2198</td>\n",
              "      <td>1</td>\n",
              "      <td>0</td>\n",
              "      <td>2</td>\n",
              "      <td>1</td>\n",
              "      <td>4</td>\n",
              "      <td>1</td>\n",
              "      <td>9</td>\n",
              "      <td>1</td>\n",
              "      <td>3</td>\n",
              "      <td>836</td>\n",
              "      <td>192</td>\n",
              "      <td>84</td>\n",
              "      <td>0</td>\n",
              "      <td>0</td>\n",
              "      <td>0</td>\n",
              "      <td>0</td>\n",
              "      <td>0</td>\n",
              "      <td>12</td>\n",
              "      <td>2008</td>\n",
              "      <td>250000</td>\n",
              "    </tr>\n",
              "  </tbody>\n",
              "</table>\n",
              "</div>"
            ],
            "text/plain": [
              "   MSSubClass  LotArea  OverallQual  ...  MoSold  YrSold  SalePrice\n",
              "0          60     8450            7  ...       2    2008     208500\n",
              "1          20     9600            6  ...       5    2007     181500\n",
              "2          60    11250            7  ...       9    2008     223500\n",
              "3          70     9550            7  ...       2    2006     140000\n",
              "4          60    14260            8  ...      12    2008     250000\n",
              "\n",
              "[5 rows x 34 columns]"
            ]
          },
          "metadata": {
            "tags": []
          },
          "execution_count": 11
        }
      ]
    },
    {
      "cell_type": "markdown",
      "metadata": {
        "id": "Yswhe3K3BF5P",
        "colab_type": "text"
      },
      "source": [
        "Exatamente da mesma maneira, vou dividir os dados entre teste-treino, construir o modelo e executar o método `fit(X_train, y_train)`."
      ]
    },
    {
      "cell_type": "code",
      "metadata": {
        "id": "cZu3f10PAgqK",
        "colab_type": "code",
        "colab": {}
      },
      "source": [
        "# 1. escolher e importar um modelo\n",
        "from sklearn.linear_model import LinearRegression\n",
        "\n",
        "# 2. Escolher os hyperparameters\n",
        "model = LinearRegression()\n",
        "\n",
        "# 3. Separar os dados entre feature matrix e target vector - mas atenção com 1-feature (reshape)\n",
        "X = df.drop('SalePrice', axis=1)\n",
        "y = df['SalePrice']\n",
        "\n",
        "# dividir o dataset entre treino e teste\n",
        "X_train, X_test, y_train, y_test = train_test_split(X, y)\n",
        "\n",
        "# 4. Fit do modelo (treinar)\n",
        "model.fit(X_train, y_train)\n",
        "\n",
        "# 5. Fazer previsões em cima de novos dados\n",
        "y_pred = model.predict(X_test)"
      ],
      "execution_count": null,
      "outputs": []
    },
    {
      "cell_type": "markdown",
      "metadata": {
        "id": "gS71v1rvBEaL",
        "colab_type": "text"
      },
      "source": [
        "Dê uma paradinha agora e compare com o exemplo da Regressão Linear Simples. Qual a diferença? \n",
        "\n",
        "Quando tentamos passar uma única *feature*, era passada uma estrutura de apenas uma dimensão, o que fazia o `scikit-learn` a dar um erro. No entanto, quando usamos mais de uma *feature*, já temos objetos de duas dimensões sem a necessidade de redimensionar. Veja os `prints` abaixo para ver as dimensões de cada variável nossa e comparar com o exemplo anterior."
      ]
    },
    {
      "cell_type": "code",
      "metadata": {
        "id": "8n6_P-R3BZsN",
        "colab_type": "code",
        "colab": {
          "base_uri": "https://localhost:8080/",
          "height": 71
        },
        "outputId": "016d0d4b-93ca-481a-daad-d0117b4e58b5"
      },
      "source": [
        "print(\"df:\\t\\t\",df.shape)\n",
        "\n",
        "print(\"X:\\t\\t\",X.shape)\n",
        "\n",
        "print(\"y:\\t\\t\", y.shape)"
      ],
      "execution_count": null,
      "outputs": [
        {
          "output_type": "stream",
          "text": [
            "df:\t\t (1460, 34)\n",
            "X:\t\t (1460, 33)\n",
            "y:\t\t (1460,)\n"
          ],
          "name": "stdout"
        }
      ]
    },
    {
      "cell_type": "markdown",
      "metadata": {
        "id": "LFrZzMI_BbUo",
        "colab_type": "text"
      },
      "source": [
        "Se na Regressão Linear Simples tínhamos apenas um coeficiente e um intercepto, agora temps um coeficiente para cada variável. Para obtermos os **coeficientes de regressão** e o **intercept**, podemos acessar os atributos do modelo diretamente da variável `ml_model`.\n"
      ]
    },
    {
      "cell_type": "code",
      "metadata": {
        "id": "yzW9i2l4BhDT",
        "colab_type": "code",
        "colab": {
          "base_uri": "https://localhost:8080/",
          "height": 197
        },
        "outputId": "9a7173d7-d77a-4e47-fea8-8688033139c1"
      },
      "source": [
        "# imprimir os coeficientes\n",
        "print(\"Coeficiente:\\t\", model.coef_)\n",
        "print(\"Intercepto:\\t\", model.intercept_)"
      ],
      "execution_count": null,
      "outputs": [
        {
          "output_type": "stream",
          "text": [
            "Coeficiente:\t [-1.92211722e+02  3.13186172e-01  2.01215487e+04  4.26746149e+03\n",
            "  2.59195704e+02  1.27042036e+02  1.03268783e+01 -1.98470642e+00\n",
            "  1.12332342e-01  8.45450424e+00  1.59405785e+01  1.43232421e+01\n",
            "  2.88588520e+00  3.31497058e+01  8.80781328e+03  2.66064205e+03\n",
            "  6.74499712e+03  3.89085504e+02 -8.60620219e+03 -9.48687369e+03\n",
            "  4.22962642e+03  3.87676330e+03  1.21855300e+04 -4.46253447e-01\n",
            "  2.43017278e+01 -2.44793871e+01 -8.29665266e+00 -6.99160491e+00\n",
            "  5.10860474e+01 -7.15040890e+01 -2.00164279e+00 -1.03758166e+02\n",
            " -1.90164702e+01]\n",
            "Intercepto:\t -801242.8791640124\n"
          ],
          "name": "stdout"
        }
      ]
    },
    {
      "cell_type": "markdown",
      "metadata": {
        "id": "BlklJ5rKBikV",
        "colab_type": "text"
      },
      "source": [
        "Vamos testar o desempenho do modelo em cima do nosso conjunto de testes. Para isso, vou colocar a variável `X_test` como argumento do `ml_model.predict()`, salvar as previsões e verificar o desempenho em cima das métricas já apresentadas."
      ]
    },
    {
      "cell_type": "code",
      "metadata": {
        "id": "ukXkkQNnB0F2",
        "colab_type": "code",
        "colab": {
          "base_uri": "https://localhost:8080/",
          "height": 71
        },
        "outputId": "e41325ed-45ce-44d4-cd90-90b0df7c39c6"
      },
      "source": [
        "# verificar desempenho do modelo\n",
        "print(\"R2 Score:\\t\", r2_score(y_test, y_pred))\n",
        "print(\"MAE:\\t\\t\", mean_absolute_error(y_test, y_pred))\n",
        "print(\"MSE:\\t\\t\", mean_squared_error(y_test, y_pred))"
      ],
      "execution_count": null,
      "outputs": [
        {
          "output_type": "stream",
          "text": [
            "R2 Score:\t 0.8331157708229815\n",
            "MAE:\t\t 20638.480501041082\n",
            "MSE:\t\t 815820674.1903856\n"
          ],
          "name": "stdout"
        }
      ]
    },
    {
      "cell_type": "markdown",
      "metadata": {
        "id": "AwI01617B9Yh",
        "colab_type": "text"
      },
      "source": [
        "Veja como todas as métricas avaliadas tiveram uma melhora significativa. Uma vez que o modelo tinha à disposição mais *features* para treinar, conseguiu se tornar mais preciso também."
      ]
    }
  ]
}