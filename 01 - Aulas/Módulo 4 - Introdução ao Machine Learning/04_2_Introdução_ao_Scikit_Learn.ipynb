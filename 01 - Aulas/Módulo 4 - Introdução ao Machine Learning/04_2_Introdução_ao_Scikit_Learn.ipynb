{
  "nbformat": 4,
  "nbformat_minor": 0,
  "metadata": {
    "colab": {
      "name": "Introdução ao Scikit-Learn.ipynb",
      "provenance": [],
      "include_colab_link": true
    },
    "kernelspec": {
      "name": "python3",
      "display_name": "Python 3"
    }
  },
  "cells": [
    {
      "cell_type": "markdown",
      "metadata": {
        "id": "view-in-github",
        "colab_type": "text"
      },
      "source": [
        "<a href=\"https://colab.research.google.com/github/guilhermeaugusto9/sigmoidal/blob/master/04_1.0_Introdu%C3%A7%C3%A3o_ao_Scikit_Learn.ipynb\" target=\"_parent\"><img src=\"https://colab.research.google.com/assets/colab-badge.svg\" alt=\"Open In Colab\"/></a>"
      ]
    },
    {
      "cell_type": "markdown",
      "metadata": {
        "id": "bWRb5OeanALE",
        "colab_type": "text"
      },
      "source": [
        "<img alt=\"Colaboratory logo\" width=\"15%\" src=\"https://raw.githubusercontent.com/carlosfab/escola-data-science/master/img/novo_logo_bg_claro.png\">\n",
        "\n",
        "#### **Data Science na Prática 2.0**\n",
        "*by [sigmoidal.ai](https://sigmoidal.ai)*\n",
        "\n",
        "---\n"
      ]
    },
    {
      "cell_type": "markdown",
      "metadata": {
        "id": "uBA4jiBinRaW",
        "colab_type": "text"
      },
      "source": [
        "# Introdução ao Scikit-Learn\n",
        "\n",
        "O projeto `Scikit-learn` visa providenciar uma biblioteca de machine learning para Python.\n",
        "\n",
        "Pensada para casar com os pacotes científicos que orbitam em volta das bibliotecas `Numpy` e `Scipy`, a visão do Scikit-learn é a de ser uma ferramenta eficiente e estável, ao mesmo tempo que seja acessível aos não-experts em machine learning.\n",
        "\n",
        "De acordo com a sua [documentação oficial](https://scikit-learn.org/stable/getting_started.html), o `Scikit-learn` é uma biblioteca *open source* que suporta aprendizado supervisionado e não supervisionado, além de prover várias ferramentas para *model fitting*, pré-processamento de dados, seleção de modelos e avaliação, entre outras várias utilidades.\n",
        "\n",
        "Para aprofundar na arquitetura da biblioteca, recomendo ler uma das melhores referências que encontrei, o paper [API design for machine learning software: experiences from the scikit-learn project](https://arxiv.org/abs/1309.0238)."
      ]
    },
    {
      "cell_type": "markdown",
      "metadata": {
        "id": "IxLNU9fF-1lW",
        "colab_type": "text"
      },
      "source": [
        "## Representação dos dados no `Scikit-learn`\n",
        "\n",
        "A opção da equipe de desenvolvimento da biblioteca foi escolher a representação de dados que mais se pareça com a representação matricial. Na prática, os *datasets* são codificados de duas maneira possíveis:\n",
        "\n",
        "1. Arrays multidimensionais do `Numpy`, para dados densos; e\n",
        "2. Matrizes esparças do `Scipy`, para dados esparços.\n",
        "\n",
        "De acordo com o paper referenciado anteriormente, a decisão por usar esse tipo de representação, mesmo havendo outras mais sofisticadas, foi devido ao fato de isso permitir contar com toda a eficiência das operações vetorizadas do `Numpy` e `Scipy` - além de deixar o código enxuto e legível."
      ]
    },
    {
      "cell_type": "code",
      "metadata": {
        "id": "C7NB_6fiornN",
        "colab_type": "code",
        "colab": {
          "base_uri": "https://localhost:8080/",
          "height": 204
        },
        "outputId": "03b54de3-c8cc-44c1-a8ca-d438665cad28"
      },
      "source": [
        "import pandas as pd\n",
        "df = pd.read_csv(\"https://raw.githubusercontent.com/carlosfab/dsnp2/master/datasets/heart-disease-uci.csv\")\n",
        "df.head()"
      ],
      "execution_count": null,
      "outputs": [
        {
          "output_type": "execute_result",
          "data": {
            "text/html": [
              "<div>\n",
              "<style scoped>\n",
              "    .dataframe tbody tr th:only-of-type {\n",
              "        vertical-align: middle;\n",
              "    }\n",
              "\n",
              "    .dataframe tbody tr th {\n",
              "        vertical-align: top;\n",
              "    }\n",
              "\n",
              "    .dataframe thead th {\n",
              "        text-align: right;\n",
              "    }\n",
              "</style>\n",
              "<table border=\"1\" class=\"dataframe\">\n",
              "  <thead>\n",
              "    <tr style=\"text-align: right;\">\n",
              "      <th></th>\n",
              "      <th>age</th>\n",
              "      <th>sex</th>\n",
              "      <th>cp</th>\n",
              "      <th>trestbps</th>\n",
              "      <th>chol</th>\n",
              "      <th>fbs</th>\n",
              "      <th>restecg</th>\n",
              "      <th>thalach</th>\n",
              "      <th>exang</th>\n",
              "      <th>oldpeak</th>\n",
              "      <th>slope</th>\n",
              "      <th>ca</th>\n",
              "      <th>thal</th>\n",
              "      <th>num</th>\n",
              "    </tr>\n",
              "  </thead>\n",
              "  <tbody>\n",
              "    <tr>\n",
              "      <th>0</th>\n",
              "      <td>63.0</td>\n",
              "      <td>1.0</td>\n",
              "      <td>1.0</td>\n",
              "      <td>145.0</td>\n",
              "      <td>233.0</td>\n",
              "      <td>1.0</td>\n",
              "      <td>2.0</td>\n",
              "      <td>150.0</td>\n",
              "      <td>0.0</td>\n",
              "      <td>2.3</td>\n",
              "      <td>3.0</td>\n",
              "      <td>0.0</td>\n",
              "      <td>6.0</td>\n",
              "      <td>0</td>\n",
              "    </tr>\n",
              "    <tr>\n",
              "      <th>1</th>\n",
              "      <td>67.0</td>\n",
              "      <td>1.0</td>\n",
              "      <td>4.0</td>\n",
              "      <td>160.0</td>\n",
              "      <td>286.0</td>\n",
              "      <td>0.0</td>\n",
              "      <td>2.0</td>\n",
              "      <td>108.0</td>\n",
              "      <td>1.0</td>\n",
              "      <td>1.5</td>\n",
              "      <td>2.0</td>\n",
              "      <td>3.0</td>\n",
              "      <td>3.0</td>\n",
              "      <td>2</td>\n",
              "    </tr>\n",
              "    <tr>\n",
              "      <th>2</th>\n",
              "      <td>67.0</td>\n",
              "      <td>1.0</td>\n",
              "      <td>4.0</td>\n",
              "      <td>120.0</td>\n",
              "      <td>229.0</td>\n",
              "      <td>0.0</td>\n",
              "      <td>2.0</td>\n",
              "      <td>129.0</td>\n",
              "      <td>1.0</td>\n",
              "      <td>2.6</td>\n",
              "      <td>2.0</td>\n",
              "      <td>2.0</td>\n",
              "      <td>7.0</td>\n",
              "      <td>1</td>\n",
              "    </tr>\n",
              "    <tr>\n",
              "      <th>3</th>\n",
              "      <td>37.0</td>\n",
              "      <td>1.0</td>\n",
              "      <td>3.0</td>\n",
              "      <td>130.0</td>\n",
              "      <td>250.0</td>\n",
              "      <td>0.0</td>\n",
              "      <td>0.0</td>\n",
              "      <td>187.0</td>\n",
              "      <td>0.0</td>\n",
              "      <td>3.5</td>\n",
              "      <td>3.0</td>\n",
              "      <td>0.0</td>\n",
              "      <td>3.0</td>\n",
              "      <td>0</td>\n",
              "    </tr>\n",
              "    <tr>\n",
              "      <th>4</th>\n",
              "      <td>41.0</td>\n",
              "      <td>0.0</td>\n",
              "      <td>2.0</td>\n",
              "      <td>130.0</td>\n",
              "      <td>204.0</td>\n",
              "      <td>0.0</td>\n",
              "      <td>2.0</td>\n",
              "      <td>172.0</td>\n",
              "      <td>0.0</td>\n",
              "      <td>1.4</td>\n",
              "      <td>1.0</td>\n",
              "      <td>0.0</td>\n",
              "      <td>3.0</td>\n",
              "      <td>0</td>\n",
              "    </tr>\n",
              "  </tbody>\n",
              "</table>\n",
              "</div>"
            ],
            "text/plain": [
              "    age  sex   cp  trestbps   chol  fbs  ...  exang  oldpeak  slope   ca  thal  num\n",
              "0  63.0  1.0  1.0     145.0  233.0  1.0  ...    0.0      2.3    3.0  0.0   6.0    0\n",
              "1  67.0  1.0  4.0     160.0  286.0  0.0  ...    1.0      1.5    2.0  3.0   3.0    2\n",
              "2  67.0  1.0  4.0     120.0  229.0  0.0  ...    1.0      2.6    2.0  2.0   7.0    1\n",
              "3  37.0  1.0  3.0     130.0  250.0  0.0  ...    0.0      3.5    3.0  0.0   3.0    0\n",
              "4  41.0  0.0  2.0     130.0  204.0  0.0  ...    0.0      1.4    1.0  0.0   3.0    0\n",
              "\n",
              "[5 rows x 14 columns]"
            ]
          },
          "metadata": {
            "tags": []
          },
          "execution_count": 1
        }
      ]
    },
    {
      "cell_type": "markdown",
      "metadata": {
        "id": "EMl5Pr1gEjgv",
        "colab_type": "text"
      },
      "source": [
        "Como você já sabe, cada linha representa uma entrada única, um lançamento no banco de dados e cada coluna representa uma *feature* (variável, atributo).\n",
        "\n",
        "No caso desse DataFrame, para criarmos um modelo de regressão, seria necessário dividí-lo em uma matriz `X` contendo as variáveis independentes (*features*) e um vetor alvo `y` contendo as variáveis dependentes (variáveis alvos)."
      ]
    },
    {
      "cell_type": "code",
      "metadata": {
        "id": "afUdUI0xHTiw",
        "colab_type": "code",
        "colab": {
          "base_uri": "https://localhost:8080/",
          "height": 71
        },
        "outputId": "25fc73ba-c0d4-465f-daac-b9f22df0a6ae"
      },
      "source": [
        "X = df.drop('num', axis=1)\n",
        "y = df.num\n",
        "\n",
        "print(\"df.shape:\\t{}\".format(df.shape))\n",
        "print(\"X.shape:\\t{}\".format(X.shape))\n",
        "print(\"y.shape:\\t{}\".format(y.shape))"
      ],
      "execution_count": null,
      "outputs": [
        {
          "output_type": "stream",
          "text": [
            "df.shape:\t(303, 14)\n",
            "X.shape:\t(303, 13)\n",
            "y.shape:\t(303,)\n"
          ],
          "name": "stdout"
        }
      ]
    },
    {
      "cell_type": "markdown",
      "metadata": {
        "id": "bFmObphCHjpu",
        "colab_type": "text"
      },
      "source": [
        "## Interfaces do `Scikit-learn`\n",
        "\n",
        "O design da biblioteca é organizado em volta de [três APIs fundamentais](https://towardsdatascience.com/scikit-learn-design-principles-d1371958059b), pilares básicos do `Scikit-learn`: ***Estimator, Predictor*** e ***Transformer***, e é uma prova do poder que dos *design patterns*.\n",
        "\n",
        "Tenha em mente que as interfaces não se excluem ou tem um limite bem definido. Na verdade, elas são complementares. Vamos conhecer as três interfaces.\n",
        "\n",
        "### Estimator API\n",
        "\n",
        "Fazem parte do coração do `Scikit-learn`. É por meio dessa interface que você vai instanciar os objetos e rodar o método `fit` para treinar seu modelo.\n",
        "\n",
        "Quero reforçar aqui que todo algoritmo de machine learning da biblioteca, é implementado pela API Estimator.\n",
        "\n",
        "[Como resumiu bem o autor Jake VanderPlas](https://jakevdp.github.io/PythonDataScienceHandbook/05.02-introducing-scikit-learn.html), autor do livro *Python Data Science Handbook*, os passos mais comuns para usar essa API são:\n",
        "\n",
        "1. Escolher a classe do modelo, por meio da importação da *estimator class* apropriada dentro do `Scikit-learn`.\n",
        "2. Escolher os  hiperparâmetros do modelo, instanciando essa classe com os valores desejados.\n",
        "3. Separar os dados entre matriz de *features* e vetor alvo.\n",
        "4. Fit do modelo, rodando o método `fit()` na instância do modelo.\n",
        "5. Aplicar o modelo aos dados novos, que pode ser:\n",
        "    * Para aprendizado supervisionado, comumente é utilizado o método `predict()`.\n",
        "    * Para aprendizado não supervisionado, comumente transformamos ou inferimos as propriedades dos dados usando `transform()` ou `predict()`."
      ]
    },
    {
      "cell_type": "code",
      "metadata": {
        "id": "ozj6fGcQ2uSg",
        "colab_type": "code",
        "colab": {
          "base_uri": "https://localhost:8080/",
          "height": 107
        },
        "outputId": "f60bd5eb-c29a-41ab-8358-a6f56501da1e"
      },
      "source": [
        "from sklearn.linear_model import LogisticRegression\n",
        "\n",
        "model = LogisticRegression(max_iter=10000, penalty='l2')\n",
        "model.fit(X, y)"
      ],
      "execution_count": null,
      "outputs": [
        {
          "output_type": "execute_result",
          "data": {
            "text/plain": [
              "LogisticRegression(C=1.0, class_weight=None, dual=False, fit_intercept=True,\n",
              "                   intercept_scaling=1, l1_ratio=None, max_iter=10000,\n",
              "                   multi_class='auto', n_jobs=None, penalty='l2',\n",
              "                   random_state=None, solver='lbfgs', tol=0.0001, verbose=0,\n",
              "                   warm_start=False)"
            ]
          },
          "metadata": {
            "tags": []
          },
          "execution_count": 3
        }
      ]
    },
    {
      "cell_type": "markdown",
      "metadata": {
        "id": "OyvGg-Mq4P7c",
        "colab_type": "text"
      },
      "source": [
        "### Predictor API\n",
        "\n",
        "O *predictor interface* adiciona uma camada de previsão, onde recebe um array *X_test* e produz uma previsão para *X_test*.\n",
        "\n",
        "No caso do aprendizado supervisionado, ele retorna um label com a classe prevista ou o valor calculado pelo modelo de machine learning.\n",
        "\n",
        "Alguns modelos também trazem o método `predict_proba`, para informar qual a probabilidadade daquele *input* ser mesmo da classe prevista.\n",
        "\n",
        "Por fim, ainda de acordo com o [paper citado no inicio deste notebook](https://arxiv.org/abs/1309.0238), essa interface traz ainda uma função *score*, para mensurar a perfomance do modelo."
      ]
    },
    {
      "cell_type": "code",
      "metadata": {
        "id": "LNIpurso4QnN",
        "colab_type": "code",
        "colab": {
          "base_uri": "https://localhost:8080/",
          "height": 35
        },
        "outputId": "9f0bbb1b-e906-4819-9346-f480c574e061"
      },
      "source": [
        "import numpy as np\n",
        "X_test = np.array([36, 1.0, 2.0, 146.9, 210.6, 1.0, 2.0, 183.8, 0.0, 2.1, 2.1, 0.0, 5.0]).reshape(1, -1)\n",
        "model.predict(X_test)"
      ],
      "execution_count": null,
      "outputs": [
        {
          "output_type": "execute_result",
          "data": {
            "text/plain": [
              "array([0])"
            ]
          },
          "metadata": {
            "tags": []
          },
          "execution_count": 4
        }
      ]
    },
    {
      "cell_type": "markdown",
      "metadata": {
        "id": "8uesQNql4JwU",
        "colab_type": "text"
      },
      "source": [
        "### Transformer API\n",
        "\n",
        "Como a maior parte dos dados reais irá demandar um tratamento (ou passar por um filtro), a *transformer interface* define o método `transform`, que recebe um input `X` e devolve um output transformado `X`.\n",
        "\n",
        "Feature extraction, redução de dimensionalidade, padronização, normalização, entre outros, são todos fornecidos por essa API. Veja o exemplo abaixo."
      ]
    },
    {
      "cell_type": "code",
      "metadata": {
        "id": "Z2NzgczGJd8e",
        "colab_type": "code",
        "colab": {}
      },
      "source": [
        "from sklearn.preprocessing import StandardScaler\n",
        "\n",
        "scaler = StandardScaler()\n",
        "scaler.fit(X)\n",
        "X_scaler = scaler.transform(X)"
      ],
      "execution_count": null,
      "outputs": []
    },
    {
      "cell_type": "code",
      "metadata": {
        "id": "bieilvVWrODJ",
        "colab_type": "code",
        "colab": {
          "base_uri": "https://localhost:8080/",
          "height": 419
        },
        "outputId": "5d5ed1a9-d01e-4cbd-a04e-fee648c9d2c1"
      },
      "source": [
        "X"
      ],
      "execution_count": null,
      "outputs": [
        {
          "output_type": "execute_result",
          "data": {
            "text/html": [
              "<div>\n",
              "<style scoped>\n",
              "    .dataframe tbody tr th:only-of-type {\n",
              "        vertical-align: middle;\n",
              "    }\n",
              "\n",
              "    .dataframe tbody tr th {\n",
              "        vertical-align: top;\n",
              "    }\n",
              "\n",
              "    .dataframe thead th {\n",
              "        text-align: right;\n",
              "    }\n",
              "</style>\n",
              "<table border=\"1\" class=\"dataframe\">\n",
              "  <thead>\n",
              "    <tr style=\"text-align: right;\">\n",
              "      <th></th>\n",
              "      <th>age</th>\n",
              "      <th>sex</th>\n",
              "      <th>cp</th>\n",
              "      <th>trestbps</th>\n",
              "      <th>chol</th>\n",
              "      <th>fbs</th>\n",
              "      <th>restecg</th>\n",
              "      <th>thalach</th>\n",
              "      <th>exang</th>\n",
              "      <th>oldpeak</th>\n",
              "      <th>slope</th>\n",
              "      <th>ca</th>\n",
              "      <th>thal</th>\n",
              "    </tr>\n",
              "  </thead>\n",
              "  <tbody>\n",
              "    <tr>\n",
              "      <th>0</th>\n",
              "      <td>63.0</td>\n",
              "      <td>1.0</td>\n",
              "      <td>1.0</td>\n",
              "      <td>145.0</td>\n",
              "      <td>233.0</td>\n",
              "      <td>1.0</td>\n",
              "      <td>2.0</td>\n",
              "      <td>150.0</td>\n",
              "      <td>0.0</td>\n",
              "      <td>2.3</td>\n",
              "      <td>3.0</td>\n",
              "      <td>0.0</td>\n",
              "      <td>6.0</td>\n",
              "    </tr>\n",
              "    <tr>\n",
              "      <th>1</th>\n",
              "      <td>67.0</td>\n",
              "      <td>1.0</td>\n",
              "      <td>4.0</td>\n",
              "      <td>160.0</td>\n",
              "      <td>286.0</td>\n",
              "      <td>0.0</td>\n",
              "      <td>2.0</td>\n",
              "      <td>108.0</td>\n",
              "      <td>1.0</td>\n",
              "      <td>1.5</td>\n",
              "      <td>2.0</td>\n",
              "      <td>3.0</td>\n",
              "      <td>3.0</td>\n",
              "    </tr>\n",
              "    <tr>\n",
              "      <th>2</th>\n",
              "      <td>67.0</td>\n",
              "      <td>1.0</td>\n",
              "      <td>4.0</td>\n",
              "      <td>120.0</td>\n",
              "      <td>229.0</td>\n",
              "      <td>0.0</td>\n",
              "      <td>2.0</td>\n",
              "      <td>129.0</td>\n",
              "      <td>1.0</td>\n",
              "      <td>2.6</td>\n",
              "      <td>2.0</td>\n",
              "      <td>2.0</td>\n",
              "      <td>7.0</td>\n",
              "    </tr>\n",
              "    <tr>\n",
              "      <th>3</th>\n",
              "      <td>37.0</td>\n",
              "      <td>1.0</td>\n",
              "      <td>3.0</td>\n",
              "      <td>130.0</td>\n",
              "      <td>250.0</td>\n",
              "      <td>0.0</td>\n",
              "      <td>0.0</td>\n",
              "      <td>187.0</td>\n",
              "      <td>0.0</td>\n",
              "      <td>3.5</td>\n",
              "      <td>3.0</td>\n",
              "      <td>0.0</td>\n",
              "      <td>3.0</td>\n",
              "    </tr>\n",
              "    <tr>\n",
              "      <th>4</th>\n",
              "      <td>41.0</td>\n",
              "      <td>0.0</td>\n",
              "      <td>2.0</td>\n",
              "      <td>130.0</td>\n",
              "      <td>204.0</td>\n",
              "      <td>0.0</td>\n",
              "      <td>2.0</td>\n",
              "      <td>172.0</td>\n",
              "      <td>0.0</td>\n",
              "      <td>1.4</td>\n",
              "      <td>1.0</td>\n",
              "      <td>0.0</td>\n",
              "      <td>3.0</td>\n",
              "    </tr>\n",
              "    <tr>\n",
              "      <th>...</th>\n",
              "      <td>...</td>\n",
              "      <td>...</td>\n",
              "      <td>...</td>\n",
              "      <td>...</td>\n",
              "      <td>...</td>\n",
              "      <td>...</td>\n",
              "      <td>...</td>\n",
              "      <td>...</td>\n",
              "      <td>...</td>\n",
              "      <td>...</td>\n",
              "      <td>...</td>\n",
              "      <td>...</td>\n",
              "      <td>...</td>\n",
              "    </tr>\n",
              "    <tr>\n",
              "      <th>298</th>\n",
              "      <td>45.0</td>\n",
              "      <td>1.0</td>\n",
              "      <td>1.0</td>\n",
              "      <td>110.0</td>\n",
              "      <td>264.0</td>\n",
              "      <td>0.0</td>\n",
              "      <td>0.0</td>\n",
              "      <td>132.0</td>\n",
              "      <td>0.0</td>\n",
              "      <td>1.2</td>\n",
              "      <td>2.0</td>\n",
              "      <td>0.0</td>\n",
              "      <td>7.0</td>\n",
              "    </tr>\n",
              "    <tr>\n",
              "      <th>299</th>\n",
              "      <td>68.0</td>\n",
              "      <td>1.0</td>\n",
              "      <td>4.0</td>\n",
              "      <td>144.0</td>\n",
              "      <td>193.0</td>\n",
              "      <td>1.0</td>\n",
              "      <td>0.0</td>\n",
              "      <td>141.0</td>\n",
              "      <td>0.0</td>\n",
              "      <td>3.4</td>\n",
              "      <td>2.0</td>\n",
              "      <td>2.0</td>\n",
              "      <td>7.0</td>\n",
              "    </tr>\n",
              "    <tr>\n",
              "      <th>300</th>\n",
              "      <td>57.0</td>\n",
              "      <td>1.0</td>\n",
              "      <td>4.0</td>\n",
              "      <td>130.0</td>\n",
              "      <td>131.0</td>\n",
              "      <td>0.0</td>\n",
              "      <td>0.0</td>\n",
              "      <td>115.0</td>\n",
              "      <td>1.0</td>\n",
              "      <td>1.2</td>\n",
              "      <td>2.0</td>\n",
              "      <td>1.0</td>\n",
              "      <td>7.0</td>\n",
              "    </tr>\n",
              "    <tr>\n",
              "      <th>301</th>\n",
              "      <td>57.0</td>\n",
              "      <td>0.0</td>\n",
              "      <td>2.0</td>\n",
              "      <td>130.0</td>\n",
              "      <td>236.0</td>\n",
              "      <td>0.0</td>\n",
              "      <td>2.0</td>\n",
              "      <td>174.0</td>\n",
              "      <td>0.0</td>\n",
              "      <td>0.0</td>\n",
              "      <td>2.0</td>\n",
              "      <td>1.0</td>\n",
              "      <td>3.0</td>\n",
              "    </tr>\n",
              "    <tr>\n",
              "      <th>302</th>\n",
              "      <td>38.0</td>\n",
              "      <td>1.0</td>\n",
              "      <td>3.0</td>\n",
              "      <td>138.0</td>\n",
              "      <td>175.0</td>\n",
              "      <td>0.0</td>\n",
              "      <td>0.0</td>\n",
              "      <td>173.0</td>\n",
              "      <td>0.0</td>\n",
              "      <td>0.0</td>\n",
              "      <td>1.0</td>\n",
              "      <td>0.0</td>\n",
              "      <td>3.0</td>\n",
              "    </tr>\n",
              "  </tbody>\n",
              "</table>\n",
              "<p>303 rows × 13 columns</p>\n",
              "</div>"
            ],
            "text/plain": [
              "      age  sex   cp  trestbps   chol  ...  exang  oldpeak  slope   ca  thal\n",
              "0    63.0  1.0  1.0     145.0  233.0  ...    0.0      2.3    3.0  0.0   6.0\n",
              "1    67.0  1.0  4.0     160.0  286.0  ...    1.0      1.5    2.0  3.0   3.0\n",
              "2    67.0  1.0  4.0     120.0  229.0  ...    1.0      2.6    2.0  2.0   7.0\n",
              "3    37.0  1.0  3.0     130.0  250.0  ...    0.0      3.5    3.0  0.0   3.0\n",
              "4    41.0  0.0  2.0     130.0  204.0  ...    0.0      1.4    1.0  0.0   3.0\n",
              "..    ...  ...  ...       ...    ...  ...    ...      ...    ...  ...   ...\n",
              "298  45.0  1.0  1.0     110.0  264.0  ...    0.0      1.2    2.0  0.0   7.0\n",
              "299  68.0  1.0  4.0     144.0  193.0  ...    0.0      3.4    2.0  2.0   7.0\n",
              "300  57.0  1.0  4.0     130.0  131.0  ...    1.0      1.2    2.0  1.0   7.0\n",
              "301  57.0  0.0  2.0     130.0  236.0  ...    0.0      0.0    2.0  1.0   3.0\n",
              "302  38.0  1.0  3.0     138.0  175.0  ...    0.0      0.0    1.0  0.0   3.0\n",
              "\n",
              "[303 rows x 13 columns]"
            ]
          },
          "metadata": {
            "tags": []
          },
          "execution_count": 6
        }
      ]
    },
    {
      "cell_type": "code",
      "metadata": {
        "id": "cMXYaECErPv5",
        "colab_type": "code",
        "colab": {
          "base_uri": "https://localhost:8080/",
          "height": 251
        },
        "outputId": "e088021d-00d1-452b-d42f-9e816a451a65"
      },
      "source": [
        "X_scaler"
      ],
      "execution_count": null,
      "outputs": [
        {
          "output_type": "execute_result",
          "data": {
            "text/plain": [
              "array([[ 0.94872647,  0.68620244, -2.25177456, ...,  2.27457861,\n",
              "        -0.71113139,  0.66000414],\n",
              "       [ 1.39200191,  0.68620244,  0.87798549, ...,  0.64911323,\n",
              "         2.5048807 , -0.89023814],\n",
              "       [ 1.39200191,  0.68620244,  0.87798549, ...,  0.64911323,\n",
              "         1.43287667,  1.17675157],\n",
              "       ...,\n",
              "       [ 0.28381332,  0.68620244,  0.87798549, ...,  0.64911323,\n",
              "         0.36087264,  1.17675157],\n",
              "       [ 0.28381332, -1.4572959 , -1.20852121, ...,  0.64911323,\n",
              "         0.36087264, -0.89023814],\n",
              "       [-1.82174501,  0.68620244, -0.16526786, ..., -0.97635214,\n",
              "        -0.71113139, -0.89023814]])"
            ]
          },
          "metadata": {
            "tags": []
          },
          "execution_count": 7
        }
      ]
    }
  ]
}