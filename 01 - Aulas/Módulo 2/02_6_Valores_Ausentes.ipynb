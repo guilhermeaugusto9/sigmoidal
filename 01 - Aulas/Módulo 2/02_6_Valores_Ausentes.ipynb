{
  "nbformat": 4,
  "nbformat_minor": 0,
  "metadata": {
    "colab": {
      "name": "Valores Ausentes.ipynb",
      "provenance": [],
      "collapsed_sections": [],
      "include_colab_link": true
    },
    "kernelspec": {
      "name": "python3",
      "display_name": "Python 3"
    }
  },
  "cells": [
    {
      "cell_type": "markdown",
      "metadata": {
        "id": "view-in-github",
        "colab_type": "text"
      },
      "source": [
        "<a href=\"https://colab.research.google.com/github/guilhermeaugusto9/sigmoidal/blob/master/Valores_Ausentes.ipynb\" target=\"_parent\"><img src=\"https://colab.research.google.com/assets/colab-badge.svg\" alt=\"Open In Colab\"/></a>"
      ]
    },
    {
      "cell_type": "markdown",
      "metadata": {
        "id": "vvplGyW2N3rX",
        "colab_type": "text"
      },
      "source": [
        "<img alt=\"Colaboratory logo\" width=\"15%\" src=\"https://raw.githubusercontent.com/carlosfab/escola-data-science/master/img/novo_logo_bg_claro.png\">\n",
        "\n",
        "#### **Data Science na Prática 2.0**\n",
        "*by [sigmoidal.ai](https://sigmoidal.ai)*\n",
        "\n",
        "---\n",
        "\n",
        "# Valores Ausentes\n",
        "\n",
        "Se você está lidando com bases de dados do mundo real, pode ter certeza que estará lidando com dados incompletos ou valores ausentes.\n",
        "\n",
        "Muitas vezes esses dados são inseridos por pessoas, manualmente. Há casos em que você já tinha séries históricas de anos, e em determinado momento alguém resolveu adicionar uma nova coluna.\n",
        "\n",
        "Existem inúmeras técnicas para lidar com esse tipo de problema, e nesta aula vamos falar de duas das principais abordagens.\n",
        "\n",
        "Antes, vamos importar os dados do Projeto +BIKE.\n"
      ]
    },
    {
      "cell_type": "code",
      "metadata": {
        "id": "pGmRLamzA6pv",
        "colab_type": "code",
        "colab": {
          "base_uri": "https://localhost:8080/",
          "height": 360
        },
        "outputId": "946a7067-b650-4905-99bb-ada7237f6848"
      },
      "source": [
        "DATA_PATH = \"http://dl.dropboxusercontent.com/s/yyfeoxqw61o3iel/df_rides.csv\"\n",
        "\n",
        "# importar os pacotes necessários\n",
        "import pandas as pd\n",
        "\n",
        "# importar o dataset\n",
        "df = pd.read_csv(DATA_PATH)\n",
        "\n",
        "# ver as primeiras entradas\n",
        "df.head()"
      ],
      "execution_count": null,
      "outputs": [
        {
          "output_type": "execute_result",
          "data": {
            "text/html": [
              "<div>\n",
              "<style scoped>\n",
              "    .dataframe tbody tr th:only-of-type {\n",
              "        vertical-align: middle;\n",
              "    }\n",
              "\n",
              "    .dataframe tbody tr th {\n",
              "        vertical-align: top;\n",
              "    }\n",
              "\n",
              "    .dataframe thead th {\n",
              "        text-align: right;\n",
              "    }\n",
              "</style>\n",
              "<table border=\"1\" class=\"dataframe\">\n",
              "  <thead>\n",
              "    <tr style=\"text-align: right;\">\n",
              "      <th></th>\n",
              "      <th>user_gender</th>\n",
              "      <th>user_birthdate</th>\n",
              "      <th>user_residence</th>\n",
              "      <th>ride_date</th>\n",
              "      <th>time_start</th>\n",
              "      <th>time_end</th>\n",
              "      <th>station_start</th>\n",
              "      <th>station_end</th>\n",
              "      <th>ride_duration</th>\n",
              "      <th>ride_late</th>\n",
              "    </tr>\n",
              "  </thead>\n",
              "  <tbody>\n",
              "    <tr>\n",
              "      <th>0</th>\n",
              "      <td>M</td>\n",
              "      <td>1971-06-08</td>\n",
              "      <td>NaN</td>\n",
              "      <td>2018-01-01</td>\n",
              "      <td>06:05:18</td>\n",
              "      <td>06:21:33</td>\n",
              "      <td>11 - Rodoviária 2</td>\n",
              "      <td>41 - Instituto de Artes</td>\n",
              "      <td>16.250000</td>\n",
              "      <td>0.0</td>\n",
              "    </tr>\n",
              "    <tr>\n",
              "      <th>1</th>\n",
              "      <td>M</td>\n",
              "      <td>1989-02-11</td>\n",
              "      <td>DF</td>\n",
              "      <td>2018-01-01</td>\n",
              "      <td>06:27:01</td>\n",
              "      <td>06:32:17</td>\n",
              "      <td>26 - Ministério da Saude</td>\n",
              "      <td>28 - CNMP - Conselho Nacional do Ministério Pú...</td>\n",
              "      <td>5.266667</td>\n",
              "      <td>0.0</td>\n",
              "    </tr>\n",
              "    <tr>\n",
              "      <th>2</th>\n",
              "      <td>M</td>\n",
              "      <td>1968-07-19</td>\n",
              "      <td>NaN</td>\n",
              "      <td>2018-01-01</td>\n",
              "      <td>06:29:33</td>\n",
              "      <td>06:44:57</td>\n",
              "      <td>11 - Rodoviária 2</td>\n",
              "      <td>43 - Biblioteca Central</td>\n",
              "      <td>15.400000</td>\n",
              "      <td>0.0</td>\n",
              "    </tr>\n",
              "    <tr>\n",
              "      <th>3</th>\n",
              "      <td>M</td>\n",
              "      <td>1991-12-19</td>\n",
              "      <td>NaN</td>\n",
              "      <td>2018-01-01</td>\n",
              "      <td>06:53:53</td>\n",
              "      <td>06:59:45</td>\n",
              "      <td>10 - Ministério dos Transportes</td>\n",
              "      <td>6 - Rodoviária</td>\n",
              "      <td>5.866667</td>\n",
              "      <td>0.0</td>\n",
              "    </tr>\n",
              "    <tr>\n",
              "      <th>4</th>\n",
              "      <td>M</td>\n",
              "      <td>1969-03-03</td>\n",
              "      <td>DF</td>\n",
              "      <td>2018-01-01</td>\n",
              "      <td>06:58:56</td>\n",
              "      <td>17:40:04</td>\n",
              "      <td>15 - Brasil 21</td>\n",
              "      <td>11 - Rodoviária 2</td>\n",
              "      <td>641.133333</td>\n",
              "      <td>1.0</td>\n",
              "    </tr>\n",
              "  </tbody>\n",
              "</table>\n",
              "</div>"
            ],
            "text/plain": [
              "  user_gender user_birthdate  ... ride_duration ride_late\n",
              "0           M     1971-06-08  ...     16.250000       0.0\n",
              "1           M     1989-02-11  ...      5.266667       0.0\n",
              "2           M     1968-07-19  ...     15.400000       0.0\n",
              "3           M     1991-12-19  ...      5.866667       0.0\n",
              "4           M     1969-03-03  ...    641.133333       1.0\n",
              "\n",
              "[5 rows x 10 columns]"
            ]
          },
          "metadata": {
            "tags": []
          },
          "execution_count": 1
        }
      ]
    },
    {
      "cell_type": "markdown",
      "metadata": {
        "id": "vvrOjE6UBJMl",
        "colab_type": "text"
      },
      "source": [
        "## Identificando os valores ausentes\n",
        "\n",
        "Já vimos anteriormente como identificar valores do tipo `NaN`. É indispensável identificar a quantidade de valores ausentes e qual a representatividade dessa quantidade frente ao total de entradas."
      ]
    },
    {
      "cell_type": "code",
      "metadata": {
        "id": "VRcP5l-7Bgao",
        "colab_type": "code",
        "colab": {
          "base_uri": "https://localhost:8080/",
          "height": 215
        },
        "outputId": "46dabba7-545d-4325-d4ba-8aa20a809247"
      },
      "source": [
        "# ver a quantidade de valores ausentes\n",
        "df.isnull().sum()"
      ],
      "execution_count": null,
      "outputs": [
        {
          "output_type": "execute_result",
          "data": {
            "text/plain": [
              "user_gender          396\n",
              "user_birthdate         1\n",
              "user_residence    179905\n",
              "ride_date              0\n",
              "time_start             0\n",
              "time_end           43285\n",
              "station_start          0\n",
              "station_end            0\n",
              "ride_duration      73174\n",
              "ride_late          73174\n",
              "dtype: int64"
            ]
          },
          "metadata": {
            "tags": []
          },
          "execution_count": 2
        }
      ]
    },
    {
      "cell_type": "code",
      "metadata": {
        "id": "nQvK0IuSBjHR",
        "colab_type": "code",
        "colab": {
          "base_uri": "https://localhost:8080/",
          "height": 215
        },
        "outputId": "ac387c2e-e2a4-4013-bdef-b760eba6d8c0"
      },
      "source": [
        "# ver a porcentagem de valores ausentes\n",
        "df.isnull().sum() / df.shape[0]"
      ],
      "execution_count": null,
      "outputs": [
        {
          "output_type": "execute_result",
          "data": {
            "text/plain": [
              "user_gender       0.001378\n",
              "user_birthdate    0.000003\n",
              "user_residence    0.626144\n",
              "ride_date         0.000000\n",
              "time_start        0.000000\n",
              "time_end          0.150650\n",
              "station_start     0.000000\n",
              "station_end       0.000000\n",
              "ride_duration     0.254676\n",
              "ride_late         0.254676\n",
              "dtype: float64"
            ]
          },
          "metadata": {
            "tags": []
          },
          "execution_count": 3
        }
      ]
    },
    {
      "cell_type": "markdown",
      "metadata": {
        "id": "iy6GSiD7BsOr",
        "colab_type": "text"
      },
      "source": [
        "## Excluir valores ausentes\n",
        "\n",
        "Está é uma primeira opção quando você está lidando com valores nulos do tipo `NaN` no seu *DataFrame*.\n",
        "\n",
        "Entretanto, ela tende a não ser ideal, pois por causa do valor de uma única célula, você elimina os dados existentes em outras colunas. Esta opção deve ser considerada no caso da quantidade de dados nulos serem pequenos a ponto de não ter representatividade no dataset\n",
        "\n",
        "Eu consigo excluir tanto linhas com valores ausentes quanto colunas inteiras. Para que o Pandas saiba se a sua inteção é de eliminar linhas (`axis=0`) ou colunas (`axis=1`), você deve informar dentro do método `dropna()`."
      ]
    },
    {
      "cell_type": "code",
      "metadata": {
        "id": "i6RlbEz2DNj3",
        "colab_type": "code",
        "colab": {
          "base_uri": "https://localhost:8080/",
          "height": 53
        },
        "outputId": "b525ea21-a9df-4b3d-cf0e-8d8d7c452133"
      },
      "source": [
        "# eliminar todas as entradas onde existam valores ausentes em `user_gender`\n",
        "df_clean = df.dropna(subset=['user_gender'], axis=0)\n",
        "\n",
        "# comparar o antes e o depois\n",
        "print(\"Antes:\\t{}\".format(df.shape))\n",
        "print(\"Depois:\\t{}\".format(df_clean.shape))"
      ],
      "execution_count": null,
      "outputs": [
        {
          "output_type": "stream",
          "text": [
            "Antes:\t(287322, 10)\n",
            "Depois:\t(286926, 10)\n"
          ],
          "name": "stdout"
        }
      ]
    },
    {
      "cell_type": "markdown",
      "metadata": {
        "id": "dAh5qCOaENmL",
        "colab_type": "text"
      },
      "source": [
        "## Preencher valores\n",
        "\n",
        "Esta normalmente é a melhor opção, pois permite que você mantenha dados existentes em outras células.\n",
        "\n",
        "Uma pergunta que normalmente surge é: \"mas eu substituo o valor ausente por qual valor?\". A resposta para essa pergunta é: depende.\n",
        "\n",
        "Existem técnicas simples como usar valor mais frequente, media e mediana, assim como há técnicas mais avançadas que envolvem até mesmo o uso de modelos de *machine learning* cuja função é dizer qual valor usar nesses campos.\n",
        "\n",
        "Vou mostrar como você pode usar a mediana para preencher os campos ausentes da coluna `ride_duration`, com o uso da função `fillna()`"
      ]
    },
    {
      "cell_type": "code",
      "metadata": {
        "id": "1LiewAIO7CJO",
        "colab_type": "code",
        "colab": {
          "base_uri": "https://localhost:8080/",
          "height": 215
        },
        "outputId": "242c1cc3-e976-4506-e6a8-350b7be6229e"
      },
      "source": [
        "# antes\n",
        "df_clean.isnull().sum()"
      ],
      "execution_count": null,
      "outputs": [
        {
          "output_type": "execute_result",
          "data": {
            "text/plain": [
              "user_gender            0\n",
              "user_birthdate         1\n",
              "user_residence    179818\n",
              "ride_date              0\n",
              "time_start             0\n",
              "time_end           43212\n",
              "station_start          0\n",
              "station_end            0\n",
              "ride_duration      73064\n",
              "ride_late          73064\n",
              "dtype: int64"
            ]
          },
          "metadata": {
            "tags": []
          },
          "execution_count": 5
        }
      ]
    },
    {
      "cell_type": "code",
      "metadata": {
        "id": "_MuQkDcPFM9R",
        "colab_type": "code",
        "colab": {
          "base_uri": "https://localhost:8080/",
          "height": 215
        },
        "outputId": "6134c7f0-46ee-41be-a728-c659aebf79a8"
      },
      "source": [
        "# preencher valores ausentes em `ride_duration` com a mediana\n",
        "rd_median = df_clean.ride_duration.median()\n",
        "df_clean = df_clean.fillna({\"ride_duration\": rd_median})\n",
        "\n",
        "# ver valores ausentes\n",
        "df_clean.isnull().sum()"
      ],
      "execution_count": null,
      "outputs": [
        {
          "output_type": "execute_result",
          "data": {
            "text/plain": [
              "user_gender            0\n",
              "user_birthdate         1\n",
              "user_residence    179818\n",
              "ride_date              0\n",
              "time_start             0\n",
              "time_end           43212\n",
              "station_start          0\n",
              "station_end            0\n",
              "ride_duration          0\n",
              "ride_late          73064\n",
              "dtype: int64"
            ]
          },
          "metadata": {
            "tags": []
          },
          "execution_count": 6
        }
      ]
    },
    {
      "cell_type": "markdown",
      "metadata": {
        "id": "TPAgjNPiFt5W",
        "colab_type": "text"
      },
      "source": [
        "No caso da coluna `user_gender`, temos uma variável categórica. O ideal aqui é usar o valor mais frequente para o preenchimento dos valores. Valor ver qual aquele que tem maior recorrência e substituir diretamente na coluna."
      ]
    },
    {
      "cell_type": "code",
      "metadata": {
        "id": "J_1tGxn07S1S",
        "colab_type": "code",
        "colab": {
          "base_uri": "https://localhost:8080/",
          "height": 215
        },
        "outputId": "43ebe3cd-45de-400b-9b72-0c8a1f15fb12"
      },
      "source": [
        "# copiar novamente\n",
        "df_clean = df.copy()\n",
        "\n",
        "# ver valores ausentes\n",
        "df_clean.isnull().sum()"
      ],
      "execution_count": null,
      "outputs": [
        {
          "output_type": "execute_result",
          "data": {
            "text/plain": [
              "user_gender          396\n",
              "user_birthdate         1\n",
              "user_residence    179905\n",
              "ride_date              0\n",
              "time_start             0\n",
              "time_end           43285\n",
              "station_start          0\n",
              "station_end            0\n",
              "ride_duration      73174\n",
              "ride_late          73174\n",
              "dtype: int64"
            ]
          },
          "metadata": {
            "tags": []
          },
          "execution_count": 8
        }
      ]
    },
    {
      "cell_type": "code",
      "metadata": {
        "id": "amgKJvvlF9ea",
        "colab_type": "code",
        "colab": {
          "base_uri": "https://localhost:8080/",
          "height": 71
        },
        "outputId": "85484db1-4c32-481f-9fee-b231cb37edb7"
      },
      "source": [
        "# ver o valor mais frequente\n",
        "df_clean.user_gender.value_counts()"
      ],
      "execution_count": null,
      "outputs": [
        {
          "output_type": "execute_result",
          "data": {
            "text/plain": [
              "M    212608\n",
              "F     74318\n",
              "Name: user_gender, dtype: int64"
            ]
          },
          "metadata": {
            "tags": []
          },
          "execution_count": 9
        }
      ]
    },
    {
      "cell_type": "code",
      "metadata": {
        "id": "eFTYwbyrGPFA",
        "colab_type": "code",
        "colab": {
          "base_uri": "https://localhost:8080/",
          "height": 215
        },
        "outputId": "9d1dac34-2a7e-474d-f6aa-711a605fa259"
      },
      "source": [
        "# preencher os valores ausentes de user_gender com 'M'\n",
        "df_clean = df_clean.fillna({\"user_gender\": 'M'})\n",
        "\n",
        "# ver valores ausentes\n",
        "df_clean.isnull().sum()"
      ],
      "execution_count": null,
      "outputs": [
        {
          "output_type": "execute_result",
          "data": {
            "text/plain": [
              "user_gender            0\n",
              "user_birthdate         1\n",
              "user_residence    179905\n",
              "ride_date              0\n",
              "time_start             0\n",
              "time_end           43285\n",
              "station_start          0\n",
              "station_end            0\n",
              "ride_duration      73174\n",
              "ride_late          73174\n",
              "dtype: int64"
            ]
          },
          "metadata": {
            "tags": []
          },
          "execution_count": 11
        }
      ]
    },
    {
      "cell_type": "code",
      "metadata": {
        "id": "s0gEfhdZ7h-N",
        "colab_type": "code",
        "colab": {}
      },
      "source": [
        ""
      ],
      "execution_count": null,
      "outputs": []
    }
  ]
}