{
  "nbformat": 4,
  "nbformat_minor": 0,
  "metadata": {
    "colab": {
      "name": "[Template] Analisando a Violência no Rio de Janeiro.ipynb",
      "provenance": [],
      "collapsed_sections": [],
      "toc_visible": true,
      "include_colab_link": true
    },
    "kernelspec": {
      "name": "python3",
      "display_name": "Python 3"
    }
  },
  "cells": [
    {
      "cell_type": "markdown",
      "metadata": {
        "id": "view-in-github",
        "colab_type": "text"
      },
      "source": [
        "<a href=\"https://colab.research.google.com/github/guilhermeaugusto9/sigmoidal/blob/master/2_9_1_%5BTemplate%5D_Analisando_a_Viol%C3%AAncia_no_Rio_de_Janeiro.ipynb\" target=\"_parent\"><img src=\"https://colab.research.google.com/assets/colab-badge.svg\" alt=\"Open In Colab\"/></a>"
      ]
    },
    {
      "cell_type": "markdown",
      "metadata": {
        "id": "-eFQZydM9O9J",
        "colab_type": "text"
      },
      "source": [
        "<img alt=\"Colaboratory logo\" width=\"15%\" src=\"https://raw.githubusercontent.com/carlosfab/escola-data-science/master/img/novo_logo_bg_claro.png\">\n",
        "\n",
        "#### **Data Science na Prática 2.0**\n",
        "*by [sigmoidal.ai](https://sigmoidal.ai)*\n",
        "\n",
        "---\n",
        "\n",
        "**Instruções para o Projeto**\n",
        "\n",
        "* Você deve importar o pandas e importar a base de dados da Polícia Militar do Rio de Janeiro sobre a violência\n",
        "  * O arquivo `csv` se encontra no endereço abaixo:\n",
        "    * https://raw.githubusercontent.com/carlosfab/dsnp2/master/datasets/violencia_rio.csv\n",
        "  * Este arquivo `csv` foi pré-processado minimamente por mim, para focar nos pontos aprendidos neste Módulo\n",
        "  * Este é o site oficial, do Governo do Estado do Rio de Janeiro:\n",
        "    * http://www.ispdados.rj.gov.br/estatistica.html\n",
        "  * Um *dashboard* interativo e visual pode ser encontrado no site abaixo:\n",
        "    * http://www.ispvisualizacao.rj.gov.br/index.html\n",
        "  * Você está livre para apagar, alterar e acrescentar o que quiser!\n",
        "  * Se você sentiu dificuldade, não se preocupe! Disponibilizei a minha própria solução para servir de guia, porém tente fazer a sua por você mesmo inicialmente.\n",
        "    * Se sentir perdido é normal, mas acredite: O seu cérebro vai começar a adquirir uma capacidade nova de pensar em hipóteses e questionar dados.\n",
        "  \n",
        "  \n",
        "---\n",
        "  "
      ]
    },
    {
      "cell_type": "markdown",
      "metadata": {
        "id": "kLI0gJtzDGuQ",
        "colab_type": "text"
      },
      "source": [
        "# Analisando a Violência no Rio de Janeiro\n",
        "\n",
        "Escreva uma breve introdução contextualizando o problema e o que você vai fazer..."
      ]
    },
    {
      "cell_type": "markdown",
      "metadata": {
        "id": "0zxQHhIUDF_2",
        "colab_type": "text"
      },
      "source": [
        "## Obtenção dos Dados\n",
        "\n",
        "\n",
        "Descreva a fonte dos seus dados e um breve resumo sobre o que se pode esperar desse *dataset*"
      ]
    },
    {
      "cell_type": "markdown",
      "metadata": {
        "id": "7vh4at0l90nr",
        "colab_type": "text"
      },
      "source": [
        "### Importando os dados\n",
        "\n",
        "Importe os dados, usando `df = pd.read_csv(\"endereço_do_csv\")`"
      ]
    },
    {
      "cell_type": "code",
      "metadata": {
        "id": "CYLNme_OCX_R",
        "colab_type": "code",
        "colab": {}
      },
      "source": [
        ""
      ],
      "execution_count": null,
      "outputs": []
    },
    {
      "cell_type": "markdown",
      "metadata": {
        "id": "qb5By2nIMS6m",
        "colab_type": "text"
      },
      "source": [
        "## Análise Inicial dos Dados\n",
        "\n",
        "Breve contextualização...\n",
        "\n",
        "Descreva e execute as seguintes etapas:\n",
        "\n",
        "* Qual o tamanho do seu DataFrame (`shape`)\n",
        "* Extrair e imprimir os nomes das colunas (`columns`)\n",
        "* Quais os tipos das variáveis (`dtypes`)\n",
        "* Visualizar as 5 primeiras linhas (`head`)\n",
        "* Identifique a porcentagem de valores ausentes das colunas\n"
      ]
    },
    {
      "cell_type": "markdown",
      "metadata": {
        "id": "G6dnsNYm-41g",
        "colab_type": "text"
      },
      "source": [
        "## Informações Estatísticas da Violência no Rio de Janeiro\n",
        "\n",
        "Breve contextualização...\n",
        "\n",
        "Descreva e execute as seguintes etapas:\n",
        "\n",
        "* Imprima o resumo estatístico do seu DataFrame (`describe`)\n",
        "* Encontre as médias das seguintes variáveis (colunas):\n",
        "  * `roubo_veiculo`\n",
        "  * `furto_veiculos`\n",
        "  * `recuperacao_veiculos`\n",
        "* Calcule qual a porcentagem de carros recuperados em relação aos carros roubados + carros furtados:\n",
        "  * $\\frac{\\text{recuperacao_veiculos}}{\\text{roubo_veiculo} + \\text{furto_veiculos}}$\n",
        "* Encontre os valores máximos (`max`) e mínimos (`min`) da coluna `hom_doloso`\n"
      ]
    },
    {
      "cell_type": "markdown",
      "metadata": {
        "id": "7WK0NBQZASKC",
        "colab_type": "text"
      },
      "source": [
        "## Visualização de Dados\n",
        "\n",
        "Breve contextualização...\n",
        "\n",
        "Plote e comente os seguintes gráficos:\n",
        "\n",
        "* Histograma de `hom_doloso`\n",
        "* Gráfico de linhas para a variável `roubo_em_coletivo`\n"
      ]
    },
    {
      "cell_type": "markdown",
      "metadata": {
        "id": "LCsiXvM3BcsO",
        "colab_type": "text"
      },
      "source": [
        "## Conclusão\n",
        "\n",
        "Escreva suas conclusões e análises sobre os indicadores de violência do Rio de Janeiro..."
      ]
    },
    {
      "cell_type": "code",
      "metadata": {
        "id": "UDQA502_hAwI",
        "colab_type": "code",
        "colab": {}
      },
      "source": [
        ""
      ],
      "execution_count": null,
      "outputs": []
    }
  ]
}