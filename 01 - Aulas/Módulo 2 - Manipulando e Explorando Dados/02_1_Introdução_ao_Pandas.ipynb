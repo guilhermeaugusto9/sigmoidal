{
  "nbformat": 4,
  "nbformat_minor": 0,
  "metadata": {
    "colab": {
      "name": "Introdução ao Pandas.ipynb",
      "provenance": [],
      "collapsed_sections": [],
      "include_colab_link": true
    },
    "kernelspec": {
      "name": "python3",
      "display_name": "Python 3"
    }
  },
  "cells": [
    {
      "cell_type": "markdown",
      "metadata": {
        "id": "view-in-github",
        "colab_type": "text"
      },
      "source": [
        "<a href=\"https://colab.research.google.com/github/guilhermeaugusto9/sigmoidal/blob/master/Introdu%C3%A7%C3%A3o_ao_Pandas.ipynb\" target=\"_parent\"><img src=\"https://colab.research.google.com/assets/colab-badge.svg\" alt=\"Open In Colab\"/></a>"
      ]
    },
    {
      "cell_type": "markdown",
      "metadata": {
        "id": "vvplGyW2N3rX",
        "colab_type": "text"
      },
      "source": [
        "<img alt=\"Colaboratory logo\" width=\"15%\" src=\"https://raw.githubusercontent.com/carlosfab/escola-data-science/master/img/novo_logo_bg_claro.png\">\n",
        "\n",
        "#### **Data Science na Prática 2.0**\n",
        "*by [sigmoidal.ai](https://sigmoidal.ai)*\n",
        "\n",
        "---\n",
        "\n",
        "# Introdução ao Pandas\n",
        "\n",
        "Pandas é uma biblioteca do Python, provavelmente a mais popular de todas quando se trata de *Data Science*.\n",
        "\n",
        "Por meio do Pandas, você consegue importar dados (arquivos `csv`e `xls`, por exemplo), tratar esses dados, transformá-los e realizar análises completas dos mesmos.\n",
        "\n",
        "Uma vez que você importa um conjunto de dados usando Pandas, fica muito fácil fazer coisas do tipo:\n",
        "\n",
        "* Extrai informações estatísticas\n",
        "  * Qual a média, mediana, valores máximos e mínimos?\n",
        "  * Qual é a distribuição das suas variáveis?\n",
        "  * Qual a correlação entre duas variáveis quaisquer?\n",
        "* Exportar os dados para um novo formato de arquivo\n",
        "* Visualizar gráficos dos mais diferentes tipos\n",
        "* Alimentar modelos de *machine learning* feitos em cima do Scikit-learn\n",
        "\n",
        "Pandas é construído em cima de outra biblioteca extremamente popular, o **NumPy**. Quem já utilizou esta, vai encontrar muita similaridade com aquela."
      ]
    },
    {
      "cell_type": "markdown",
      "metadata": {
        "id": "NtGy-OuUS6ba",
        "colab_type": "text"
      },
      "source": [
        "## Instalando e utilizando o Pandas\n",
        "\n",
        "Caso você esteja rodando o código na sua máquina local, o Pandas pode ser instalado pela linha de comando usando o seu gerenciador de pacotes (`pip` ou `conda`).\n",
        "\n",
        "Dependendo de qual deles seja, o comando que você deve usar é\n",
        "\n",
        "`pip install pandas`\n",
        "\n",
        "ou \n",
        "\n",
        "`conda install pandas`\n",
        "\n",
        "Como estamos usando o Colab neste curso, o Pandas vem instalado por padrão. Ou seja, a única coisa que você precisa é importar o pacote. Normalmente, para importar qualquer pacote basta apenas usar o comando `import nome_do_pacote`.\n",
        "\n",
        "No entanto, é muito comum a gente importar o Pandas usando `import pandas as pd` para abreviar o nome da biblioteca. Se você reparar em projetos de outros cientistas de dados, vai ver que esse é (provavelmente) a maneira que eles utilizam."
      ]
    },
    {
      "cell_type": "code",
      "metadata": {
        "id": "e3hcsBp1TdWE",
        "colab_type": "code",
        "colab": {}
      },
      "source": [
        "# importar a biblioteca pandas\n",
        "import pandas as pd"
      ],
      "execution_count": null,
      "outputs": []
    },
    {
      "cell_type": "markdown",
      "metadata": {
        "id": "SQPlLLa_b4qC",
        "colab_type": "text"
      },
      "source": [
        "### Importar arquivos `csv`\n",
        "\n",
        "Para dar um exemplo de como é simples importar dados com o Pandas, veja o seguinte exemplo.\n",
        "\n",
        "Pelo site [Yahoo Finance](https://finance.yahoo.com/quote/BBAS3.SA/history?p=BBAS3.SA), baixei os dados da ação ordinária do Banco do Brasil (BBAS3) em formato `csv` e disponibilizei o arquivo [neste link](https://raw.githubusercontent.com/carlosfab/curso_data_science_na_pratica/master/modulo_02/BBAS3.SA.csv). Se eu abrir esse arquivo na minha máquina pelo Excel, é assim que ele vai aparecer para mim:\n",
        "\n",
        "<center><img src=\"https://raw.githubusercontent.com/carlosfab/curso_data_science_na_pratica/master/modulo_02/bbas3_excel.png\" height=\"300px\"></center>\n",
        "\n",
        "Importar esse mesmo arquivo usando o Pandas é tão simples quanto executar a função `pd.read_csv(\"local_do_arquivo.csv\")`, informando qual o endereço que o `csv` se encontra (endereço na internet ou caminho na máquia local.\n",
        "\n"
      ]
    },
    {
      "cell_type": "code",
      "metadata": {
        "id": "ve_UpCilezaa",
        "colab_type": "code",
        "colab": {}
      },
      "source": [
        "# importar o arquivo csv para o Pandas\n",
        "df = pd.read_csv(\"https://raw.githubusercontent.com/carlosfab/dsnp2/master/datasets/BBAS3.SA.csv\")"
      ],
      "execution_count": null,
      "outputs": []
    },
    {
      "cell_type": "markdown",
      "metadata": {
        "id": "z-5wV1LoUJqR",
        "colab_type": "text"
      },
      "source": [
        "Pronto! O arquivo `BBAS3.SA.csv` foi importado com sucesso e já está pronto para ser usado neste *notebook*. \n",
        "\n",
        "### Conhecendo os componentes básicos do Pandas\n",
        "\n",
        "Os dois componentes básicos que a gente deve conhecer quando lidando com Pandas são `Series` e `DataFrame`. \n",
        "\n",
        "<center><img src=\"https://raw.githubusercontent.com/carlosfab/curso_data_science_na_pratica/master/modulo_02/componentes_pandas.png\"></center>\n",
        "\n",
        "Simplificadamente, você pode pensar o `DataFrame` como sendo uma planilha de Excel, e `Series` como sendo apenas uma coluna individual.\n",
        "\n",
        "Apesar de parecer conceitualmente simples, estas duas estruturas nativas do Pandas facilitam muito o trabalho com dados, uma vez que elas podem armazenar qualquer tipo de dado.\n",
        "\n",
        "* `type()` - mostra qual o tipo da variável\n"
      ]
    },
    {
      "cell_type": "code",
      "metadata": {
        "id": "f-sqkuQwaRuc",
        "colab_type": "code",
        "colab": {
          "base_uri": "https://localhost:8080/",
          "height": 35
        },
        "outputId": "30b22569-cd66-44bd-fcff-b82a53618043"
      },
      "source": [
        "# ver o tipo da variável df\n",
        "type(df)"
      ],
      "execution_count": null,
      "outputs": [
        {
          "output_type": "execute_result",
          "data": {
            "text/plain": [
              "pandas.core.frame.DataFrame"
            ]
          },
          "metadata": {
            "tags": []
          },
          "execution_count": 3
        }
      ]
    },
    {
      "cell_type": "code",
      "metadata": {
        "id": "8BPjwOX4hYk2",
        "colab_type": "code",
        "colab": {
          "base_uri": "https://localhost:8080/",
          "height": 35
        },
        "outputId": "e0273508-d216-47fd-8653-512a2ffde4ce"
      },
      "source": [
        "# ver o tipo de uma coluna da variável df\n",
        "type(df['Date'])"
      ],
      "execution_count": null,
      "outputs": [
        {
          "output_type": "execute_result",
          "data": {
            "text/plain": [
              "pandas.core.series.Series"
            ]
          },
          "metadata": {
            "tags": []
          },
          "execution_count": 4
        }
      ]
    },
    {
      "cell_type": "markdown",
      "metadata": {
        "id": "4A-F1ajofEjs",
        "colab_type": "text"
      },
      "source": [
        "### Ver dimensões do DataFrame\n",
        "\n",
        "Veja novamente a imagem acima. Basicamente, o arquivo que importamos se parece com uma simples tabela de Excel, composta por linhas e colunas. Para você ver o tamanho dessa \"tabela\", o que significa ver o formato (*shape*) dela, basta executar `df.shape`."
      ]
    },
    {
      "cell_type": "code",
      "metadata": {
        "id": "fkap8AgUgG-5",
        "colab_type": "code",
        "colab": {
          "base_uri": "https://localhost:8080/",
          "height": 35
        },
        "outputId": "ae7f7cdd-c148-417a-c81b-cf02ef052611"
      },
      "source": [
        "# ver o tamanho do dataframe (formato)\n",
        "df.shape"
      ],
      "execution_count": null,
      "outputs": [
        {
          "output_type": "execute_result",
          "data": {
            "text/plain": [
              "(248, 7)"
            ]
          },
          "metadata": {
            "tags": []
          },
          "execution_count": 5
        }
      ]
    },
    {
      "cell_type": "markdown",
      "metadata": {
        "id": "-yQEWd6NgGxu",
        "colab_type": "text"
      },
      "source": [
        "Quando você executar a célula acima, vai receber como *output* os valores `(248, 7)`. Isso significa que o arquivo importado possui 1245 linhas e 7 colunas. "
      ]
    },
    {
      "cell_type": "markdown",
      "metadata": {
        "id": "PWKUeDZrwvVt",
        "colab_type": "text"
      },
      "source": [
        "### Conhecendo os dados\n",
        "\n",
        "Uma vez que você importou a sua base de dados para o Pandas, existem muitos atributos e métodos nativos da estrutura *DataFrame* que facilitam muito a exploração de dados.\n",
        "\n",
        "Uma das principais funções da biblioteca, e que você irá usar em praticamente todos os seus projetos é `df.head()` e `df.tail()`.\n",
        "\n",
        "O arquivo `csv` com os dados da ação BBAS3 contém 248 linhas, mas o normal é você lidar com milhares ou centenas de milhares de linhas. Obviamente, seria inviável se tivessemos que olhar cada linha para entender como os dados estão apresentados.\n",
        "\n",
        "Na verdade, quando a gente importa um *dataset*, queremos dar uma olhadinha rápida em algumas entradas, só para ter noção dos dados que iremos lidar. Isso é feito facilmente com:\n",
        "\n",
        "* `df.head()` - exibe as 5 primeiras entradas do conjunto de dados\n",
        "* `df.tail()` - exibe as 5 últimas entradas do conjunto de dados"
      ]
    },
    {
      "cell_type": "code",
      "metadata": {
        "id": "24DU6xs3wu_Y",
        "colab_type": "code",
        "colab": {
          "base_uri": "https://localhost:8080/",
          "height": 204
        },
        "outputId": "d89b22a6-c235-4fa3-ea15-0a3a97177946"
      },
      "source": [
        "# mostrar as 5 primeiras entradas do DataFrame\n",
        "df.head()"
      ],
      "execution_count": null,
      "outputs": [
        {
          "output_type": "execute_result",
          "data": {
            "text/html": [
              "<div>\n",
              "<style scoped>\n",
              "    .dataframe tbody tr th:only-of-type {\n",
              "        vertical-align: middle;\n",
              "    }\n",
              "\n",
              "    .dataframe tbody tr th {\n",
              "        vertical-align: top;\n",
              "    }\n",
              "\n",
              "    .dataframe thead th {\n",
              "        text-align: right;\n",
              "    }\n",
              "</style>\n",
              "<table border=\"1\" class=\"dataframe\">\n",
              "  <thead>\n",
              "    <tr style=\"text-align: right;\">\n",
              "      <th></th>\n",
              "      <th>Date</th>\n",
              "      <th>Open</th>\n",
              "      <th>High</th>\n",
              "      <th>Low</th>\n",
              "      <th>Close</th>\n",
              "      <th>Adj Close</th>\n",
              "      <th>Volume</th>\n",
              "    </tr>\n",
              "  </thead>\n",
              "  <tbody>\n",
              "    <tr>\n",
              "      <th>0</th>\n",
              "      <td>2019-05-06</td>\n",
              "      <td>49.470001</td>\n",
              "      <td>49.669998</td>\n",
              "      <td>49.180000</td>\n",
              "      <td>49.369999</td>\n",
              "      <td>46.886795</td>\n",
              "      <td>6314800.0</td>\n",
              "    </tr>\n",
              "    <tr>\n",
              "      <th>1</th>\n",
              "      <td>2019-05-07</td>\n",
              "      <td>49.080002</td>\n",
              "      <td>49.680000</td>\n",
              "      <td>48.220001</td>\n",
              "      <td>49.490002</td>\n",
              "      <td>47.000763</td>\n",
              "      <td>10846100.0</td>\n",
              "    </tr>\n",
              "    <tr>\n",
              "      <th>2</th>\n",
              "      <td>2019-05-08</td>\n",
              "      <td>49.500000</td>\n",
              "      <td>50.840000</td>\n",
              "      <td>49.500000</td>\n",
              "      <td>50.590000</td>\n",
              "      <td>48.045422</td>\n",
              "      <td>14459600.0</td>\n",
              "    </tr>\n",
              "    <tr>\n",
              "      <th>3</th>\n",
              "      <td>2019-05-09</td>\n",
              "      <td>50.910000</td>\n",
              "      <td>51.259998</td>\n",
              "      <td>50.119999</td>\n",
              "      <td>51.029999</td>\n",
              "      <td>48.463291</td>\n",
              "      <td>15377500.0</td>\n",
              "    </tr>\n",
              "    <tr>\n",
              "      <th>4</th>\n",
              "      <td>2019-05-10</td>\n",
              "      <td>51.099998</td>\n",
              "      <td>51.189999</td>\n",
              "      <td>49.860001</td>\n",
              "      <td>50.160000</td>\n",
              "      <td>47.637051</td>\n",
              "      <td>8975300.0</td>\n",
              "    </tr>\n",
              "  </tbody>\n",
              "</table>\n",
              "</div>"
            ],
            "text/plain": [
              "         Date       Open       High  ...      Close  Adj Close      Volume\n",
              "0  2019-05-06  49.470001  49.669998  ...  49.369999  46.886795   6314800.0\n",
              "1  2019-05-07  49.080002  49.680000  ...  49.490002  47.000763  10846100.0\n",
              "2  2019-05-08  49.500000  50.840000  ...  50.590000  48.045422  14459600.0\n",
              "3  2019-05-09  50.910000  51.259998  ...  51.029999  48.463291  15377500.0\n",
              "4  2019-05-10  51.099998  51.189999  ...  50.160000  47.637051   8975300.0\n",
              "\n",
              "[5 rows x 7 columns]"
            ]
          },
          "metadata": {
            "tags": []
          },
          "execution_count": 6
        }
      ]
    },
    {
      "cell_type": "code",
      "metadata": {
        "id": "TGf020rXwu0T",
        "colab_type": "code",
        "colab": {
          "base_uri": "https://localhost:8080/",
          "height": 204
        },
        "outputId": "5390383a-b506-4f10-b4b2-aed7d7cd9843"
      },
      "source": [
        "# mostrar as 5 últimas entradas do DataFrame\n",
        "df.tail()"
      ],
      "execution_count": null,
      "outputs": [
        {
          "output_type": "execute_result",
          "data": {
            "text/html": [
              "<div>\n",
              "<style scoped>\n",
              "    .dataframe tbody tr th:only-of-type {\n",
              "        vertical-align: middle;\n",
              "    }\n",
              "\n",
              "    .dataframe tbody tr th {\n",
              "        vertical-align: top;\n",
              "    }\n",
              "\n",
              "    .dataframe thead th {\n",
              "        text-align: right;\n",
              "    }\n",
              "</style>\n",
              "<table border=\"1\" class=\"dataframe\">\n",
              "  <thead>\n",
              "    <tr style=\"text-align: right;\">\n",
              "      <th></th>\n",
              "      <th>Date</th>\n",
              "      <th>Open</th>\n",
              "      <th>High</th>\n",
              "      <th>Low</th>\n",
              "      <th>Close</th>\n",
              "      <th>Adj Close</th>\n",
              "      <th>Volume</th>\n",
              "    </tr>\n",
              "  </thead>\n",
              "  <tbody>\n",
              "    <tr>\n",
              "      <th>243</th>\n",
              "      <td>2020-04-27</td>\n",
              "      <td>25.500000</td>\n",
              "      <td>26.200001</td>\n",
              "      <td>25.110001</td>\n",
              "      <td>25.690001</td>\n",
              "      <td>25.690001</td>\n",
              "      <td>32132800.0</td>\n",
              "    </tr>\n",
              "    <tr>\n",
              "      <th>244</th>\n",
              "      <td>2020-04-28</td>\n",
              "      <td>27.219999</td>\n",
              "      <td>29.250000</td>\n",
              "      <td>27.110001</td>\n",
              "      <td>29.139999</td>\n",
              "      <td>29.139999</td>\n",
              "      <td>43232700.0</td>\n",
              "    </tr>\n",
              "    <tr>\n",
              "      <th>245</th>\n",
              "      <td>2020-04-29</td>\n",
              "      <td>30.040001</td>\n",
              "      <td>30.209999</td>\n",
              "      <td>28.730000</td>\n",
              "      <td>29.559999</td>\n",
              "      <td>29.559999</td>\n",
              "      <td>24628700.0</td>\n",
              "    </tr>\n",
              "    <tr>\n",
              "      <th>246</th>\n",
              "      <td>2020-04-30</td>\n",
              "      <td>28.309999</td>\n",
              "      <td>28.780001</td>\n",
              "      <td>27.850000</td>\n",
              "      <td>28.500000</td>\n",
              "      <td>28.500000</td>\n",
              "      <td>23935300.0</td>\n",
              "    </tr>\n",
              "    <tr>\n",
              "      <th>247</th>\n",
              "      <td>2020-05-04</td>\n",
              "      <td>27.370001</td>\n",
              "      <td>27.760000</td>\n",
              "      <td>26.990000</td>\n",
              "      <td>27.760000</td>\n",
              "      <td>27.760000</td>\n",
              "      <td>16586000.0</td>\n",
              "    </tr>\n",
              "  </tbody>\n",
              "</table>\n",
              "</div>"
            ],
            "text/plain": [
              "           Date       Open       High  ...      Close  Adj Close      Volume\n",
              "243  2020-04-27  25.500000  26.200001  ...  25.690001  25.690001  32132800.0\n",
              "244  2020-04-28  27.219999  29.250000  ...  29.139999  29.139999  43232700.0\n",
              "245  2020-04-29  30.040001  30.209999  ...  29.559999  29.559999  24628700.0\n",
              "246  2020-04-30  28.309999  28.780001  ...  28.500000  28.500000  23935300.0\n",
              "247  2020-05-04  27.370001  27.760000  ...  27.760000  27.760000  16586000.0\n",
              "\n",
              "[5 rows x 7 columns]"
            ]
          },
          "metadata": {
            "tags": []
          },
          "execution_count": 7
        }
      ]
    },
    {
      "cell_type": "markdown",
      "metadata": {
        "id": "GLuYhDec-Dfs",
        "colab_type": "text"
      },
      "source": [
        "Um dos motivos da popularidade do Pandas é por causa dessa capacidade de conseguir mostrar os dados como se estivessem em uma tabela, um formato bem amigável para a compreensão do nosso cérebro.\n",
        "\n",
        "Compare com aquela imagem lá em cima, do Excel. É um formato que estamos bem habituados a enxergar.\n",
        "\n",
        "Vamos supor que você precise extrair apenas os nomes das colunas do seu *DataFrame* - basta executar:"
      ]
    },
    {
      "cell_type": "code",
      "metadata": {
        "id": "8pHWD2yEwun0",
        "colab_type": "code",
        "colab": {
          "base_uri": "https://localhost:8080/",
          "height": 35
        },
        "outputId": "0e2adda2-6ba8-42f5-c35c-1c9c4df09ca2"
      },
      "source": [
        "# ver os nomes das colunas\n",
        "df.columns"
      ],
      "execution_count": null,
      "outputs": [
        {
          "output_type": "execute_result",
          "data": {
            "text/plain": [
              "Index(['Date', 'Open', 'High', 'Low', 'Close', 'Adj Close', 'Volume'], dtype='object')"
            ]
          },
          "metadata": {
            "tags": []
          },
          "execution_count": 8
        }
      ]
    },
    {
      "cell_type": "markdown",
      "metadata": {
        "id": "GwuMplTsoc72",
        "colab_type": "text"
      },
      "source": [
        "Conhecer o tipo de variável que está representado em cada coluna é essencial. Por exemplo:\n",
        "\n",
        "* Quando temos uma coluna que trata de receita, despesa ou lucro, é desejável que lidemos com variáveis do tipo `float`.\n",
        "* Quando estamos lidando com anos (2017, 2018, 2019), iremos desejar trabalhar com variáveis do tipo `int`.\n",
        "* Quanto temos datas completas (`2019-12-30 07:37`), iremos desejar usar o formato `datetime`, para conseguir manipular adequadamente o *dataset*.\n",
        "\n",
        "Para conhecer os tipos de variáveis de cada coluna, use `df.dtypes`."
      ]
    },
    {
      "cell_type": "code",
      "metadata": {
        "id": "HjIKHiIypOud",
        "colab_type": "code",
        "colab": {
          "base_uri": "https://localhost:8080/",
          "height": 161
        },
        "outputId": "611f5ec0-a802-42cb-dd74-231552fdfcb3"
      },
      "source": [
        "df.dtypes"
      ],
      "execution_count": null,
      "outputs": [
        {
          "output_type": "execute_result",
          "data": {
            "text/plain": [
              "Date          object\n",
              "Open         float64\n",
              "High         float64\n",
              "Low          float64\n",
              "Close        float64\n",
              "Adj Close    float64\n",
              "Volume       float64\n",
              "dtype: object"
            ]
          },
          "metadata": {
            "tags": []
          },
          "execution_count": 9
        }
      ]
    },
    {
      "cell_type": "markdown",
      "metadata": {
        "id": "C0fYLIiKp4Xn",
        "colab_type": "text"
      },
      "source": [
        "Uma outra maneira de descobrir o tipo das variáveis e ainda ver os valores ausentes nas células, é por meio do método `df.info()`.\n",
        "\n",
        "Veja como ele consegue retornar essas informações de maneira tabular."
      ]
    },
    {
      "cell_type": "code",
      "metadata": {
        "id": "Ty0cRNRDpWLn",
        "colab_type": "code",
        "colab": {
          "base_uri": "https://localhost:8080/",
          "height": 269
        },
        "outputId": "3db99223-a0b4-406f-b20e-b3d2da1617e3"
      },
      "source": [
        "df.info()"
      ],
      "execution_count": null,
      "outputs": [
        {
          "output_type": "stream",
          "text": [
            "<class 'pandas.core.frame.DataFrame'>\n",
            "RangeIndex: 248 entries, 0 to 247\n",
            "Data columns (total 7 columns):\n",
            " #   Column     Non-Null Count  Dtype  \n",
            "---  ------     --------------  -----  \n",
            " 0   Date       248 non-null    object \n",
            " 1   Open       247 non-null    float64\n",
            " 2   High       247 non-null    float64\n",
            " 3   Low        247 non-null    float64\n",
            " 4   Close      247 non-null    float64\n",
            " 5   Adj Close  247 non-null    float64\n",
            " 6   Volume     247 non-null    float64\n",
            "dtypes: float64(6), object(1)\n",
            "memory usage: 13.7+ KB\n"
          ],
          "name": "stdout"
        }
      ]
    },
    {
      "cell_type": "markdown",
      "metadata": {
        "id": "6gqXaGSfwucC",
        "colab_type": "text"
      },
      "source": [
        "### Selecionando colunas\n",
        "\n",
        "Há diversas maneiras de selecionar um sub-conjunto de dados em uma estrutura *DataFrame*.\n",
        "\n",
        "Na maioria dos casos, o que queremos fazer é selecionar apenas uma coluna de todo o *DataFrame*.\n",
        "\n",
        "Para selecionar uma variável, você deve colocar o nome da coluna entre colchetes, referenciando a variável onde os seus dados foram importados."
      ]
    },
    {
      "cell_type": "code",
      "metadata": {
        "id": "zkorkp4_wuRf",
        "colab_type": "code",
        "colab": {
          "base_uri": "https://localhost:8080/",
          "height": 233
        },
        "outputId": "3ee714bb-827f-4095-8000-c2ed1ace761e"
      },
      "source": [
        "# selecionar a variável (coluna) \"High\" da nossa variável df\n",
        "df[\"High\"]"
      ],
      "execution_count": null,
      "outputs": [
        {
          "output_type": "execute_result",
          "data": {
            "text/plain": [
              "0      49.669998\n",
              "1      49.680000\n",
              "2      50.840000\n",
              "3      51.259998\n",
              "4      51.189999\n",
              "         ...    \n",
              "243    26.200001\n",
              "244    29.250000\n",
              "245    30.209999\n",
              "246    28.780001\n",
              "247    27.760000\n",
              "Name: High, Length: 248, dtype: float64"
            ]
          },
          "metadata": {
            "tags": []
          },
          "execution_count": 11
        }
      ]
    },
    {
      "cell_type": "markdown",
      "metadata": {
        "id": "yBmCSgY5riu7",
        "colab_type": "text"
      },
      "source": [
        "Caso o nome das coluna não contenha espaços em branco e caracteres especiais, você consegue selecionar ela de outra maneira (muito mais prática, na minha opinião).\n",
        "\n",
        "No lugar de `df[\"High\"]` você pode usar `df.High`, que terá o mesmo efeito."
      ]
    },
    {
      "cell_type": "code",
      "metadata": {
        "id": "tnh8IkUtr9S6",
        "colab_type": "code",
        "colab": {
          "base_uri": "https://localhost:8080/",
          "height": 233
        },
        "outputId": "e7c1a85d-038a-4e90-b9fe-0a1e39ec74a6"
      },
      "source": [
        "# selecionar a variável (coluna) \"High\" da nossa variável df\n",
        "df.High"
      ],
      "execution_count": null,
      "outputs": [
        {
          "output_type": "execute_result",
          "data": {
            "text/plain": [
              "0      49.669998\n",
              "1      49.680000\n",
              "2      50.840000\n",
              "3      51.259998\n",
              "4      51.189999\n",
              "         ...    \n",
              "243    26.200001\n",
              "244    29.250000\n",
              "245    30.209999\n",
              "246    28.780001\n",
              "247    27.760000\n",
              "Name: High, Length: 248, dtype: float64"
            ]
          },
          "metadata": {
            "tags": []
          },
          "execution_count": 12
        }
      ]
    },
    {
      "cell_type": "markdown",
      "metadata": {
        "id": "rro80XstwuFi",
        "colab_type": "text"
      },
      "source": [
        "### Calculando a média de uma coluna\n",
        "\n",
        "Quando executamos o código `df.High`, você viu acima que foi impressa apenas a coluna de valores `High`. Para encontrar a média desses valores, basta utilizar `df.High.mean()`."
      ]
    },
    {
      "cell_type": "code",
      "metadata": {
        "id": "drcpq2FXwt5w",
        "colab_type": "code",
        "colab": {
          "base_uri": "https://localhost:8080/",
          "height": 35
        },
        "outputId": "76d8f837-dc51-404b-95c8-812bff0f3043"
      },
      "source": [
        "# calcular a média da coluna \"High\"\n",
        "df.High.mean()"
      ],
      "execution_count": null,
      "outputs": [
        {
          "output_type": "execute_result",
          "data": {
            "text/plain": [
              "46.57639677327938"
            ]
          },
          "metadata": {
            "tags": []
          },
          "execution_count": 13
        }
      ]
    },
    {
      "cell_type": "markdown",
      "metadata": {
        "id": "qlAqNkaOwtug",
        "colab_type": "text"
      },
      "source": [
        "Isso significa que a média dos valores da coluna `High` é `46.57639677327938`. Como vamos ver ao longo do curso, existem muitas outras medidas importantes."
      ]
    },
    {
      "cell_type": "markdown",
      "metadata": {
        "id": "QG_6v5yTnzqx",
        "colab_type": "text"
      },
      "source": [
        "## Trabalhando com datas (`datetime`)\n",
        "\n",
        "Quando você importar um arquivo que tenha datas, provavelmente o Pandas não irá reconhecer as mesmas de maneira automática.\n",
        "\n",
        "Quando você checou `df.info()`, viu que a coluna `Date` estava como `object`. No caso, ela é apenas texto (`string`) e não permite a extração de muita coisa útil.\n",
        "\n",
        "Vamos converter a coluna usando `pd.to_datetime` e informando qual o formato da nossa data."
      ]
    },
    {
      "cell_type": "code",
      "metadata": {
        "id": "SBoh5heIvYxg",
        "colab_type": "code",
        "colab": {
          "base_uri": "https://localhost:8080/",
          "height": 233
        },
        "outputId": "689deec0-a6c7-4295-d465-1efa1602a25f"
      },
      "source": [
        "# antes\n",
        "df.Date"
      ],
      "execution_count": null,
      "outputs": [
        {
          "output_type": "execute_result",
          "data": {
            "text/plain": [
              "0      2019-05-06\n",
              "1      2019-05-07\n",
              "2      2019-05-08\n",
              "3      2019-05-09\n",
              "4      2019-05-10\n",
              "          ...    \n",
              "243    2020-04-27\n",
              "244    2020-04-28\n",
              "245    2020-04-29\n",
              "246    2020-04-30\n",
              "247    2020-05-04\n",
              "Name: Date, Length: 248, dtype: object"
            ]
          },
          "metadata": {
            "tags": []
          },
          "execution_count": 14
        }
      ]
    },
    {
      "cell_type": "code",
      "metadata": {
        "id": "90EfusqfvPtF",
        "colab_type": "code",
        "colab": {}
      },
      "source": [
        "# converter coluna Date em datetime\n",
        "df.Date = pd.to_datetime(df.Date, format=\"%Y-%m-%d\")"
      ],
      "execution_count": null,
      "outputs": []
    },
    {
      "cell_type": "code",
      "metadata": {
        "id": "CIyF3LROvjhs",
        "colab_type": "code",
        "colab": {
          "base_uri": "https://localhost:8080/",
          "height": 233
        },
        "outputId": "6b3fb6cf-5fec-4e62-f206-8d02379f4cc3"
      },
      "source": [
        "# depois\n",
        "df.Date"
      ],
      "execution_count": null,
      "outputs": [
        {
          "output_type": "execute_result",
          "data": {
            "text/plain": [
              "0     2019-05-06\n",
              "1     2019-05-07\n",
              "2     2019-05-08\n",
              "3     2019-05-09\n",
              "4     2019-05-10\n",
              "         ...    \n",
              "243   2020-04-27\n",
              "244   2020-04-28\n",
              "245   2020-04-29\n",
              "246   2020-04-30\n",
              "247   2020-05-04\n",
              "Name: Date, Length: 248, dtype: datetime64[ns]"
            ]
          },
          "metadata": {
            "tags": []
          },
          "execution_count": 16
        }
      ]
    },
    {
      "cell_type": "markdown",
      "metadata": {
        "id": "4ZY1LxSLvqEl",
        "colab_type": "text"
      },
      "source": [
        "Olhe como agora eu consigo acessar apenas os componentes de uma data, individualmente, usando `df.Date.dt`"
      ]
    },
    {
      "cell_type": "code",
      "metadata": {
        "id": "BWhWxO9jv2W3",
        "colab_type": "code",
        "colab": {
          "base_uri": "https://localhost:8080/",
          "height": 233
        },
        "outputId": "86470a99-919d-475a-f01a-157c956a5dc1"
      },
      "source": [
        "df.Date.dt.year"
      ],
      "execution_count": null,
      "outputs": [
        {
          "output_type": "execute_result",
          "data": {
            "text/plain": [
              "0      2019\n",
              "1      2019\n",
              "2      2019\n",
              "3      2019\n",
              "4      2019\n",
              "       ... \n",
              "243    2020\n",
              "244    2020\n",
              "245    2020\n",
              "246    2020\n",
              "247    2020\n",
              "Name: Date, Length: 248, dtype: int64"
            ]
          },
          "metadata": {
            "tags": []
          },
          "execution_count": 17
        }
      ]
    },
    {
      "cell_type": "code",
      "metadata": {
        "id": "yPg-cHLUwJkT",
        "colab_type": "code",
        "colab": {
          "base_uri": "https://localhost:8080/",
          "height": 233
        },
        "outputId": "d94dcb61-1b16-4218-ad7d-1131595059f6"
      },
      "source": [
        "df.Date.dt.month"
      ],
      "execution_count": null,
      "outputs": [
        {
          "output_type": "execute_result",
          "data": {
            "text/plain": [
              "0      5\n",
              "1      5\n",
              "2      5\n",
              "3      5\n",
              "4      5\n",
              "      ..\n",
              "243    4\n",
              "244    4\n",
              "245    4\n",
              "246    4\n",
              "247    5\n",
              "Name: Date, Length: 248, dtype: int64"
            ]
          },
          "metadata": {
            "tags": []
          },
          "execution_count": 18
        }
      ]
    },
    {
      "cell_type": "code",
      "metadata": {
        "id": "dKiwxM56wHAb",
        "colab_type": "code",
        "colab": {
          "base_uri": "https://localhost:8080/",
          "height": 233
        },
        "outputId": "f3eed4b7-6c73-431f-9e45-23658b98fd10"
      },
      "source": [
        "df.Date.dt.day"
      ],
      "execution_count": null,
      "outputs": [
        {
          "output_type": "execute_result",
          "data": {
            "text/plain": [
              "0       6\n",
              "1       7\n",
              "2       8\n",
              "3       9\n",
              "4      10\n",
              "       ..\n",
              "243    27\n",
              "244    28\n",
              "245    29\n",
              "246    30\n",
              "247     4\n",
              "Name: Date, Length: 248, dtype: int64"
            ]
          },
          "metadata": {
            "tags": []
          },
          "execution_count": 19
        }
      ]
    },
    {
      "cell_type": "markdown",
      "metadata": {
        "id": "dHzx3aWXvIG2",
        "colab_type": "text"
      },
      "source": [
        "\n",
        "No entanto, há vários formatos que um usuário pode lançar como sendo datas. Você pode encontrar exemplos como:\n",
        "\n",
        "* 31/06/15\n",
        "* 31/06/2015\n",
        "* 31-6-15\n",
        "* 2015-6-31\n",
        "* 31 de junho de 2015\n",
        "\n",
        "Para lidar com tudo isso, você vai ter que entender a documentação. Seguem dois links que serão úteis para isso:\n",
        "\n",
        "* https://pandas.pydata.org/docs/reference/api/pandas.to_datetime.html?highlight=to_datetime#pandas.to_datetime\n",
        "* https://docs.python.org/3/library/datetime.html#strftime-and-strptime-behavior"
      ]
    }
  ]
}