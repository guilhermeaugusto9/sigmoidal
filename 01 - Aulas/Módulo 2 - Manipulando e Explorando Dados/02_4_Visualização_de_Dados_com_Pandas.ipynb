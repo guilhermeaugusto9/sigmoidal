{
  "nbformat": 4,
  "nbformat_minor": 0,
  "metadata": {
    "colab": {
      "name": "Visualização de Dados com Pandas.ipynb",
      "provenance": [],
      "collapsed_sections": [],
      "include_colab_link": true
    },
    "kernelspec": {
      "name": "python3",
      "display_name": "Python 3"
    }
  },
  "cells": [
    {
      "cell_type": "markdown",
      "metadata": {
        "id": "view-in-github",
        "colab_type": "text"
      },
      "source": [
        "<a href=\"https://colab.research.google.com/github/guilhermeaugusto9/sigmoidal/blob/master/Visualiza%C3%A7%C3%A3o_de_Dados_com_Pandas.ipynb\" target=\"_parent\"><img src=\"https://colab.research.google.com/assets/colab-badge.svg\" alt=\"Open In Colab\"/></a>"
      ]
    },
    {
      "cell_type": "markdown",
      "metadata": {
        "id": "vvplGyW2N3rX",
        "colab_type": "text"
      },
      "source": [
        "<img alt=\"Colaboratory logo\" width=\"15%\" src=\"https://raw.githubusercontent.com/carlosfab/escola-data-science/master/img/novo_logo_bg_claro.png\">\n",
        "\n",
        "#### **Data Science na Prática 2.0**\n",
        "*by [sigmoidal.ai](https://sigmoidal.ai)*\n",
        "\n",
        "---\n",
        "\n",
        "# Visualização de Dados com Pandas\n",
        "\n",
        "Visualização de dados é algo muito importante para um projeto de *Data Science*.\n",
        "\n",
        "Apesar de termos o Módulo 3 totalmente dedicado a essa finalidade, queria dar uma breve introdução de como o próprio Pandas é capaz de plotar gráficos a partir de um *DataFrame*.\n",
        "\n",
        "Como exemplo, vamos importar mais uma vez os dados da ação BBAS3 do `csv`. No entanto, desta vez vamos fazer uma coisa diferente.\n",
        "\n",
        "Como cada linha representa um dia de pregão da Bolsa de Valores, faz sentido que nosso índice (*index*) seja a coluna `Date`. Também quero que o Pandas leia essa coluna como sendo uma data, convertendo `strings` do tipo `2018-09-21` em variáveis do tipo `datetime`."
      ]
    },
    {
      "cell_type": "code",
      "metadata": {
        "id": "z2RlG83ekNgO",
        "colab_type": "code",
        "colab": {
          "base_uri": "https://localhost:8080/",
          "height": 235
        },
        "outputId": "a4135b44-77b4-4dc9-a5e9-ac3393682edb"
      },
      "source": [
        "# importar pandas\n",
        "import pandas as pd\n",
        "\n",
        "# importar o arquivo csv para o Pandas\n",
        "df = pd.read_csv(\"https://raw.githubusercontent.com/carlosfab/dsnp2/master/datasets/BBAS3.SA.csv\",\n",
        "                parse_dates=True, index_col='Date')\n",
        "\n",
        "# ver as primeiras entradas\n",
        "df.head()"
      ],
      "execution_count": null,
      "outputs": [
        {
          "output_type": "execute_result",
          "data": {
            "text/html": [
              "<div>\n",
              "<style scoped>\n",
              "    .dataframe tbody tr th:only-of-type {\n",
              "        vertical-align: middle;\n",
              "    }\n",
              "\n",
              "    .dataframe tbody tr th {\n",
              "        vertical-align: top;\n",
              "    }\n",
              "\n",
              "    .dataframe thead th {\n",
              "        text-align: right;\n",
              "    }\n",
              "</style>\n",
              "<table border=\"1\" class=\"dataframe\">\n",
              "  <thead>\n",
              "    <tr style=\"text-align: right;\">\n",
              "      <th></th>\n",
              "      <th>Open</th>\n",
              "      <th>High</th>\n",
              "      <th>Low</th>\n",
              "      <th>Close</th>\n",
              "      <th>Adj Close</th>\n",
              "      <th>Volume</th>\n",
              "    </tr>\n",
              "    <tr>\n",
              "      <th>Date</th>\n",
              "      <th></th>\n",
              "      <th></th>\n",
              "      <th></th>\n",
              "      <th></th>\n",
              "      <th></th>\n",
              "      <th></th>\n",
              "    </tr>\n",
              "  </thead>\n",
              "  <tbody>\n",
              "    <tr>\n",
              "      <th>2019-05-06</th>\n",
              "      <td>49.470001</td>\n",
              "      <td>49.669998</td>\n",
              "      <td>49.180000</td>\n",
              "      <td>49.369999</td>\n",
              "      <td>46.886795</td>\n",
              "      <td>6314800.0</td>\n",
              "    </tr>\n",
              "    <tr>\n",
              "      <th>2019-05-07</th>\n",
              "      <td>49.080002</td>\n",
              "      <td>49.680000</td>\n",
              "      <td>48.220001</td>\n",
              "      <td>49.490002</td>\n",
              "      <td>47.000763</td>\n",
              "      <td>10846100.0</td>\n",
              "    </tr>\n",
              "    <tr>\n",
              "      <th>2019-05-08</th>\n",
              "      <td>49.500000</td>\n",
              "      <td>50.840000</td>\n",
              "      <td>49.500000</td>\n",
              "      <td>50.590000</td>\n",
              "      <td>48.045422</td>\n",
              "      <td>14459600.0</td>\n",
              "    </tr>\n",
              "    <tr>\n",
              "      <th>2019-05-09</th>\n",
              "      <td>50.910000</td>\n",
              "      <td>51.259998</td>\n",
              "      <td>50.119999</td>\n",
              "      <td>51.029999</td>\n",
              "      <td>48.463291</td>\n",
              "      <td>15377500.0</td>\n",
              "    </tr>\n",
              "    <tr>\n",
              "      <th>2019-05-10</th>\n",
              "      <td>51.099998</td>\n",
              "      <td>51.189999</td>\n",
              "      <td>49.860001</td>\n",
              "      <td>50.160000</td>\n",
              "      <td>47.637051</td>\n",
              "      <td>8975300.0</td>\n",
              "    </tr>\n",
              "  </tbody>\n",
              "</table>\n",
              "</div>"
            ],
            "text/plain": [
              "                 Open       High        Low      Close  Adj Close      Volume\n",
              "Date                                                                         \n",
              "2019-05-06  49.470001  49.669998  49.180000  49.369999  46.886795   6314800.0\n",
              "2019-05-07  49.080002  49.680000  48.220001  49.490002  47.000763  10846100.0\n",
              "2019-05-08  49.500000  50.840000  49.500000  50.590000  48.045422  14459600.0\n",
              "2019-05-09  50.910000  51.259998  50.119999  51.029999  48.463291  15377500.0\n",
              "2019-05-10  51.099998  51.189999  49.860001  50.160000  47.637051   8975300.0"
            ]
          },
          "metadata": {
            "tags": []
          },
          "execution_count": 1
        }
      ]
    },
    {
      "cell_type": "code",
      "metadata": {
        "id": "4kBKcFR4kR7S",
        "colab_type": "code",
        "colab": {
          "base_uri": "https://localhost:8080/",
          "height": 161
        },
        "outputId": "b24b57ff-b0fb-4d3a-a70e-9c118f09c328"
      },
      "source": [
        "# o index se tornou um datetime\n",
        "df.index"
      ],
      "execution_count": null,
      "outputs": [
        {
          "output_type": "execute_result",
          "data": {
            "text/plain": [
              "DatetimeIndex(['2019-05-06', '2019-05-07', '2019-05-08', '2019-05-09',\n",
              "               '2019-05-10', '2019-05-13', '2019-05-14', '2019-05-15',\n",
              "               '2019-05-16', '2019-05-17',\n",
              "               ...\n",
              "               '2020-04-17', '2020-04-20', '2020-04-22', '2020-04-23',\n",
              "               '2020-04-24', '2020-04-27', '2020-04-28', '2020-04-29',\n",
              "               '2020-04-30', '2020-05-04'],\n",
              "              dtype='datetime64[ns]', name='Date', length=248, freq=None)"
            ]
          },
          "metadata": {
            "tags": []
          },
          "execution_count": 2
        }
      ]
    },
    {
      "cell_type": "markdown",
      "metadata": {
        "id": "QgGsz5Zqo1BO",
        "colab_type": "text"
      },
      "source": [
        "## Gráfico de Linhas\n",
        "\n",
        "Vamos supor que você quisesse visualizar como foram as máximas das ações do Banco do Brasil.\n",
        "\n",
        "Vimos lá atrás que é possível selecionar apenas uma coluna de um *DataFrame*. Neste exemplo, vou selecionar a variável `High` usando `df['High']'.\n",
        "\n",
        "Em seguida, a unica coisa que eu faço é executar o método `plot()`"
      ]
    },
    {
      "cell_type": "code",
      "metadata": {
        "id": "NL_s3octmF1U",
        "colab_type": "code",
        "colab": {
          "base_uri": "https://localhost:8080/",
          "height": 277
        },
        "outputId": "09803eef-e331-40e6-fa0b-eda412ccb696"
      },
      "source": [
        "df['High'].plot();"
      ],
      "execution_count": null,
      "outputs": [
        {
          "output_type": "display_data",
          "data": {
            "image/png": "[encoded data removed]",
            "text/plain": [
              "<Figure size 432x288 with 1 Axes>"
            ]
          },
          "metadata": {
            "tags": [],
            "needs_background": "light"
          }
        }
      ]
    },
    {
      "cell_type": "markdown",
      "metadata": {
        "id": "UkXp_fRgqjiS",
        "colab_type": "text"
      },
      "source": [
        "## Histograma\n",
        "\n",
        "Quando se quer ter uma noção de quantas vezes uma determinada informação aparece no conjunto de dados, plotar o histograma pode ser de grande valor.\n",
        "\n",
        "Histogramas são uma das principais ferramentas da estatística para extrair informações sobre frequencia e distribuição dos nossos dados. Ele é conceitualmente bem simples. Se você nunca teve contato com esse tipo de gráfico, recomendo assistir a [este vídeo da Khan Academy](https://www.youtube.com/watch?v=L0f8d3B8dk4).\n",
        "\n",
        "Vamos plotar o histograma do volume movimentado para as ações do BBAS3."
      ]
    },
    {
      "cell_type": "code",
      "metadata": {
        "id": "qDQLDEjEmf2q",
        "colab_type": "code",
        "colab": {
          "base_uri": "https://localhost:8080/",
          "height": 278
        },
        "outputId": "4075061b-6079-428f-e056-8b5d66aabdc0"
      },
      "source": [
        "# plotar histograma do volume\n",
        "df['Volume'].hist();"
      ],
      "execution_count": null,
      "outputs": [
        {
          "output_type": "display_data",
          "data": {
            "image/png": "[encoded data removed]",
            "text/plain": [
              "<Figure size 432x288 with 1 Axes>"
            ]
          },
          "metadata": {
            "tags": [],
            "needs_background": "light"
          }
        }
      ]
    },
    {
      "cell_type": "markdown",
      "metadata": {
        "id": "EiUdSrcaqgLq",
        "colab_type": "text"
      },
      "source": [
        "## Gráfico de Dispersão (*Scatter Plot*)\n",
        "\n",
        "O gráfico de dispersão é um gráfico ideal para ver a correlação entre duas variáveis quaisquer.\n",
        "\n",
        "Serve não apenas para mostrar quanto uma variável é afetada por outra, mas também para plotar coordenadas geográficas para ter um *awareness* (como foi feito no projeto do Módulo 1).\n",
        "\n",
        "Como não faz sentido com os dados do BBAS3, vou trabalhar com outro *dataset*. Vamos usar dados de consumo de cerveja em uma região universitária da cidade de São Paulo.\n",
        "\n",
        "Para mais informações sobre os dados, acesse [este link](https://www.kaggle.com/dongeorge/beer-consumption-sao-paulo)."
      ]
    },
    {
      "cell_type": "code",
      "metadata": {
        "id": "zI75SRm-smMe",
        "colab_type": "code",
        "colab": {
          "base_uri": "https://localhost:8080/",
          "height": 204
        },
        "outputId": "39d37ff0-091d-4260-b77d-4603434abd02"
      },
      "source": [
        "# importar dados de consumo de cerveja\n",
        "df_cerveja = pd.read_csv(\"https://raw.githubusercontent.com/carlosfab/dsnp2/master/datasets/consumo_cerveja.csv\")\n",
        "\n",
        "# ver as 5 primeiras entradas\n",
        "df_cerveja.head()"
      ],
      "execution_count": null,
      "outputs": [
        {
          "output_type": "execute_result",
          "data": {
            "text/html": [
              "<div>\n",
              "<style scoped>\n",
              "    .dataframe tbody tr th:only-of-type {\n",
              "        vertical-align: middle;\n",
              "    }\n",
              "\n",
              "    .dataframe tbody tr th {\n",
              "        vertical-align: top;\n",
              "    }\n",
              "\n",
              "    .dataframe thead th {\n",
              "        text-align: right;\n",
              "    }\n",
              "</style>\n",
              "<table border=\"1\" class=\"dataframe\">\n",
              "  <thead>\n",
              "    <tr style=\"text-align: right;\">\n",
              "      <th></th>\n",
              "      <th>data</th>\n",
              "      <th>media</th>\n",
              "      <th>minima</th>\n",
              "      <th>maxima</th>\n",
              "      <th>precipitacao</th>\n",
              "      <th>fds</th>\n",
              "      <th>consumo</th>\n",
              "    </tr>\n",
              "  </thead>\n",
              "  <tbody>\n",
              "    <tr>\n",
              "      <th>0</th>\n",
              "      <td>2015-01-01</td>\n",
              "      <td>27.30</td>\n",
              "      <td>23.9</td>\n",
              "      <td>32.5</td>\n",
              "      <td>0.0</td>\n",
              "      <td>0.0</td>\n",
              "      <td>25.461</td>\n",
              "    </tr>\n",
              "    <tr>\n",
              "      <th>1</th>\n",
              "      <td>2015-01-02</td>\n",
              "      <td>27.02</td>\n",
              "      <td>24.5</td>\n",
              "      <td>33.5</td>\n",
              "      <td>0.0</td>\n",
              "      <td>0.0</td>\n",
              "      <td>28.972</td>\n",
              "    </tr>\n",
              "    <tr>\n",
              "      <th>2</th>\n",
              "      <td>2015-01-03</td>\n",
              "      <td>24.82</td>\n",
              "      <td>22.4</td>\n",
              "      <td>29.9</td>\n",
              "      <td>0.0</td>\n",
              "      <td>1.0</td>\n",
              "      <td>30.814</td>\n",
              "    </tr>\n",
              "    <tr>\n",
              "      <th>3</th>\n",
              "      <td>2015-01-04</td>\n",
              "      <td>23.98</td>\n",
              "      <td>21.5</td>\n",
              "      <td>28.6</td>\n",
              "      <td>1.2</td>\n",
              "      <td>1.0</td>\n",
              "      <td>29.799</td>\n",
              "    </tr>\n",
              "    <tr>\n",
              "      <th>4</th>\n",
              "      <td>2015-01-05</td>\n",
              "      <td>23.82</td>\n",
              "      <td>21.0</td>\n",
              "      <td>28.3</td>\n",
              "      <td>0.0</td>\n",
              "      <td>0.0</td>\n",
              "      <td>28.900</td>\n",
              "    </tr>\n",
              "  </tbody>\n",
              "</table>\n",
              "</div>"
            ],
            "text/plain": [
              "         data  media  minima  maxima  precipitacao  fds  consumo\n",
              "0  2015-01-01  27.30    23.9    32.5           0.0  0.0   25.461\n",
              "1  2015-01-02  27.02    24.5    33.5           0.0  0.0   28.972\n",
              "2  2015-01-03  24.82    22.4    29.9           0.0  1.0   30.814\n",
              "3  2015-01-04  23.98    21.5    28.6           1.2  1.0   29.799\n",
              "4  2015-01-05  23.82    21.0    28.3           0.0  0.0   28.900"
            ]
          },
          "metadata": {
            "tags": []
          },
          "execution_count": 5
        }
      ]
    },
    {
      "cell_type": "code",
      "metadata": {
        "id": "p06D99BmjljD",
        "colab_type": "code",
        "colab": {
          "base_uri": "https://localhost:8080/",
          "height": 297
        },
        "outputId": "92d41e0e-4e2b-48e1-913a-80d518d96769"
      },
      "source": [
        "# plotar um gráfico de dispersão\n",
        "df_cerveja.plot.scatter('media', 'consumo')"
      ],
      "execution_count": null,
      "outputs": [
        {
          "output_type": "execute_result",
          "data": {
            "text/plain": [
              "<matplotlib.axes._subplots.AxesSubplot at 0x7f93be5d90b8>"
            ]
          },
          "metadata": {
            "tags": []
          },
          "execution_count": 6
        },
        {
          "output_type": "display_data",
          "data": {
            "image/png": "[encoded data removed]",
            "text/plain": [
              "<Figure size 432x288 with 1 Axes>"
            ]
          },
          "metadata": {
            "tags": [],
            "needs_background": "light"
          }
        }
      ]
    },
    {
      "cell_type": "markdown",
      "metadata": {
        "id": "vx7UylHTnwjC",
        "colab_type": "text"
      },
      "source": [
        "*Os dados usados acima não são os originais, sofreram um processo rápido de limpeza. Caso você queira veer como foi feito, acesse a célula de código abaixo.*"
      ]
    },
    {
      "cell_type": "code",
      "metadata": {
        "id": "2hDq2mn_n7ZY",
        "colab_type": "code",
        "cellView": "form",
        "colab": {}
      },
      "source": [
        "#@title\n",
        "# importar dados original de consumo de cerveja \n",
        "df_cerveja_original = pd.read_csv(\"https://raw.githubusercontent.com/carlosfab/dsnp2/master/datasets/consumo_cerveja_original.csv\")\n",
        "df_cerveja_original.dropna(inplace=True)\n",
        "\n",
        "# trocar nomes das colunas\n",
        "df_cerveja_original.columns= ['data', 'media', 'minima', 'maxima','precipitacao', 'fds', 'consumo']\n",
        "\n",
        "df_cerveja_original.media = df_cerveja_original.media.apply(lambda x: float(x.replace(\",\", \".\")))\n",
        "df_cerveja_original.minima = df_cerveja_original.minima.apply(lambda x: float(x.replace(\",\", \".\")))\n",
        "df_cerveja_original.maxima = df_cerveja_original.maxima.apply(lambda x: float(x.replace(\",\", \".\")))\n",
        "df_cerveja_original.precipitacao = df_cerveja_original.precipitacao.apply(lambda x: float(x.replace(\",\", \".\")))\n",
        "\n",
        "# exportar para csv\n",
        "df_cerveja_original.to_csv('consumo_cerveja.csv', index=False)"
      ],
      "execution_count": null,
      "outputs": []
    },
    {
      "cell_type": "markdown",
      "metadata": {
        "id": "kfYfXZuMsoAk",
        "colab_type": "text"
      },
      "source": [
        "## Boxplot\n",
        "\n",
        "Boxplot é um dos tipos de gráficos que conseguem fornecer o maior número de informações estatísticas de uma vez só.\n",
        "\n",
        "<center><img src=\"https://pro.arcgis.com/en/pro-app/help/analysis/geoprocessing/charts/GUID-0E2C3730-C535-40CD-8152-80D794A996A7-web.png\" height=\"200px\"></center>\n",
        "\n",
        "É possível ter em uma imagem os valores máximos, mínimos, quartis e mediana. *Outliers* também são representados como pontos acima do valor máximo ou abaixo do valor mínimo"
      ]
    },
    {
      "cell_type": "code",
      "metadata": {
        "id": "rB3noktZnRTR",
        "colab_type": "code",
        "colab": {
          "base_uri": "https://localhost:8080/",
          "height": 265
        },
        "outputId": "29827175-154b-4f18-9b48-68fe5caf0c5f"
      },
      "source": [
        "# plotar o boxplot para os valores máximos de consumo de cerveja\n",
        "df_cerveja.consumo.plot(kind=\"box\");"
      ],
      "execution_count": null,
      "outputs": [
        {
          "output_type": "display_data",
          "data": {
            "image/png": "[encoded data removed]",
            "text/plain": [
              "<Figure size 432x288 with 1 Axes>"
            ]
          },
          "metadata": {
            "tags": [],
            "needs_background": "light"
          }
        }
      ]
    },
    {
      "cell_type": "code",
      "metadata": {
        "id": "71yeEn7nY_AT",
        "colab_type": "code",
        "colab": {
          "base_uri": "https://localhost:8080/",
          "height": 265
        },
        "outputId": "3a86e616-dcb7-4e51-aa31-2d3c38fff737"
      },
      "source": [
        "# plotar o boxplot para os valores máximos da ação\n",
        "df.High.plot(kind=\"box\");"
      ],
      "execution_count": null,
      "outputs": [
        {
          "output_type": "display_data",
          "data": {
            "image/png": "[encoded data removed]",
            "text/plain": [
              "<Figure size 432x288 with 1 Axes>"
            ]
          },
          "metadata": {
            "tags": [],
            "needs_background": "light"
          }
        }
      ]
    },
    {
      "cell_type": "code",
      "metadata": {
        "id": "n7o207a0pMTg",
        "colab_type": "code",
        "colab": {}
      },
      "source": [
        ""
      ],
      "execution_count": null,
      "outputs": []
    }
  ]
}