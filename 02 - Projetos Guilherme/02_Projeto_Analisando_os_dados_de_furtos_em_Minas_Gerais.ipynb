{
  "cells": [
    {
      "cell_type": "markdown",
      "metadata": {
        "id": "view-in-github",
        "colab_type": "text"
      },
      "source": [
        "<a href=\"https://colab.research.google.com/github/guilhermeaugusto9/sigmoidal/blob/master/02%20-%20Projetos%20Guilherme/02_Projeto_Analisando_os_dados_de_furtos_em_Minas_Gerais.ipynb\" target=\"_parent\"><img src=\"https://colab.research.google.com/assets/colab-badge.svg\" alt=\"Open In Colab\"/></a>"
      ]
    },
    {
      "cell_type": "markdown",
      "metadata": {
        "id": "sgQM5koBQWdw",
        "colab_type": "text"
      },
      "source": [
        "<center><img alt = \"Colaboratory logo\" width = \"15%\" src = \"https://github.com/guilhermeaugusto9/sigmoidal/raw/master/03%20-%20Outros/Logo%20Guilherme%20Augusto.png\"></center>\n",
        "\n",
        "#### **Data Science e Análise de dados**\n",
        "*by [Guilherme Augusto](https://github.com/guilhermeaugusto9)\n",
        "\n",
        "---"
      ]
    },
    {
      "cell_type": "markdown",
      "metadata": {
        "id": "c6zTs6snQVJ9",
        "colab_type": "text"
      },
      "source": [
        "# Analisando os dados de furtos em Minas Gerais\n",
        "\n"
      ]
    },
    {
      "cell_type": "markdown",
      "metadata": {
        "id": "r6S7TT5fVKon",
        "colab_type": "text"
      },
      "source": [
        "Minas Gerais é uma das 27 unidades federativas do Brasil, sendo o quarto estado com a maior área territorial e o segundo em quantidade de habitantes, localizada na Região Sudeste do país.\n",
        "\n",
        "Limita-se ao sul e sudoeste com São Paulo, a oeste com Mato Grosso do Sul, a noroeste com Goiás e Distrito Federal, a norte e nordeste com a Bahia, a leste com o Espírito Santo e a sudeste com o Rio de Janeiro. \n",
        "\n",
        "Seu território é subdividido em 853 municípios, a maior quantidade dentre os estados brasileiros."
      ]
    },
    {
      "cell_type": "markdown",
      "metadata": {
        "id": "WH2a6PrQVK1n",
        "colab_type": "text"
      },
      "source": [
        "<center><img alt = \"Ouro preto\" width = \"70%\" src = \"https://d1e676vce0x2at.cloudfront.net/uploads/post/image/10806/main_CAPA_-_WhatsApp_Image_2019-07-16_at_12.18.03.jpeg\"></center>"
      ]
    },
    {
      "cell_type": "markdown",
      "metadata": {
        "id": "OqKWQfn_VLBF",
        "colab_type": "text"
      },
      "source": [
        "Em 2012, cerca de 84,5% da população mineira, o que representa mais de 16,7 milhões de pessoas, viviam nas cidades, sendo que a taxa de urbanização era ligeiramente menor que a brasileira (84,8%). Outros 2,9 milhões viviam nas áreas rurais do estado.\n",
        "\n",
        "O estado de Minas Gerais possuía, segundo o censo de 2010, 6 028 223 domicílios, sendo 5 187 234 na zona urbana (86,05%) e 840 989 na zona rural (13,95%).Desse total, 5 358 704 eram casas (88,89%), 588 530 eram apartamentos (9,76%), 51 837 eram casas de vila ou em condomínio (0,86%), 28 988 eram habitações em casa de cômodos ou cortiços (0,48%) e 164 eram ocas ou malocas.Quanto à forma de ocupação, 4 358 203 domicílios eram próprios (72,30%), sendo 4 067 375 próprios já quitados (67,47%) e 290 828 em processo de aquisição (4,82%); 1 106 769 eram alugados (18,36%); 538 529 eram cedidos (8,93%), sendo 171 537 por empregador (2,85%) e 366 992 cedidos de outra forma (6,09%) e os 24 722 restantes eram ocupados sob outras condições (0,41%).\n"
      ]
    },
    {
      "cell_type": "markdown",
      "metadata": {
        "id": "yGg4tGvHVLL1",
        "colab_type": "text"
      },
      "source": [
        "## Desigualdade e violência\n",
        "\n",
        "Segundo os critérios elaborados pela Fundação João Pinheiro, o déficit habitacional ultrapassava 557 mil pessoas, dos quais mais de 507 mil estavam situados na zona urbana. Este indicador representa a parcela da população cujas moradias não apresentam o mínimo de infraestrutura necessária ou que pagam aluguel que compromete a renda familiar ou que moram em locais com uma quantidade elevada de pessoas.\n",
        "\n"
      ]
    },
    {
      "cell_type": "markdown",
      "metadata": {
        "id": "fZ7nLjOIXeOJ",
        "colab_type": "text"
      },
      "source": [
        "<center><img alt = \"Ouro preto\" width = \"70%\" src = \"https://lh3.googleusercontent.com/proxy/qonz7iMCAIe_hgFeBnJtArDaBrYscxI_7j4WE3zr_syD0sJIyuIEEiGsb87LsZJ_oYORXukevxrVVPplK29yJmMA0rvf9r5Hh38k6AzjVwRjYts9qd02zVLwnAdXPkMePEp5DA\"></center>"
      ]
    },
    {
      "cell_type": "markdown",
      "metadata": {
        "id": "p4kSto5kYPHk",
        "colab_type": "text"
      },
      "source": [
        "O rendimento médio per capita de Minas Gerais é de 733 reais, de acordo com o censo realizado em 2010 pelo IBGE, encontrando-se abaixo da média nacional.Contudo, o estado apresenta uma grande disparidade entre suas regiões no que se refere ao desenvolvimento econômico e social. As regiões mais ricas do estado, como a Central e o Triângulo Mineiro possuem renda per capita de mais de novecentos reais, enquanto as áreas mais pobres localizadas no norte do estado, especialmente nos vales do Jequitinhonha e do Mucuri, este valor não ultrapassa quinhentos reais. \n",
        "\n",
        "O Índice de Desenvolvimento Humano, baseados em fatores como saúde, educação e qualidade de vida, revelam de forma ainda mais acentuada a desigualdade entre as regiões de Minas Gerais. O norte e nordeste do estado concentram a maioria dos municípios com baixo IDH, enquanto a região Sul, Triângulo e Alto Paranaíba que a situação é oposta. A região central do estado, embora seja rica, possui alto índice de desigualdade, ou seja, a renda não é igualmente distribuída entre a população.\n",
        "\n",
        "Cerca de seiscentos mil pessoas moram em aglomerados subnormais, dos quais pouco mais da metade estão na capital mineira. O maior aglomerado, contudo, localiza-se em Betim e possui mais de vinte e três mil habitantes. Coronel Fabriciano e Vespasiano são os que apresentam maior porcentagem da população vivendo nessas áreas (mais de 20%)."
      ]
    },
    {
      "cell_type": "markdown",
      "metadata": {
        "id": "qycmN5oJYPa9",
        "colab_type": "text"
      },
      "source": [
        "<center><img alt = \"Ouro preto\" width = \"70%\" src = \"https://3.bp.blogspot.com/-TCUHo8hvSSQ/V1HD1eJAskI/AAAAAAAACJU/m49yahw3m_8WOaQt-u53tb_h10omQL71QCLcB/s1600/charge_desigualdade_social.jpg\"></center>"
      ]
    },
    {
      "cell_type": "markdown",
      "metadata": {
        "id": "hBnibqBoYPnM",
        "colab_type": "text"
      },
      "source": [
        "Para a especialista Sônia Rocha a desigualdade é uma das causas da violência entretanto ela ressalta em sua entrevista a folha \"Não é só o contraste entre riqueza e pobreza. O poder, a renda alta, a possibilidade de consumo são imolados para a população de baixa renda. Isso gera insatisfação. As condições de desigualdade, do mercado de trabalho e de acesso à renda tornam isso [o consumo] algo totalmente fora das possibilidades de grande parte da população. Isso gera uma insatisfação horrorosa, que gera, claro, violência também.\""
      ]
    },
    {
      "cell_type": "markdown",
      "metadata": {
        "id": "MBufOQy4Z_Qs",
        "colab_type": "text"
      },
      "source": [
        "Iremos nesta análise observar então os dados disponibilizados pela Secretaria de Estado de Justiça e Segurança Pública (Sejusp), delimitaremos o escopo de nossos dados nos atendo somente aos dados de furtos. Uma análise completa de todas as tipificações ficaria extremamente extensa e esses dados somente poderão dar ao leitor um ótimo overview da evolução da criminalidade no estado de Minas Gerais."
      ]
    },
    {
      "cell_type": "markdown",
      "metadata": {
        "id": "SCDyuF6tbn8g",
        "colab_type": "text"
      },
      "source": [
        "## Definição Furto\n",
        "\n",
        "Já que delimitamos o escopo de nossa análise apenas para furtos, é importantíssimo que fique bem claro ao leitor qual o conceito de furto, ou seja o que de fato será considerado em nossa análise.\n",
        "\n",
        "Segundo o site direitonet: \"Furto é o crime contra o patrimônio consistente em subtrair, para si ou para outrem, coisa alheia móvel. O crime de furto é punível com reclusão, de um a quatro anos, e multa, sendo que, se o criminoso for primário e for de pequeno valor a coisa furtada, poderá o magistrado substituir a pena de reclusão pela de detenção, diminuí-la de um a dois terços ou aplicar somente a pena de multa. De acordo com o artigo 155, § 4º, do Código Penal, o crime de furto será qualificado quando cometido com destruição ou rompimento de obstáculo à subtração da coisa; com abuso de confiança, ou mediante fraude, escalada ou destreza; com emprego de chave falsa; ou mediante concurso de duas ou mais pessoas.\"\n"
      ]
    },
    {
      "cell_type": "markdown",
      "metadata": {
        "id": "LndFBsijcTyT",
        "colab_type": "text"
      },
      "source": [
        "<center><img alt = \"Ouro preto\" width = \"50%\" src = \"https://www.estudopratico.com.br/wp-content/uploads/2018/07/furto-roubo-1200x675.jpg\"></center>"
      ]
    },
    {
      "cell_type": "markdown",
      "metadata": {
        "id": "EdJqtQFececb",
        "colab_type": "text"
      },
      "source": [
        "## Obtenção de dados\n",
        "Todos os dados utilizados aqui froam obtidos a partir do portal [Dados abertos Governo de Minas](http://www.seguranca.mg.gov.br/2018-08-22-13-39-06/dados-abertos).\n",
        "\n",
        "Específicamente para esta análise utilzamos a base a seguir :\n",
        "\n",
        "* `Estratificação de Roubos por Alvo (estabelecimentos comerciais, residências, transporte coletivo, cargas e transeuntes).csv` - "
      ]
    },
    {
      "cell_type": "code",
      "metadata": {
        "id": "5bKCBWE3RQ2A",
        "colab_type": "code",
        "colab": {
          "base_uri": "https://localhost:8080/",
          "height": 34
        },
        "outputId": "e9e168bb-5e1a-4896-e0de-8896094a4ade"
      },
      "source": [
        "#Importar pacotes Python necessários para análise\n",
        "\n",
        "import pandas as pd\n",
        "import matplotlib.pyplot as plt\n",
        "import seaborn as sns\n",
        "import numpy as np\n",
        "!pip install squarify \n",
        "import squarify\n",
        "%matplotlib inline\n"
      ],
      "execution_count": 167,
      "outputs": [
        {
          "output_type": "stream",
          "text": [
            "Requirement already satisfied: squarify in /usr/local/lib/python3.6/dist-packages (0.4.3)\n"
          ],
          "name": "stdout"
        }
      ]
    },
    {
      "cell_type": "code",
      "metadata": {
        "id": "YfBhMfnHRTL-",
        "colab_type": "code",
        "colab": {
          "base_uri": "https://localhost:8080/",
          "height": 71
        },
        "outputId": "1df282d9-e4d9-4332-ee2f-090261bab394"
      },
      "source": [
        "# Importar o arquivos para um dataframe\n",
        "\n",
        "df = pd.read_csv(\"http://www.seguranca.mg.gov.br/images/2020/Junho/Banco%20Alvos%20de%20Furto%20-%20Atualizado%20Maio%202020.csv\",sep=';', encoding='latin-1')"
      ],
      "execution_count": 168,
      "outputs": [
        {
          "output_type": "stream",
          "text": [
            "/usr/local/lib/python3.6/dist-packages/IPython/core/interactiveshell.py:2718: DtypeWarning: Columns (1,2,3,9) have mixed types.Specify dtype option on import or set low_memory=False.\n",
            "  interactivity=interactivity, compiler=compiler, result=result)\n"
          ],
          "name": "stderr"
        }
      ]
    },
    {
      "cell_type": "markdown",
      "metadata": {
        "id": "Ki_LTBLxdQv0",
        "colab_type": "text"
      },
      "source": [
        "Neste ponto foi interessante notar que por algum motivo os dados disponíveis não estavam codificados em `utf-8` e contavam com uma separação não convencional para csv utilizando `;` ao invés das tradicionais `,`.\n",
        "\n",
        "É importante essa observação pois caso você tenha interesse em analisar outros dados disponíveis no portal, apenas o `pd.read_csv`irá apresentar um erro devido a estas particularidades."
      ]
    },
    {
      "cell_type": "markdown",
      "metadata": {
        "id": "XvfyCymzeOGE",
        "colab_type": "text"
      },
      "source": [
        "## Análise Inicial dos Dados\n",
        "\n",
        "Esta etapa tem por objetivo criar uma consciência inicial e permitir um entendimento de como os dados estão estruturados"
      ]
    },
    {
      "cell_type": "markdown",
      "metadata": {
        "id": "Rv_1ucMQeaPW",
        "colab_type": "text"
      },
      "source": [
        "**Dicionário das variáveis**\n",
        "\n",
        "* `Registros` - número de ocorrências registradas\n",
        "* `Natureza` - natureza do crime, para esta base todos são furtos\n",
        "* `Alvos` - alvo do criminoso no furto\n",
        "* `Municipio` - município do registro do crime\n",
        "* `Cód_IBGE` - código IBGE do município\n",
        "* `Mês` - mês do registro do crime\n",
        "* `Ano` - ano do registro do crime\n",
        "* `RISP` - região integrada de segurança pública\n",
        "* `RISP Nova` - nova classificação de região integrada de segurança pública\n",
        "* `RMBH` - apresenta se a cidade faz parte ou não da RMBH"
      ]
    },
    {
      "cell_type": "markdown",
      "metadata": {
        "id": "a_TglRkZgd1E",
        "colab_type": "text"
      },
      "source": [
        "Antes de começarmos a explorar nosso dataset, é preciso saber com o que estamos lidando. Para começarmos a entender melhor esse aspecto, vamos verificar as dimensões do dataset."
      ]
    },
    {
      "cell_type": "code",
      "metadata": {
        "id": "1q2F1HZKReXM",
        "colab_type": "code",
        "colab": {
          "base_uri": "https://localhost:8080/",
          "height": 51
        },
        "outputId": "187caf71-a1ec-4fa3-ca1b-370f40524991"
      },
      "source": [
        "# verificar o tamanho do DataFrame\n",
        "print(\"Variáveis: \", df.shape[1])\n",
        "print(\"Entradas: \", df.shape[0])"
      ],
      "execution_count": 169,
      "outputs": [
        {
          "output_type": "stream",
          "text": [
            "Variáveis:  10\n",
            "Entradas:  443560\n"
          ],
          "name": "stdout"
        }
      ]
    },
    {
      "cell_type": "code",
      "metadata": {
        "id": "hNzVqEMKgkne",
        "colab_type": "code",
        "colab": {}
      },
      "source": [
        "Agora que já sabemos com a dimensão dos dados com que estamos lidando, vamos verificar que tipo de dados nós temos, verificando as variáveis existentes no nosso conjunto de dados."
      ],
      "execution_count": null,
      "outputs": []
    },
    {
      "cell_type": "code",
      "metadata": {
        "id": "iMxx4ukFglwJ",
        "colab_type": "code",
        "colab": {
          "base_uri": "https://localhost:8080/",
          "height": 68
        },
        "outputId": "8d018d4a-0b77-42f3-d897-21a87063fbff"
      },
      "source": [
        "# imprimir os nomes das colunas\n",
        "df.columns"
      ],
      "execution_count": 170,
      "outputs": [
        {
          "output_type": "execute_result",
          "data": {
            "text/plain": [
              "Index(['Registros', 'Natureza', 'Alvos', 'Município', 'Cod IBGE', 'Mês ',\n",
              "       'Ano', 'RISP', 'RISP Nova', 'RMBH'],\n",
              "      dtype='object')"
            ]
          },
          "metadata": {
            "tags": []
          },
          "execution_count": 170
        }
      ]
    },
    {
      "cell_type": "markdown",
      "metadata": {
        "id": "z84hqUbAgsh3",
        "colab_type": "text"
      },
      "source": [
        "Sabendo com quantas variáveis e linhas estamos lidando, e que tipo de informação vamos encontrar no dataset, é importante analisarmos o tipo de cada variável que temos.\n",
        "\n",
        "Esse tipo de informação é bastante útil, e nos ajudará a direcionar nosso trabalho na fase de limpeza dos dados."
      ]
    },
    {
      "cell_type": "code",
      "metadata": {
        "id": "TU4fpuMsTDGp",
        "colab_type": "code",
        "colab": {
          "base_uri": "https://localhost:8080/",
          "height": 204
        },
        "outputId": "5560d4fb-346b-4dea-a179-755a20923568"
      },
      "source": [
        "# ver os tipos das variáveis\n",
        "df.dtypes"
      ],
      "execution_count": 171,
      "outputs": [
        {
          "output_type": "execute_result",
          "data": {
            "text/plain": [
              "Registros    float64\n",
              "Natureza      object\n",
              "Alvos         object\n",
              "Município     object\n",
              "Cod IBGE     float64\n",
              "Mês          float64\n",
              "Ano          float64\n",
              "RISP         float64\n",
              "RISP Nova    float64\n",
              "RMBH          object\n",
              "dtype: object"
            ]
          },
          "metadata": {
            "tags": []
          },
          "execution_count": 171
        }
      ]
    },
    {
      "cell_type": "markdown",
      "metadata": {
        "id": "2-YtUeHjg0un",
        "colab_type": "text"
      },
      "source": [
        "Neste ponto já identificamos a necessidade de uma alteração, a conversão das colunas `Registros`,`mês`, `ano`, `RISP`, `RISP Nova` para `Int` pois de fato não são objetos decimais, mas inteiros. Entretanto a conversão só é possível se nas colunas não existir valores NA para tanto iremos checar neste ponto a % de valores NA presentes"
      ]
    },
    {
      "cell_type": "code",
      "metadata": {
        "id": "DJXIw5kPnHd9",
        "colab_type": "code",
        "colab": {
          "base_uri": "https://localhost:8080/",
          "height": 204
        },
        "outputId": "b0736c32-1980-49cd-d476-6db132eecb71"
      },
      "source": [
        "# ver os valores faltantes das colunas\n",
        "(df.isnull().sum()/ df.shape[0]).sort_values(ascending=False)"
      ],
      "execution_count": 172,
      "outputs": [
        {
          "output_type": "execute_result",
          "data": {
            "text/plain": [
              "RMBH         0.375\n",
              "RISP Nova    0.375\n",
              "RISP         0.375\n",
              "Ano          0.375\n",
              "Mês          0.375\n",
              "Cod IBGE     0.375\n",
              "Município    0.375\n",
              "Alvos        0.375\n",
              "Natureza     0.375\n",
              "Registros    0.375\n",
              "dtype: float64"
            ]
          },
          "metadata": {
            "tags": []
          },
          "execution_count": 172
        }
      ]
    },
    {
      "cell_type": "code",
      "metadata": {
        "id": "699EoShOo_wP",
        "colab_type": "code",
        "colab": {
          "base_uri": "https://localhost:8080/",
          "height": 419
        },
        "outputId": "083096d0-537b-458e-e866-39917f962fd2"
      },
      "source": [
        "#vamos então visualizar como estão estes dados NAN\n",
        "nan_rows = df[df.isnull().T.any().T]\n",
        "nan_rows"
      ],
      "execution_count": 173,
      "outputs": [
        {
          "output_type": "execute_result",
          "data": {
            "text/html": [
              "<div>\n",
              "<style scoped>\n",
              "    .dataframe tbody tr th:only-of-type {\n",
              "        vertical-align: middle;\n",
              "    }\n",
              "\n",
              "    .dataframe tbody tr th {\n",
              "        vertical-align: top;\n",
              "    }\n",
              "\n",
              "    .dataframe thead th {\n",
              "        text-align: right;\n",
              "    }\n",
              "</style>\n",
              "<table border=\"1\" class=\"dataframe\">\n",
              "  <thead>\n",
              "    <tr style=\"text-align: right;\">\n",
              "      <th></th>\n",
              "      <th>Registros</th>\n",
              "      <th>Natureza</th>\n",
              "      <th>Alvos</th>\n",
              "      <th>Município</th>\n",
              "      <th>Cod IBGE</th>\n",
              "      <th>Mês</th>\n",
              "      <th>Ano</th>\n",
              "      <th>RISP</th>\n",
              "      <th>RISP Nova</th>\n",
              "      <th>RMBH</th>\n",
              "    </tr>\n",
              "  </thead>\n",
              "  <tbody>\n",
              "    <tr>\n",
              "      <th>277225</th>\n",
              "      <td>NaN</td>\n",
              "      <td>NaN</td>\n",
              "      <td>NaN</td>\n",
              "      <td>NaN</td>\n",
              "      <td>NaN</td>\n",
              "      <td>NaN</td>\n",
              "      <td>NaN</td>\n",
              "      <td>NaN</td>\n",
              "      <td>NaN</td>\n",
              "      <td>NaN</td>\n",
              "    </tr>\n",
              "    <tr>\n",
              "      <th>277226</th>\n",
              "      <td>NaN</td>\n",
              "      <td>NaN</td>\n",
              "      <td>NaN</td>\n",
              "      <td>NaN</td>\n",
              "      <td>NaN</td>\n",
              "      <td>NaN</td>\n",
              "      <td>NaN</td>\n",
              "      <td>NaN</td>\n",
              "      <td>NaN</td>\n",
              "      <td>NaN</td>\n",
              "    </tr>\n",
              "    <tr>\n",
              "      <th>277227</th>\n",
              "      <td>NaN</td>\n",
              "      <td>NaN</td>\n",
              "      <td>NaN</td>\n",
              "      <td>NaN</td>\n",
              "      <td>NaN</td>\n",
              "      <td>NaN</td>\n",
              "      <td>NaN</td>\n",
              "      <td>NaN</td>\n",
              "      <td>NaN</td>\n",
              "      <td>NaN</td>\n",
              "    </tr>\n",
              "    <tr>\n",
              "      <th>277228</th>\n",
              "      <td>NaN</td>\n",
              "      <td>NaN</td>\n",
              "      <td>NaN</td>\n",
              "      <td>NaN</td>\n",
              "      <td>NaN</td>\n",
              "      <td>NaN</td>\n",
              "      <td>NaN</td>\n",
              "      <td>NaN</td>\n",
              "      <td>NaN</td>\n",
              "      <td>NaN</td>\n",
              "    </tr>\n",
              "    <tr>\n",
              "      <th>277229</th>\n",
              "      <td>NaN</td>\n",
              "      <td>NaN</td>\n",
              "      <td>NaN</td>\n",
              "      <td>NaN</td>\n",
              "      <td>NaN</td>\n",
              "      <td>NaN</td>\n",
              "      <td>NaN</td>\n",
              "      <td>NaN</td>\n",
              "      <td>NaN</td>\n",
              "      <td>NaN</td>\n",
              "    </tr>\n",
              "    <tr>\n",
              "      <th>...</th>\n",
              "      <td>...</td>\n",
              "      <td>...</td>\n",
              "      <td>...</td>\n",
              "      <td>...</td>\n",
              "      <td>...</td>\n",
              "      <td>...</td>\n",
              "      <td>...</td>\n",
              "      <td>...</td>\n",
              "      <td>...</td>\n",
              "      <td>...</td>\n",
              "    </tr>\n",
              "    <tr>\n",
              "      <th>443555</th>\n",
              "      <td>NaN</td>\n",
              "      <td>NaN</td>\n",
              "      <td>NaN</td>\n",
              "      <td>NaN</td>\n",
              "      <td>NaN</td>\n",
              "      <td>NaN</td>\n",
              "      <td>NaN</td>\n",
              "      <td>NaN</td>\n",
              "      <td>NaN</td>\n",
              "      <td>NaN</td>\n",
              "    </tr>\n",
              "    <tr>\n",
              "      <th>443556</th>\n",
              "      <td>NaN</td>\n",
              "      <td>NaN</td>\n",
              "      <td>NaN</td>\n",
              "      <td>NaN</td>\n",
              "      <td>NaN</td>\n",
              "      <td>NaN</td>\n",
              "      <td>NaN</td>\n",
              "      <td>NaN</td>\n",
              "      <td>NaN</td>\n",
              "      <td>NaN</td>\n",
              "    </tr>\n",
              "    <tr>\n",
              "      <th>443557</th>\n",
              "      <td>NaN</td>\n",
              "      <td>NaN</td>\n",
              "      <td>NaN</td>\n",
              "      <td>NaN</td>\n",
              "      <td>NaN</td>\n",
              "      <td>NaN</td>\n",
              "      <td>NaN</td>\n",
              "      <td>NaN</td>\n",
              "      <td>NaN</td>\n",
              "      <td>NaN</td>\n",
              "    </tr>\n",
              "    <tr>\n",
              "      <th>443558</th>\n",
              "      <td>NaN</td>\n",
              "      <td>NaN</td>\n",
              "      <td>NaN</td>\n",
              "      <td>NaN</td>\n",
              "      <td>NaN</td>\n",
              "      <td>NaN</td>\n",
              "      <td>NaN</td>\n",
              "      <td>NaN</td>\n",
              "      <td>NaN</td>\n",
              "      <td>NaN</td>\n",
              "    </tr>\n",
              "    <tr>\n",
              "      <th>443559</th>\n",
              "      <td>NaN</td>\n",
              "      <td>NaN</td>\n",
              "      <td>NaN</td>\n",
              "      <td>NaN</td>\n",
              "      <td>NaN</td>\n",
              "      <td>NaN</td>\n",
              "      <td>NaN</td>\n",
              "      <td>NaN</td>\n",
              "      <td>NaN</td>\n",
              "      <td>NaN</td>\n",
              "    </tr>\n",
              "  </tbody>\n",
              "</table>\n",
              "<p>166335 rows × 10 columns</p>\n",
              "</div>"
            ],
            "text/plain": [
              "        Registros Natureza Alvos Município  ...  Ano  RISP  RISP Nova  RMBH\n",
              "277225        NaN      NaN   NaN       NaN  ...  NaN   NaN        NaN   NaN\n",
              "277226        NaN      NaN   NaN       NaN  ...  NaN   NaN        NaN   NaN\n",
              "277227        NaN      NaN   NaN       NaN  ...  NaN   NaN        NaN   NaN\n",
              "277228        NaN      NaN   NaN       NaN  ...  NaN   NaN        NaN   NaN\n",
              "277229        NaN      NaN   NaN       NaN  ...  NaN   NaN        NaN   NaN\n",
              "...           ...      ...   ...       ...  ...  ...   ...        ...   ...\n",
              "443555        NaN      NaN   NaN       NaN  ...  NaN   NaN        NaN   NaN\n",
              "443556        NaN      NaN   NaN       NaN  ...  NaN   NaN        NaN   NaN\n",
              "443557        NaN      NaN   NaN       NaN  ...  NaN   NaN        NaN   NaN\n",
              "443558        NaN      NaN   NaN       NaN  ...  NaN   NaN        NaN   NaN\n",
              "443559        NaN      NaN   NaN       NaN  ...  NaN   NaN        NaN   NaN\n",
              "\n",
              "[166335 rows x 10 columns]"
            ]
          },
          "metadata": {
            "tags": []
          },
          "execution_count": 173
        }
      ]
    },
    {
      "cell_type": "markdown",
      "metadata": {
        "id": "oUZGO08yp1I3",
        "colab_type": "text"
      },
      "source": [
        "Como verificamos, infelizmente são muitas linhas e teremos que retiralas para nossa análise ser viável.\n",
        "\n"
      ]
    },
    {
      "cell_type": "code",
      "metadata": {
        "id": "7apHKFAgqLeP",
        "colab_type": "code",
        "colab": {
          "base_uri": "https://localhost:8080/",
          "height": 51
        },
        "outputId": "9ebd162c-9ab7-443a-9e00-1268c87ea005"
      },
      "source": [
        "#iremos então evidenciar como ficará a base nova, sem os NaN\n",
        "\n",
        "  #Antes\n",
        "shape_antes = df.shape\n",
        "print(\"Antes:\\t\", shape_antes)\n",
        "\n",
        "df.dropna(axis=0, inplace = True)\n",
        "\n",
        "  #Depois\n",
        "\n",
        "shape_depois = df.shape\n",
        "print(\"Depois:\\t\", shape_depois)\n",
        "\n"
      ],
      "execution_count": 174,
      "outputs": [
        {
          "output_type": "stream",
          "text": [
            "Antes:\t (443560, 10)\n",
            "Depois:\t (277225, 10)\n"
          ],
          "name": "stdout"
        }
      ]
    },
    {
      "cell_type": "code",
      "metadata": {
        "id": "3SRAwZrulcW8",
        "colab_type": "code",
        "colab": {
          "base_uri": "https://localhost:8080/",
          "height": 204
        },
        "outputId": "41156fe6-7a74-4968-fc97-402d719e1f71"
      },
      "source": [
        "# verificar se ainda existe algum valores faltantes das colunas\n",
        "(df.isnull().sum()/ df.shape[0]).sort_values(ascending=False)"
      ],
      "execution_count": 175,
      "outputs": [
        {
          "output_type": "execute_result",
          "data": {
            "text/plain": [
              "RMBH         0.0\n",
              "RISP Nova    0.0\n",
              "RISP         0.0\n",
              "Ano          0.0\n",
              "Mês          0.0\n",
              "Cod IBGE     0.0\n",
              "Município    0.0\n",
              "Alvos        0.0\n",
              "Natureza     0.0\n",
              "Registros    0.0\n",
              "dtype: float64"
            ]
          },
          "metadata": {
            "tags": []
          },
          "execution_count": 175
        }
      ]
    },
    {
      "cell_type": "code",
      "metadata": {
        "id": "y1LPn5ZfT-_F",
        "colab_type": "code",
        "colab": {}
      },
      "source": [
        "cols = ['Cod IBGE', 'Mês ','Ano', 'RISP', 'RISP Nova']\n",
        "df[cols] = df[cols].astype('int64')"
      ],
      "execution_count": 176,
      "outputs": []
    },
    {
      "cell_type": "code",
      "metadata": {
        "id": "2jenka8LUBil",
        "colab_type": "code",
        "colab": {
          "base_uri": "https://localhost:8080/",
          "height": 204
        },
        "outputId": "37fbce05-5bbb-42d3-f807-2dae8a2fd452"
      },
      "source": [
        "df.dtypes"
      ],
      "execution_count": 177,
      "outputs": [
        {
          "output_type": "execute_result",
          "data": {
            "text/plain": [
              "Registros    float64\n",
              "Natureza      object\n",
              "Alvos         object\n",
              "Município     object\n",
              "Cod IBGE       int64\n",
              "Mês            int64\n",
              "Ano            int64\n",
              "RISP           int64\n",
              "RISP Nova      int64\n",
              "RMBH          object\n",
              "dtype: object"
            ]
          },
          "metadata": {
            "tags": []
          },
          "execution_count": 177
        }
      ]
    },
    {
      "cell_type": "markdown",
      "metadata": {
        "id": "0KDRSJsbtmj7",
        "colab_type": "text"
      },
      "source": [
        "Com os valores agora convertidos prosseguiremos para a análse e conclusões sobre os dados"
      ]
    },
    {
      "cell_type": "code",
      "metadata": {
        "id": "fefUkKx3oJl7",
        "colab_type": "code",
        "colab": {}
      },
      "source": [
        "#Para facilitar ainda mais a análise vamos considerar apenas as colunas em que existe um registro, ou seja, o número de ocorrência é maior que 0\n",
        "\n",
        "df2 = df[df['Registros']>0]"
      ],
      "execution_count": 178,
      "outputs": []
    },
    {
      "cell_type": "markdown",
      "metadata": {
        "id": "e6R3E_JxwIhQ",
        "colab_type": "text"
      },
      "source": [
        "## 01 - Quantos crimes temos registrados em nossa base ?"
      ]
    },
    {
      "cell_type": "code",
      "metadata": {
        "id": "YuN58t3Jvvcn",
        "colab_type": "code",
        "colab": {
          "base_uri": "https://localhost:8080/",
          "height": 34
        },
        "outputId": "3588924f-7a06-40ac-ae74-4d972aaa5569"
      },
      "source": [
        "df2.Registros.sum()"
      ],
      "execution_count": 179,
      "outputs": [
        {
          "output_type": "execute_result",
          "data": {
            "text/plain": [
              "997957.0"
            ]
          },
          "metadata": {
            "tags": []
          },
          "execution_count": 179
        }
      ]
    },
    {
      "cell_type": "markdown",
      "metadata": {
        "id": "WPcls-TRwPfW",
        "colab_type": "text"
      },
      "source": [
        "## 02 - Quantos crimes temos registrados por Alvo ? "
      ]
    },
    {
      "cell_type": "code",
      "metadata": {
        "id": "WmEjmAWDtyp1",
        "colab_type": "code",
        "colab": {
          "base_uri": "https://localhost:8080/",
          "height": 136
        },
        "outputId": "8cb3f00b-ff5e-4777-84f1-07f81ed5ebf8"
      },
      "source": [
        "df2.groupby(['Alvos'])['Registros'].agg('sum')"
      ],
      "execution_count": 180,
      "outputs": [
        {
          "output_type": "execute_result",
          "data": {
            "text/plain": [
              "Alvos\n",
              "Cargas                         2290.0\n",
              "Estabelecimento Comercial    234632.0\n",
              "Residência                   456587.0\n",
              "Transeunte                   277103.0\n",
              "Transporte Coletivo           27345.0\n",
              "Name: Registros, dtype: float64"
            ]
          },
          "metadata": {
            "tags": []
          },
          "execution_count": 180
        }
      ]
    },
    {
      "cell_type": "markdown",
      "metadata": {
        "id": "8xvDSjOqwdZj",
        "colab_type": "text"
      },
      "source": [
        "# 02.1 - Quanto cada alvo representa da base ?"
      ]
    },
    {
      "cell_type": "code",
      "metadata": {
        "id": "UXQR8w8aunSM",
        "colab_type": "code",
        "colab": {
          "base_uri": "https://localhost:8080/",
          "height": 136
        },
        "outputId": "07d0d461-fe0c-46e0-bc61-e267e72f00f5"
      },
      "source": [
        "(df2.groupby(['Alvos'])['Registros'].agg('sum')/df2.Registros.sum()).sort_values(ascending=False)"
      ],
      "execution_count": 181,
      "outputs": [
        {
          "output_type": "execute_result",
          "data": {
            "text/plain": [
              "Alvos\n",
              "Residência                   0.457522\n",
              "Transeunte                   0.277670\n",
              "Estabelecimento Comercial    0.235112\n",
              "Transporte Coletivo          0.027401\n",
              "Cargas                       0.002295\n",
              "Name: Registros, dtype: float64"
            ]
          },
          "metadata": {
            "tags": []
          },
          "execution_count": 181
        }
      ]
    },
    {
      "cell_type": "code",
      "metadata": {
        "id": "fYMuTbba5ym2",
        "colab_type": "code",
        "colab": {
          "base_uri": "https://localhost:8080/",
          "height": 472
        },
        "outputId": "0294c662-cc5c-4a4c-94c4-11d7797ad0ca"
      },
      "source": [
        "dfp = pd.DataFrame(df2.groupby(['Alvos'])['Registros'].agg('sum').sort_values(ascending=False)).reset_index()\n",
        "# Draw Plot\n",
        "fig, ax = plt.subplots(figsize=(12, 7), subplot_kw=dict(aspect=\"equal\"), dpi= 80)\n",
        "\n",
        "data = dfp['Registros']\n",
        "categories = dfp['Alvos']\n",
        "explode = [0,0.1,0,0,0]\n",
        "\n",
        "def func(pct, allvals):\n",
        "    absolute = int(pct/100.*np.sum(allvals))\n",
        "    return \"{:.1f}% ({:d} )\".format(pct, absolute)\n",
        "\n",
        "wedges, texts, autotexts = ax.pie(data, \n",
        "                                  autopct=lambda pct: func(pct, data),\n",
        "                                  textprops=dict(color=\"w\"), \n",
        "                                  colors=plt.cm.Dark2.colors,\n",
        "                                  startangle=140,\n",
        "                                  explode=explode)\n",
        "\n",
        "# Decoration\n",
        "ax.legend(wedges, categories, title=\"Alvos\", loc=\"center left\", bbox_to_anchor=(1, 0, 0.5, 1))\n",
        "plt.setp(autotexts, size=10, weight=700)\n",
        "ax.set_title(\"Alvos\")\n",
        "plt.show()"
      ],
      "execution_count": 182,
      "outputs": [
        {
          "output_type": "display_data",
          "data": {
            "image/png": "[encoded data removed]",
            "text/plain": [
              "<Figure size 960x560 with 1 Axes>"
            ]
          },
          "metadata": {
            "tags": []
          }
        }
      ]
    },
    {
      "cell_type": "markdown",
      "metadata": {
        "id": "MjyAoF8ExDm3",
        "colab_type": "text"
      },
      "source": [
        "O furto a residências então representa quase metade de todos os furtos registrados 45,75% seguido pelo furto a transeunde 27%, o furto de cargas representa apenas 0,02% acreditamos que o crime mais cometido contra estes alvos seja o \"ROUBO\" em que é empregado o uso de violência e não o Furto"
      ]
    },
    {
      "cell_type": "markdown",
      "metadata": {
        "id": "_A6z6JnbwuWa",
        "colab_type": "text"
      },
      "source": [
        "### 03 - O número de furtos vem aumentando ao longo dos anos ?"
      ]
    },
    {
      "cell_type": "code",
      "metadata": {
        "id": "S2MvHY6Rxze6",
        "colab_type": "code",
        "colab": {
          "base_uri": "https://localhost:8080/",
          "height": 153
        },
        "outputId": "e794feab-a0f4-4509-8e09-ac20c5b6d921"
      },
      "source": [
        "df2.groupby(['Ano'])['Registros'].agg('sum')"
      ],
      "execution_count": 183,
      "outputs": [
        {
          "output_type": "execute_result",
          "data": {
            "text/plain": [
              "Ano\n",
              "2015    187272.0\n",
              "2016    201607.0\n",
              "2017    202305.0\n",
              "2018    187350.0\n",
              "2019    163513.0\n",
              "2020     55910.0\n",
              "Name: Registros, dtype: float64"
            ]
          },
          "metadata": {
            "tags": []
          },
          "execution_count": 183
        }
      ]
    },
    {
      "cell_type": "code",
      "metadata": {
        "id": "cMiZD5Sc2KMp",
        "colab_type": "code",
        "colab": {
          "base_uri": "https://localhost:8080/",
          "height": 707
        },
        "outputId": "ac130437-e1ab-4632-82e7-de30a0721db7"
      },
      "source": [
        "dfb = pd.DataFrame(df2.groupby(['Ano'])['Registros'].agg('sum')).reset_index()\n",
        "sns.set_style('whitegrid')\n",
        "sns.set(rc={'figure.figsize':(12,11)})\n",
        "ax = sns.barplot(x=dfb['Ano'],\n",
        "                 y=dfb['Registros'], data=dfb)\n",
        "for i, val in enumerate(dfb['Registros'].values):\n",
        "        plt.text(i, val, int(val), horizontalalignment='center', verticalalignment='bottom', fontdict={'fontweight':100, 'size':15})\n",
        "plt.xticks(fontsize=12, rotation=40)\n",
        "plt.yticks(fontsize=12)\n",
        "plt.xlabel('Ano', fontsize=15)\n",
        "plt.ylabel('Número de Registros', fontsize=15)\n",
        "plt.title('Crimes por ano', fontsize=17)\n",
        "plt.show()"
      ],
      "execution_count": 184,
      "outputs": [
        {
          "output_type": "display_data",
          "data": {
            "image/png": "[encoded data removed]",
            "text/plain": [
              "<Figure size 864x792 with 1 Axes>"
            ]
          },
          "metadata": {
            "tags": []
          }
        }
      ]
    },
    {
      "cell_type": "markdown",
      "metadata": {
        "id": "uk5qXdxOx7_5",
        "colab_type": "text"
      },
      "source": [
        "A base nos mostra que entre 2015 e 2017 havia um crescimento no número de ocorrências de furto registradas entretanto em 2018 e 2019 o número reduziu por dois anos consecutivos. Como a base apresenta dados até Maio de 2020, caso a criminalidade cresça no mesmo ritmo até o fim desse ano o número de furtos deve apresentar um número em torno de 136 mil ocorrências demonstrando que a PMMG vem realizando um trabalho excelente em reduzir o índice deste tipo de crime"
      ]
    },
    {
      "cell_type": "markdown",
      "metadata": {
        "id": "twtQ-npRzpzn",
        "colab_type": "text"
      },
      "source": [
        "04 - Qual a média anual de crimes de furto por Alvo ?"
      ]
    },
    {
      "cell_type": "code",
      "metadata": {
        "id": "p9KvSI9izpdy",
        "colab_type": "code",
        "colab": {
          "base_uri": "https://localhost:8080/",
          "height": 136
        },
        "outputId": "25708488-3329-4f72-9250-c5656688bee5"
      },
      "source": [
        "(df2.groupby(['Alvos'])['Registros'].agg('sum')/6)"
      ],
      "execution_count": 185,
      "outputs": [
        {
          "output_type": "execute_result",
          "data": {
            "text/plain": [
              "Alvos\n",
              "Cargas                         381.666667\n",
              "Estabelecimento Comercial    39105.333333\n",
              "Residência                   76097.833333\n",
              "Transeunte                   46183.833333\n",
              "Transporte Coletivo           4557.500000\n",
              "Name: Registros, dtype: float64"
            ]
          },
          "metadata": {
            "tags": []
          },
          "execution_count": 185
        }
      ]
    },
    {
      "cell_type": "markdown",
      "metadata": {
        "id": "E166nvtdx3-G",
        "colab_type": "text"
      },
      "source": [
        "## 05 - Quais são 10 as cidades mais violentas do estado?"
      ]
    },
    {
      "cell_type": "code",
      "metadata": {
        "id": "Gay8k399zFZU",
        "colab_type": "code",
        "colab": {
          "base_uri": "https://localhost:8080/",
          "height": 221
        },
        "outputId": "d7185c0b-fed0-42c4-bb5c-744314323fd3"
      },
      "source": [
        "df2.groupby(['Município'])['Registros'].agg('sum').sort_values(ascending=False)[:10]"
      ],
      "execution_count": 186,
      "outputs": [
        {
          "output_type": "execute_result",
          "data": {
            "text/plain": [
              "Município\n",
              "BELO HORIZONTE          206430.0\n",
              "UBERLANDIA               43051.0\n",
              "CONTAGEM                 31919.0\n",
              "JUIZ DE FORA             28316.0\n",
              "MONTES CLAROS            25326.0\n",
              "UBERABA                  22065.0\n",
              "GOVERNADOR VALADARES     19034.0\n",
              "BETIM                    14308.0\n",
              "DIVINOPOLIS              13479.0\n",
              "SETE LAGOAS              13148.0\n",
              "Name: Registros, dtype: float64"
            ]
          },
          "metadata": {
            "tags": []
          },
          "execution_count": 186
        }
      ]
    },
    {
      "cell_type": "code",
      "metadata": {
        "id": "RPgeGaBF1E_b",
        "colab_type": "code",
        "colab": {
          "base_uri": "https://localhost:8080/",
          "height": 532
        },
        "outputId": "fc074161-66ed-4fcf-b895-5cc5c613a85e"
      },
      "source": [
        "dft = pd.DataFrame(df2.groupby(['Município'])['Registros'].agg('sum').sort_values(ascending=False)[:10]).reset_index()\n",
        "\n",
        "# Prepare Data\n",
        "\n",
        "labels = dft.apply(lambda x: str(x[0]) + \"\\n (\" + str(x[1]) + \")\", axis=1)\n",
        "sizes = dft['Registros'].values.tolist()\n",
        "colors = [plt.cm.Spectral(i/float(len(labels))) for i in range(len(labels))]\n",
        "\n",
        "# Draw Plot\n",
        "plt.figure(figsize=(12,8), dpi= 80)\n",
        "squarify.plot(sizes=sizes, label=labels, color=colors, alpha=.8)\n",
        "\n",
        "# Decorate\n",
        "plt.title('As 10 cidades mais violentas do estado')\n",
        "plt.axis('off')\n",
        "plt.show()"
      ],
      "execution_count": 187,
      "outputs": [
        {
          "output_type": "display_data",
          "data": {
            "image/png": "[encoded data removed]",
            "text/plain": [
              "<Figure size 960x640 with 1 Axes>"
            ]
          },
          "metadata": {
            "tags": []
          }
        }
      ]
    },
    {
      "cell_type": "markdown",
      "metadata": {
        "id": "QyGOROkk414n",
        "colab_type": "text"
      },
      "source": [
        "## 06 - Qual o mês violento em cada ano ?"
      ]
    },
    {
      "cell_type": "code",
      "metadata": {
        "id": "t5z-zkEK8ern",
        "colab_type": "code",
        "colab": {
          "base_uri": "https://localhost:8080/",
          "height": 266
        },
        "outputId": "6c80cc16-1650-4bd2-89f2-c7e7a399eb0e"
      },
      "source": [
        "dfm = pd.DataFrame(df2.groupby(['Ano','Mês '])['Registros'].agg('sum')).reset_index()\n",
        "dfm.groupby(['Ano']).max()\n"
      ],
      "execution_count": 190,
      "outputs": [
        {
          "output_type": "execute_result",
          "data": {
            "text/html": [
              "<div>\n",
              "<style scoped>\n",
              "    .dataframe tbody tr th:only-of-type {\n",
              "        vertical-align: middle;\n",
              "    }\n",
              "\n",
              "    .dataframe tbody tr th {\n",
              "        vertical-align: top;\n",
              "    }\n",
              "\n",
              "    .dataframe thead th {\n",
              "        text-align: right;\n",
              "    }\n",
              "</style>\n",
              "<table border=\"1\" class=\"dataframe\">\n",
              "  <thead>\n",
              "    <tr style=\"text-align: right;\">\n",
              "      <th></th>\n",
              "      <th>Mês</th>\n",
              "      <th>Registros</th>\n",
              "    </tr>\n",
              "    <tr>\n",
              "      <th>Ano</th>\n",
              "      <th></th>\n",
              "      <th></th>\n",
              "    </tr>\n",
              "  </thead>\n",
              "  <tbody>\n",
              "    <tr>\n",
              "      <th>2015</th>\n",
              "      <td>12</td>\n",
              "      <td>16544.0</td>\n",
              "    </tr>\n",
              "    <tr>\n",
              "      <th>2016</th>\n",
              "      <td>12</td>\n",
              "      <td>17407.0</td>\n",
              "    </tr>\n",
              "    <tr>\n",
              "      <th>2017</th>\n",
              "      <td>12</td>\n",
              "      <td>17871.0</td>\n",
              "    </tr>\n",
              "    <tr>\n",
              "      <th>2018</th>\n",
              "      <td>12</td>\n",
              "      <td>16732.0</td>\n",
              "    </tr>\n",
              "    <tr>\n",
              "      <th>2019</th>\n",
              "      <td>12</td>\n",
              "      <td>15982.0</td>\n",
              "    </tr>\n",
              "    <tr>\n",
              "      <th>2020</th>\n",
              "      <td>5</td>\n",
              "      <td>14272.0</td>\n",
              "    </tr>\n",
              "  </tbody>\n",
              "</table>\n",
              "</div>"
            ],
            "text/plain": [
              "      Mês   Registros\n",
              "Ano                  \n",
              "2015    12    16544.0\n",
              "2016    12    17407.0\n",
              "2017    12    17871.0\n",
              "2018    12    16732.0\n",
              "2019    12    15982.0\n",
              "2020     5    14272.0"
            ]
          },
          "metadata": {
            "tags": []
          },
          "execution_count": 190
        }
      ]
    },
    {
      "cell_type": "markdown",
      "metadata": {
        "id": "svkTCJH_FkL4",
        "colab_type": "text"
      },
      "source": [
        "# Conclusões\n",
        "\n",
        "Com toda certeza poderiamos ficar dias extraindo insights e ideias dessa base tão rica, entretanto por hora, com estas poucas perguntas já conseguimos entender um pouco sobre as estatísticas de furto no Estado de Minas Gerais.\n",
        "\n",
        "O crime graças ao excelente trabalho da POLICIA MILITAR DO ESTADO DE MINAS GERAIS vem diminuindo a cada ano, com tendência de queda também este ano, as residências representam o maior alvo dos criminosos que praticam furto e em todos os anos o mês de Dezembro, em virtude das férias escolares e as residências dos viajantes ficaram vazias é o mês com maior indice.\n",
        "\n",
        "Outro ponto interessante é que dentre as 5 cidades mais violentas apenas 2 são da região central, demonstrando a importância do reforço do policiamento não só na RMBH mas também em grandes cidades do interior de Minas como Uberlândia, Juiz de Fora e Montes Claros.\n",
        "\n",
        "\n",
        "Esperamos que futuras análises mostrem a criminalidade em um nível ainda menor e que o estado de Minas seja referência em eficiencia no combate a criminalidade."
      ]
    }
  ],
  "metadata": {
    "colab": {
      "name": "2 - Projeto - Analisando os dados de furtos  em Minas Gerais.ipynb",
      "provenance": [],
      "collapsed_sections": [],
      "authorship_tag": "ABX9TyNi8Y4Dx+l/wyj8SPKGV7C1",
      "include_colab_link": true
    },
    "kernelspec": {
      "name": "python3",
      "display_name": "Python 3"
    }
  },
  "nbformat": 4,
  "nbformat_minor": 0
}