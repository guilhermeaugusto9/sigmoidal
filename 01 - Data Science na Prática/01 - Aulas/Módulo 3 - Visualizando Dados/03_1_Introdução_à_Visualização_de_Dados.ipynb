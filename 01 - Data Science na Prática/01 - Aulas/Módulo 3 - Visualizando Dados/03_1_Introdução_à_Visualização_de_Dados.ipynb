{
  "nbformat": 4,
  "nbformat_minor": 0,
  "metadata": {
    "colab": {
      "name": "Introdução à Visualização de Dados.ipynb",
      "provenance": [],
      "include_colab_link": true
    },
    "kernelspec": {
      "name": "python3",
      "display_name": "Python 3"
    }
  },
  "cells": [
    {
      "cell_type": "markdown",
      "metadata": {
        "id": "view-in-github",
        "colab_type": "text"
      },
      "source": [
        "<a href=\"https://colab.research.google.com/github/guilhermeaugusto9/sigmoidal/blob/master/Introduc%CC%A7a%CC%83o_a%CC%80_Visualizac%CC%A7a%CC%83o_de_Dados.ipynb\" target=\"_parent\"><img src=\"https://colab.research.google.com/assets/colab-badge.svg\" alt=\"Open In Colab\"/></a>"
      ]
    },
    {
      "cell_type": "markdown",
      "metadata": {
        "id": "0P5ZmDr6t4ut",
        "colab_type": "text"
      },
      "source": [
        "<img alt=\"Colaboratory logo\" width=\"15%\" src=\"https://raw.githubusercontent.com/carlosfab/escola-data-science/master/img/novo_logo_bg_claro.png\">\n",
        "\n",
        "#### **Data Science na Prática 2.0**\n",
        "*by [sigmoidal.ai](https://sigmoidal.ai)*\n",
        "\n",
        "---\n",
        "\n",
        "# Introdução à Visualização de Dados\n",
        "\n",
        "Visualização de dados é uma das minhas partes preferidas em projetos de Data Science. Apesar de muita gente acha que basta aprender comandos para plotar diferentes tipos de gráficos, a visualização de dados é algo que vai bem além disso.\n",
        "\n",
        "<center><img src=\"https://images.squarespace-cdn.com/content/v1/56713bf4dc5cb41142f28d1f/1452593931962-ADKY4GZP8GE3UAMEPADX/ke17ZwdGBToddI8pDm48kPTmLCYI3azk0b44ISZKpQNZw-zPPgdn4jUwVcJE1ZvWQUxwkmyExglNqGp0IvTJZUJFbgE-7XRK3dMEBRBhUpzMx-NIgOy-55tVg9z7UZkVgiIW24uP_Lvr_-BmgSUFsZXzRgzYKtZb9_ZW_5JeO3Y/data-ink.gif?format=1500w\" width=\"40%\"></center>\n",
        "\n",
        "Quando se tratar de visualizações e gráficos, a empresa [Dark Horse Analytics](https://www.darkhorseanalytics.com) é (para mim) a maior referência de todas. Eu gostaria de convidar você a parar um momento, visitar o Portfólio deles, e ver que (de fato) visualizar dados é bem mais que plotar gráficos com a ajuda de alguma biblioteca.\n",
        "\n",
        "Visualizar dados significa:\n",
        "\n",
        "* Fornecer técnicas que contribuam para a Análise Exploratória de Dados\n",
        "* Comunicar os dados de maneira clara para outras pessoas\n",
        "* Apoiar diferentes tipos de *stakeholders* com diferentes níveis de conhecimento\n",
        "* Compartilhar a representação dos dados sem *bias* (viés)"
      ]
    },
    {
      "cell_type": "markdown",
      "metadata": {
        "id": "4nbqrXBwx2of",
        "colab_type": "text"
      },
      "source": [
        "## Melhores práticas para construção de gráficos\n",
        "\n",
        "Os gráficos da **Dark Horse Analytics** são impressionantes. Com certeza eles contam com alguns dos melhores profissionais da área, além de pessoas especializadas em *design* gráfico.\n",
        "\n",
        "Atingir esse nível exige um grau de dedicação quase que exclusivamente voltado para isso.\n",
        "\n",
        "<center><img src=\"https://images.squarespace-cdn.com/content/v1/56713bf4dc5cb41142f28d1f/1452902605276-13BMOBVAJ0PM5NW5DRZV/ke17ZwdGBToddI8pDm48kCJS1YVVn-7nVcum-NLw0lQUqsxRUqqbr1mOJYKfIPR7LoDQ9mXPOjoJoqy81S2I8N_N4V1vUb5AoIIIbLZhVYxCRW4BPu10St3TBAUQYVKcyLz0tQPYVb0ChCu0QUbTkVFLGFwI7_04OxWF9VaG1uELyUP_8BtwmQ2RYLbMgSp8/image-asset.png?format=1500w\" width=\"40%\"></center>\n",
        "\n",
        "No entanto, as melhores práticas podem ser aprendidas. Busque sempre referências de quem entende do assunto e nunca esqueça esses três princípios:\n",
        "\n",
        "1. Menos é mais **eficaz**\n",
        "2. Menos é mais **atraente**\n",
        "3. Menos é mais **impactante**\n",
        "\n",
        "\n",
        "Eu gosto de lembrar da época de escola, onde fazíamos a capa dos trabalhos escolares usando as mais diferentes *Wordarts* disponíveis no Word (lá se vão quase 25 anos). Apesar de hoje ser algo que pareça exagerado, incrivelmente as pessoas achavam o máximo fazer ago do tipo na época. Sabe por que?\n",
        "\n",
        "<center><img src=\"https://raw.githubusercontent.com/carlosfab/curso_data_science_na_pratica/master/modulo_03/capa_wordart.png\" width=\"200px\"></center>\n",
        "\n",
        "Temos a tendência de achar que quanto mais enfeitarmos algo, melhor será para atrair a atenção das pessoas. Sempre queremos deixar tudo colorido, misturar tamanhos diferentes de fontes, destacar tudo em negrito, itálico e sublinhado (às vezes ao mesmo tempo).\n",
        "\n",
        "Quando a gente for gerar um gráfico, o objetivo é transmitir algum tipo de informação da melhor maneira possível, minimizando a subjetividade e eliminando distrações. Ou seja, enfeite o mínimo possível e sempre se baseie em quem é referência.\n",
        "\n",
        "Este Módulo não é uma aula de *design*, paleta de cores ou manipulação avançada de gráficos. Este é um Módulo para te dar os pilares básicos e te mostrar o que há de melhor, como referência.\n",
        "\n",
        "Aprender Data Science, de uma maneira geral, é um processo iterativo, onde cada vez mais você vai se tornando autônomo e capaz de buscar informações específicas :)\n",
        "\n",
        "<center><img src=\"https://images.squarespace-cdn.com/content/v1/56713bf4dc5cb41142f28d1f/1453229838669-ZQMPYOML9JZB3SPGKWUD/ke17ZwdGBToddI8pDm48kHRVj94jhoL72-wrn7_U8tRZw-zPPgdn4jUwVcJE1ZvWQUxwkmyExglNqGp0IvTJZamWLI2zvYWH8K3-s_4yszcp2ryTI0HqTOaaUohrI8PIMlQ32uSsM4OVciN2pPdAdqFSDQf1D_M7RIDKAOxKdiU/Screen+Shot+2016-01-19+at+11.53.51+AM.png?format=1500w\" width=50%\"></center>"
      ]
    }
  ]
}