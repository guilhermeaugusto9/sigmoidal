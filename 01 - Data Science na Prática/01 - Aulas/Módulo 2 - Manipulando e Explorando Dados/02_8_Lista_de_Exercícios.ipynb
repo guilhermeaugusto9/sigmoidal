{
  "nbformat": 4,
  "nbformat_minor": 0,
  "metadata": {
    "colab": {
      "name": "Lista de Exercícios.ipynb",
      "provenance": [],
      "collapsed_sections": [],
      "include_colab_link": true
    },
    "kernelspec": {
      "name": "python3",
      "display_name": "Python 3"
    }
  },
  "cells": [
    {
      "cell_type": "markdown",
      "metadata": {
        "id": "view-in-github",
        "colab_type": "text"
      },
      "source": [
        "<a href=\"https://colab.research.google.com/github/guilhermeaugusto9/sigmoidal/blob/master/02_8_Lista_de_Exerc%C3%ADcios.ipynb\" target=\"_parent\"><img src=\"https://colab.research.google.com/assets/colab-badge.svg\" alt=\"Open In Colab\"/></a>"
      ]
    },
    {
      "cell_type": "markdown",
      "metadata": {
        "id": "XRSYHKXEQGOL",
        "colab_type": "text"
      },
      "source": [
        "<img alt=\"Colaboratory logo\" width=\"15%\" src=\"https://raw.githubusercontent.com/carlosfab/escola-data-science/master/img/novo_logo_bg_claro.png\">\n",
        "\n",
        "#### **Data Science na Prática 2.0**\n",
        "*by [sigmoidal.ai](https://sigmoidal.ai)*\n",
        "\n",
        "---"
      ]
    },
    {
      "cell_type": "markdown",
      "metadata": {
        "id": "vvplGyW2N3rX",
        "colab_type": "text"
      },
      "source": [
        "# Lista de Exercícios\n",
        "\n",
        "A lista de exercícios tem por objetivo colocar a mão na massa e relembrar os conceitos que foram passados nas aulas anteriores.\n",
        "\n",
        "Optei por não necessariamente seguir a sequencia das aulas, colocando os exercícios "
      ]
    },
    {
      "cell_type": "markdown",
      "metadata": {
        "id": "9GQoXiddIpr9",
        "colab_type": "text"
      },
      "source": [
        "## Exercício 1\n",
        "\n",
        "* Importar o pacote Pandas\n",
        "* importar os dados de ocorrências da aviação civil neste link\n",
        "* Ver qual o tamanho (linhas x colunas) do *DataFrame*\n",
        "* Verificar as 5 primeiras "
      ]
    },
    {
      "cell_type": "markdown",
      "metadata": {
        "id": "hdRXuNktKw9p",
        "colab_type": "text"
      },
      "source": [
        "**Importe o Pandas e importe os dados de ocorrências da aviação civil que se encontram em `csv` [neste link](https://raw.githubusercontent.com/carlosfab/dsnp2/master/datasets/ocorrencias_aviacao.csv).**"
      ]
    },
    {
      "cell_type": "code",
      "metadata": {
        "id": "8TpD5o8MLMaV",
        "colab_type": "code",
        "colab": {}
      },
      "source": [
        ""
      ],
      "execution_count": null,
      "outputs": []
    },
    {
      "cell_type": "code",
      "metadata": {
        "id": "IXrHqpl9LoW2",
        "colab_type": "code",
        "cellView": "form",
        "colab": {}
      },
      "source": [
        "#@title\n",
        "# importar pandas\n",
        "import pandas as pd\n",
        "\n",
        "# importar dados\n",
        "df = pd.read_csv(\"https://raw.githubusercontent.com/carlosfab/dsnp2/master/datasets/ocorrencias_aviacao.csv\")"
      ],
      "execution_count": null,
      "outputs": []
    },
    {
      "cell_type": "markdown",
      "metadata": {
        "id": "Tf8ScLP9LRjq",
        "colab_type": "text"
      },
      "source": [
        "**Veja qual o tamanho (linhas e colunas) do conjunto de dados importado.**"
      ]
    },
    {
      "cell_type": "code",
      "metadata": {
        "id": "vGsqOw52LnKZ",
        "colab_type": "code",
        "colab": {}
      },
      "source": [
        ""
      ],
      "execution_count": null,
      "outputs": []
    },
    {
      "cell_type": "code",
      "metadata": {
        "id": "NHsUQKI7L6te",
        "colab_type": "code",
        "cellView": "form",
        "colab": {}
      },
      "source": [
        "#@title\n",
        "df.shape"
      ],
      "execution_count": null,
      "outputs": []
    },
    {
      "cell_type": "markdown",
      "metadata": {
        "id": "OvvxJlZXL-BH",
        "colab_type": "text"
      },
      "source": [
        "**Identifique o tipo de cada coluna (inteiro, float, object).**"
      ]
    },
    {
      "cell_type": "code",
      "metadata": {
        "id": "MjAmdNplMOMJ",
        "colab_type": "code",
        "colab": {}
      },
      "source": [
        ""
      ],
      "execution_count": null,
      "outputs": []
    },
    {
      "cell_type": "code",
      "metadata": {
        "id": "FWBMMmJ0MPnj",
        "colab_type": "code",
        "cellView": "form",
        "colab": {}
      },
      "source": [
        "#@title\n",
        "df.dtypes"
      ],
      "execution_count": null,
      "outputs": []
    },
    {
      "cell_type": "markdown",
      "metadata": {
        "id": "ew5bo-eZMTCZ",
        "colab_type": "text"
      },
      "source": [
        "**Veja as 3 primeiras entradas do conjunto de dados.**"
      ]
    },
    {
      "cell_type": "code",
      "metadata": {
        "id": "e1xx_cXFMaM2",
        "colab_type": "code",
        "colab": {}
      },
      "source": [
        ""
      ],
      "execution_count": null,
      "outputs": []
    },
    {
      "cell_type": "code",
      "metadata": {
        "id": "yPAP4h5wMa24",
        "colab_type": "code",
        "cellView": "form",
        "colab": {}
      },
      "source": [
        "#@title\n",
        "df.head(3)"
      ],
      "execution_count": null,
      "outputs": []
    },
    {
      "cell_type": "markdown",
      "metadata": {
        "id": "p_2rj-KqMbtA",
        "colab_type": "text"
      },
      "source": [
        "**Veja quantos valores únicos existem para a coluna `ocorrencia_classificacao`**"
      ]
    },
    {
      "cell_type": "code",
      "metadata": {
        "id": "DVtxiIREMnnV",
        "colab_type": "code",
        "colab": {}
      },
      "source": [
        ""
      ],
      "execution_count": null,
      "outputs": []
    },
    {
      "cell_type": "code",
      "metadata": {
        "id": "Om6rX4OLMoAS",
        "colab_type": "code",
        "cellView": "form",
        "colab": {}
      },
      "source": [
        "#@title\n",
        "df.ocorrencia_classificacao.unique()"
      ],
      "execution_count": null,
      "outputs": []
    },
    {
      "cell_type": "markdown",
      "metadata": {
        "id": "ZoUq8qxPMqPj",
        "colab_type": "text"
      },
      "source": [
        "**Descubra qual Estado possui o maior número de ocorrências com aeronaves civis.**"
      ]
    },
    {
      "cell_type": "code",
      "metadata": {
        "id": "Fdin50sWM29y",
        "colab_type": "code",
        "colab": {}
      },
      "source": [
        ""
      ],
      "execution_count": null,
      "outputs": []
    },
    {
      "cell_type": "code",
      "metadata": {
        "id": "p1zFI2MnM_I7",
        "colab_type": "code",
        "cellView": "form",
        "colab": {}
      },
      "source": [
        "#@title\n",
        "# a resposta é SP, com 1.207 ocorrências\n",
        "df.ocorrencia_uf.value_counts()"
      ],
      "execution_count": null,
      "outputs": []
    },
    {
      "cell_type": "markdown",
      "metadata": {
        "id": "jaE4lKoMNDNG",
        "colab_type": "text"
      },
      "source": [
        "**Quantos por cento das ocorrências são do tipo `FALHA DO MOTOR EM VOO`?**"
      ]
    },
    {
      "cell_type": "code",
      "metadata": {
        "id": "MZNDxepbNqFr",
        "colab_type": "code",
        "colab": {}
      },
      "source": [
        ""
      ],
      "execution_count": null,
      "outputs": []
    },
    {
      "cell_type": "code",
      "metadata": {
        "id": "RM8bxW-MNqd8",
        "colab_type": "code",
        "cellView": "form",
        "colab": {}
      },
      "source": [
        "#@title\n",
        "df.loc[df.ocorrencia_tipo == \"FALHA DO MOTOR EM VOO\"].shape[0] / df.shape[0]"
      ],
      "execution_count": null,
      "outputs": []
    },
    {
      "cell_type": "markdown",
      "metadata": {
        "id": "BZCNVc1NOVeb",
        "colab_type": "text"
      },
      "source": [
        "## Exercício 2\n",
        "\n",
        "Você irá trabalhar agora com os dados da ação BBAS3, do Banco do Brasil na BOVESPA.\n",
        "\n",
        "Na variável `df_bbas3`, foi importado [este arquivo `csv`](https://raw.githubusercontent.com/carlosfab/dsnp2/master/datasets/BBAS3.SA.csv), onde o *index* do *DataFrame* representa os valores da ação para determinado dia. Responda as perguntas abaixo."
      ]
    },
    {
      "cell_type": "code",
      "metadata": {
        "id": "4XZI_FjDPFsR",
        "colab_type": "code",
        "colab": {}
      },
      "source": [
        "# importar pandas\n",
        "import pandas as pd\n",
        "\n",
        "# importar o csv com dados da BBAS3\n",
        "df_bbas3 = pd.read_csv(\"https://raw.githubusercontent.com/carlosfab/dsnp2/master/datasets/BBAS3.SA.csv\",\n",
        "                       index_col=\"Date\")"
      ],
      "execution_count": null,
      "outputs": []
    },
    {
      "cell_type": "markdown",
      "metadata": {
        "id": "j5gGguY3P67Q",
        "colab_type": "text"
      },
      "source": [
        "**Veja as 5 primeiras entradas da variável `df_bbas3`.**"
      ]
    },
    {
      "cell_type": "code",
      "metadata": {
        "id": "MlGjWTeXQEB3",
        "colab_type": "code",
        "colab": {}
      },
      "source": [
        ""
      ],
      "execution_count": null,
      "outputs": []
    },
    {
      "cell_type": "code",
      "metadata": {
        "id": "vRCeUP_lQGai",
        "colab_type": "code",
        "cellView": "form",
        "colab": {}
      },
      "source": [
        "#@title\n",
        "df_bbas3.head()"
      ],
      "execution_count": null,
      "outputs": []
    },
    {
      "cell_type": "markdown",
      "metadata": {
        "id": "O3tTLDfTQTGZ",
        "colab_type": "text"
      },
      "source": [
        "**Quais são os valores da ação para o dia 04 de outubro de 2019?**"
      ]
    },
    {
      "cell_type": "code",
      "metadata": {
        "id": "kPSOenAuQj81",
        "colab_type": "code",
        "colab": {}
      },
      "source": [
        ""
      ],
      "execution_count": null,
      "outputs": []
    },
    {
      "cell_type": "code",
      "metadata": {
        "id": "70QKSq2yQmCm",
        "colab_type": "code",
        "cellView": "form",
        "colab": {}
      },
      "source": [
        "#@title\n",
        "df_bbas3.loc[\"2019-10-04\"]"
      ],
      "execution_count": null,
      "outputs": []
    },
    {
      "cell_type": "markdown",
      "metadata": {
        "id": "PRZtV761Qr0-",
        "colab_type": "text"
      },
      "source": [
        "**Qual a média do Volume financeiro movimentado em todo o período?**"
      ]
    },
    {
      "cell_type": "code",
      "metadata": {
        "id": "n-vZleQPEGey",
        "colab_type": "code",
        "colab": {}
      },
      "source": [
        ""
      ],
      "execution_count": null,
      "outputs": []
    },
    {
      "cell_type": "code",
      "metadata": {
        "id": "UUhGYf2YEPEo",
        "colab_type": "code",
        "cellView": "form",
        "colab": {}
      },
      "source": [
        "#@title\n",
        "df_bbas3.Volume.mean()"
      ],
      "execution_count": null,
      "outputs": []
    },
    {
      "cell_type": "markdown",
      "metadata": {
        "id": "_pO0tCV1EdD0",
        "colab_type": "text"
      },
      "source": [
        "## Exercício 3\n",
        "\n",
        "Você irá trabalhar agora com os dados do projeto +BIKE, usado em aulas passadas.\n",
        "\n",
        "Na variável df_bike, foi importado [este arquivo csv](http://dl.dropboxusercontent.com/s/yyfeoxqw61o3iel/df_rides.csv).\n",
        "\n"
      ]
    },
    {
      "cell_type": "code",
      "metadata": {
        "id": "YFvJfTuVE0da",
        "colab_type": "code",
        "colab": {}
      },
      "source": [
        "# importar pandas\n",
        "import pandas as pd\n",
        "\n",
        "# importar o csv com dados da BBAS3\n",
        "df_bike = pd.read_csv(\"http://dl.dropboxusercontent.com/s/yyfeoxqw61o3iel/df_rides.csv\")\n",
        "\n",
        "# ver as primeiras entradas\n",
        "df_bike.head()"
      ],
      "execution_count": null,
      "outputs": []
    },
    {
      "cell_type": "markdown",
      "metadata": {
        "id": "sj3lwZctE7KP",
        "colab_type": "text"
      },
      "source": [
        "**Qual a porcentagem de valores ausentes para a coluna `user_gender`?**\n"
      ]
    },
    {
      "cell_type": "code",
      "metadata": {
        "id": "g8GJ7kgLFEbr",
        "colab_type": "code",
        "colab": {}
      },
      "source": [
        ""
      ],
      "execution_count": null,
      "outputs": []
    },
    {
      "cell_type": "code",
      "metadata": {
        "id": "zqVDxelCFTAd",
        "colab_type": "code",
        "cellView": "form",
        "colab": {}
      },
      "source": [
        "#@title\n",
        "df_bike.user_gender.isnull().sum() / df_bike.shape[0]"
      ],
      "execution_count": null,
      "outputs": []
    },
    {
      "cell_type": "markdown",
      "metadata": {
        "id": "oDVOu-XpFZYI",
        "colab_type": "text"
      },
      "source": [
        "**Preencha a coluna `user_gender` com o valor mais frequente.**"
      ]
    },
    {
      "cell_type": "code",
      "metadata": {
        "id": "7f9WWlD6FZnJ",
        "colab_type": "code",
        "colab": {}
      },
      "source": [
        ""
      ],
      "execution_count": null,
      "outputs": []
    },
    {
      "cell_type": "code",
      "metadata": {
        "id": "4c5iYhx3Fyqa",
        "colab_type": "code",
        "cellView": "form",
        "colab": {}
      },
      "source": [
        "#@title\n",
        "# ver o valor mais frequente\n",
        "print(df.user_gender.value_counts())\n",
        "\n",
        "# preencher os valores ausentes de user_gender com 'M'\n",
        "df.user_gender.fillna('M', inplace=True)"
      ],
      "execution_count": null,
      "outputs": []
    },
    {
      "cell_type": "markdown",
      "metadata": {
        "id": "ckDXwzIzF7XT",
        "colab_type": "text"
      },
      "source": [
        "**Plote u boxplot para a coluna `ride_duration`.**"
      ]
    },
    {
      "cell_type": "code",
      "metadata": {
        "id": "xIluDO2wGGE6",
        "colab_type": "code",
        "colab": {}
      },
      "source": [
        ""
      ],
      "execution_count": null,
      "outputs": []
    },
    {
      "cell_type": "code",
      "metadata": {
        "id": "kErG6xfpGGqT",
        "colab_type": "code",
        "cellView": "form",
        "colab": {}
      },
      "source": [
        "#@title\n",
        "df_bike.ride_duration.plot(kind=\"box\")"
      ],
      "execution_count": null,
      "outputs": []
    }
  ]
}