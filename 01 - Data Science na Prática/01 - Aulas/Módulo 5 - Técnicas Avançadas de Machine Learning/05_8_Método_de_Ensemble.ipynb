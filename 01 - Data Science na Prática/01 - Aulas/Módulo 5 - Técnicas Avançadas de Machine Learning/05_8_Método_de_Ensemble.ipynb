{
  "nbformat": 4,
  "nbformat_minor": 0,
  "metadata": {
    "colab": {
      "name": "Método de Ensemble.ipynb",
      "provenance": [],
      "collapsed_sections": [],
      "include_colab_link": true
    },
    "kernelspec": {
      "name": "python3",
      "display_name": "Python 3"
    }
  },
  "cells": [
    {
      "cell_type": "markdown",
      "metadata": {
        "id": "view-in-github",
        "colab_type": "text"
      },
      "source": [
        "<a href=\"https://colab.research.google.com/github/guilhermeaugusto9/sigmoidal/blob/master/05_8_M%C3%A9todo_de_Ensemble.ipynb\" target=\"_parent\"><img src=\"https://colab.research.google.com/assets/colab-badge.svg\" alt=\"Open In Colab\"/></a>"
      ]
    },
    {
      "cell_type": "markdown",
      "metadata": {
        "id": "J98ypWtm9GFf",
        "colab_type": "text"
      },
      "source": [
        "<img alt=\"Colaboratory logo\" width=\"15%\" src=\"https://raw.githubusercontent.com/carlosfab/escola-data-science/master/img/novo_logo_bg_claro.png\">\n",
        "\n",
        "#### **Data Science na Prática 2.0**\n",
        "*by [sigmoidal.ai](https://sigmoidal.ai)*\n",
        "\n",
        "---"
      ]
    },
    {
      "cell_type": "markdown",
      "metadata": {
        "id": "BWe8-7fOFHy_",
        "colab_type": "text"
      },
      "source": [
        "# Método de Ensemble\n",
        "\n",
        "Por que usar apenas um estimador? Imagine que você poderia aproveitar o melhor de cada mundo, usar os pontos fortes de cada estimador e até mesmo combiná-los.\n",
        "\n",
        "Esta aula é apenas uma introdução de um conceito conhecido como Métodos de Ensemble.\n"
      ]
    },
    {
      "cell_type": "code",
      "metadata": {
        "id": "cYhUnrrAFKlZ",
        "colab_type": "code",
        "colab": {}
      },
      "source": [
        "# importar os pacotes necessários\n",
        "import pandas as pd\n",
        "from sklearn.model_selection import train_test_split\n",
        "from sklearn.metrics import accuracy_score\n",
        "from sklearn.model_selection import cross_val_score\n",
        "from sklearn.preprocessing import StandardScaler\n",
        "\n",
        "# importar o arquivo\n",
        "df = pd.read_csv(\"http://dl.dropboxusercontent.com/s/6d91j46mkcdj4qv/heart-disease-clean.csv?dl=0\")\n",
        "\n",
        "# ver as primeiras entradas\n",
        "print(\"Tamanho de df: {}\\n\".format(df.shape))\n",
        "\n",
        "df.head()"
      ],
      "execution_count": null,
      "outputs": []
    },
    {
      "cell_type": "markdown",
      "metadata": {
        "id": "bve4OPEKjPgX",
        "colab_type": "text"
      },
      "source": [
        "Aqui se divide normalmente o *dataset* entre treino e teste.\n",
        "\n",
        "Repare que iremos criar não apenas um modelo, mas vários modelos."
      ]
    },
    {
      "cell_type": "code",
      "metadata": {
        "id": "umT_lt48eC4I",
        "colab_type": "code",
        "colab": {
          "base_uri": "https://localhost:8080/",
          "height": 168
        },
        "outputId": "a4c5b909-ee29-49da-ebf8-7f13b0433baf"
      },
      "source": [
        "import numpy as np\n",
        "np.random.seed(2)\n",
        "\n",
        "# 1. escolher e importar um modelo\n",
        "from sklearn.linear_model import SGDClassifier\n",
        "from sklearn.svm import SVC\n",
        "from sklearn.tree import DecisionTreeClassifier\n",
        "from sklearn.ensemble import VotingClassifier\n",
        "\n",
        "# 2. Instanciar e escolher os hyperparameters\n",
        "model_sgd = SGDClassifier()\n",
        "model_svc = SVC()\n",
        "model_dt = DecisionTreeClassifier()\n",
        "voting_clf = VotingClassifier(estimators=[('sgd', model_sgd),('svc', model_svc),('dt', model_dt)])\n",
        "\n",
        "# 3. Separar os dados entre feature matrix e target vector \n",
        "X = df.drop('num', axis=1)\n",
        "y = df['num']\n",
        "\n",
        "# 3.1 Dividir o dataset entre treino e teste\n",
        "X_train, X_test, y_train, y_test = train_test_split(X, y)\n",
        "\n",
        "# 3.2 Padronizar os dados\n",
        "scaler = StandardScaler()\n",
        "X_train_scaled = scaler.fit_transform(X_train)\n",
        "X_test_scaled = scaler.transform(X_test)\n",
        "\n",
        "# 4. Fit do modelo (treinar)\n",
        "for model in (model_sgd, model_svc, model_dt, voting_clf):\n",
        "    model.fit(X_train_scaled, y_train)\n",
        "\n",
        "# 5. Fazer previsões em cima de novos dados\n",
        "model = []\n",
        "accuracy = []\n",
        "for clf in (model_sgd, model_svc, model_dt, voting_clf):\n",
        "    y_pred = clf.predict(X_test_scaled)\n",
        "    model.append(clf.__class__.__name__)\n",
        "    accuracy.append(accuracy_score(y_test,y_pred))\n",
        "\n",
        "# Verificar a acurácia\n",
        "col = ['Acurácia']\n",
        "ac = pd.DataFrame(data=accuracy, index = model, columns=col)\n",
        "ac"
      ],
      "execution_count": null,
      "outputs": [
        {
          "output_type": "execute_result",
          "data": {
            "text/html": [
              "<div>\n",
              "<style scoped>\n",
              "    .dataframe tbody tr th:only-of-type {\n",
              "        vertical-align: middle;\n",
              "    }\n",
              "\n",
              "    .dataframe tbody tr th {\n",
              "        vertical-align: top;\n",
              "    }\n",
              "\n",
              "    .dataframe thead th {\n",
              "        text-align: right;\n",
              "    }\n",
              "</style>\n",
              "<table border=\"1\" class=\"dataframe\">\n",
              "  <thead>\n",
              "    <tr style=\"text-align: right;\">\n",
              "      <th></th>\n",
              "      <th>Acurácia</th>\n",
              "    </tr>\n",
              "  </thead>\n",
              "  <tbody>\n",
              "    <tr>\n",
              "      <th>SGDClassifier</th>\n",
              "      <td>0.750000</td>\n",
              "    </tr>\n",
              "    <tr>\n",
              "      <th>SVC</th>\n",
              "      <td>0.842105</td>\n",
              "    </tr>\n",
              "    <tr>\n",
              "      <th>DecisionTreeClassifier</th>\n",
              "      <td>0.736842</td>\n",
              "    </tr>\n",
              "    <tr>\n",
              "      <th>VotingClassifier</th>\n",
              "      <td>0.855263</td>\n",
              "    </tr>\n",
              "  </tbody>\n",
              "</table>\n",
              "</div>"
            ],
            "text/plain": [
              "                        Acurácia\n",
              "SGDClassifier           0.750000\n",
              "SVC                     0.842105\n",
              "DecisionTreeClassifier  0.736842\n",
              "VotingClassifier        0.855263"
            ]
          },
          "metadata": {
            "tags": []
          },
          "execution_count": 8
        }
      ]
    },
    {
      "cell_type": "code",
      "metadata": {
        "id": "wydddW1yRczu",
        "colab_type": "code",
        "colab": {}
      },
      "source": [
        ""
      ],
      "execution_count": null,
      "outputs": []
    }
  ]
}