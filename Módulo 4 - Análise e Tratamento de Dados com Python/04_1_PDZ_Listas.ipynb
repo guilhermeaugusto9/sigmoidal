{
  "nbformat": 4,
  "nbformat_minor": 0,
  "metadata": {
    "colab": {
      "name": "PDZ - Listas",
      "provenance": [],
      "collapsed_sections": [],
      "include_colab_link": true
    },
    "kernelspec": {
      "name": "python3",
      "display_name": "Python 3"
    }
  },
  "cells": [
    {
      "cell_type": "markdown",
      "metadata": {
        "id": "view-in-github",
        "colab_type": "text"
      },
      "source": [
        "<a href=\"https://colab.research.google.com/github/guilhermeaugusto9/sigmoidal/blob/master/M%C3%B3dulo%204%20-%20An%C3%A1lise%20e%20Tratamento%20de%20Dados%20com%20Python/04_1_PDZ_Listas.ipynb\" target=\"_parent\"><img src=\"https://colab.research.google.com/assets/colab-badge.svg\" alt=\"Open In Colab\"/></a>"
      ]
    },
    {
      "cell_type": "markdown",
      "metadata": {
        "id": "1v8jEIJPfoxg"
      },
      "source": [
        "<img alt=\"Colaboratory logo\" width=\"15%\" src=\"https://raw.githubusercontent.com/carlosfab/escola-data-science/master/img/novo_logo_bg_claro.png\">\n",
        "\n",
        "#### **Python do Zero**\n",
        "*by [sigmoidal.ai](https://sigmoidal.ai)*\n",
        "\n",
        "---\n",
        "\n",
        "# Listas\n",
        "\n",
        "Listas são sequências de valores, onde cada valor é identificado por um índice referente a sua posição. O tipo de variável das listas é `list`, e você vai ver como elas são extremamente úteis para manipulação dos dados.\n",
        "\n",
        "\n",
        "<center><img width=\"45%\" src=\"https://image.freepik.com/free-vector/check-list-with-businessman-flat-design_79603-145.jpg\"></center>\n",
        "\n",
        "Detalhe importante, as listas são mutáveis, compostas de diversos valores, chamados elementos ou itens, e que podem ser de diferentes tipos.\n"
      ]
    },
    {
      "cell_type": "markdown",
      "metadata": {
        "id": "l7yd4mtT0uqG"
      },
      "source": [
        "Para criar uma lista, utilizaremos colchetes `[]`."
      ]
    },
    {
      "cell_type": "code",
      "metadata": {
        "id": "XkHmR-gwp1If",
        "outputId": "0418e85b-7410-4193-94ab-8dd8e6643230",
        "colab": {
          "base_uri": "https://localhost:8080/",
          "height": 54
        }
      },
      "source": [
        "# criar uma lista\n",
        "lista_inicial = []\n",
        "print(lista_inicial)\n",
        "print(type(lista_inicial))"
      ],
      "execution_count": null,
      "outputs": [
        {
          "output_type": "stream",
          "text": [
            "[]\n",
            "<class 'list'>\n"
          ],
          "name": "stdout"
        }
      ]
    },
    {
      "cell_type": "markdown",
      "metadata": {
        "id": "d7-zXfQY095X"
      },
      "source": [
        "Nós podemos inserir items de diferentes tipos dentro de uma lista."
      ]
    },
    {
      "cell_type": "code",
      "metadata": {
        "id": "1HpoW6HpqTdf",
        "outputId": "9a08545e-46af-434a-989d-c388c4772cda",
        "colab": {
          "base_uri": "https://localhost:8080/",
          "height": 35
        }
      },
      "source": [
        "# criar uma lista com itens\n",
        "lista_inicial = [\"Carlos\", \"Melo\", 1.88, True]\n",
        "print(lista_inicial)"
      ],
      "execution_count": null,
      "outputs": [
        {
          "output_type": "stream",
          "text": [
            "['Carlos', 'Melo', 1.88, True]\n"
          ],
          "name": "stdout"
        }
      ]
    },
    {
      "cell_type": "markdown",
      "metadata": {
        "id": "PdHQTqo4qe6Z"
      },
      "source": [
        "#### Acessando um elemento\n",
        "\n",
        "Na última célula acima, criamos uma lista `lista_inicial = [\"Carlos\", \"Melo\", 1.88, True]`.\n",
        "\n",
        "Para acessar qualquer elemento dessa lista, precisamos indicar qual o índice referente à posição do mesmo. Lembre-se que o primeiro elemento contém a indexação igual a $0$!\n",
        "\n",
        "| \"Carlos\" | \"Melo\" | 1\\.88 | True |\n",
        "|----------|--------|-------|------|\n",
        "| 0        | 1      | 2     | 3    |\n",
        "| \\-4      | \\-3    | \\-2   | \\-1  |\n",
        "\n",
        "O Python também permite você acessar elementos a partir do último, bastando usar o $-1$ para a última casa e ir subtraindo 1 para as posições anteriores.\n"
      ]
    },
    {
      "cell_type": "code",
      "metadata": {
        "id": "DlXQkX-brTfG",
        "outputId": "6fded87e-11e0-4d9f-8bf5-168063c64c09",
        "colab": {
          "base_uri": "https://localhost:8080/",
          "height": 35
        }
      },
      "source": [
        "# acessar o elemento \"Melo\"\n",
        "print(lista_inicial[1])"
      ],
      "execution_count": null,
      "outputs": [
        {
          "output_type": "stream",
          "text": [
            "Melo\n"
          ],
          "name": "stdout"
        }
      ]
    },
    {
      "cell_type": "code",
      "metadata": {
        "id": "KT-ifEJWsEMN",
        "outputId": "74f82684-209b-4367-b144-1c4c7fe29d13",
        "colab": {
          "base_uri": "https://localhost:8080/",
          "height": 35
        }
      },
      "source": [
        "# acessar o penúltimo elemento\n",
        "print(lista_inicial[-2])"
      ],
      "execution_count": null,
      "outputs": [
        {
          "output_type": "stream",
          "text": [
            "1.88\n"
          ],
          "name": "stdout"
        }
      ]
    },
    {
      "cell_type": "code",
      "metadata": {
        "id": "gXInewUcsN92",
        "outputId": "90d22b96-0c67-4dbf-c0df-a39daad15912",
        "colab": {
          "base_uri": "https://localhost:8080/",
          "height": 191
        }
      },
      "source": [
        "# erro ao tentar acessar um valor que não está no range da lista\n",
        "print(lista_inicial[11])"
      ],
      "execution_count": null,
      "outputs": [
        {
          "output_type": "error",
          "ename": "IndexError",
          "evalue": "ignored",
          "traceback": [
            "\u001b[0;31m---------------------------------------------------------------------------\u001b[0m",
            "\u001b[0;31mIndexError\u001b[0m                                Traceback (most recent call last)",
            "\u001b[0;32m<ipython-input-7-3eff268c8d97>\u001b[0m in \u001b[0;36m<module>\u001b[0;34m()\u001b[0m\n\u001b[1;32m      1\u001b[0m \u001b[0;31m# erro ao tentar acessar um valor que não está no range da lista\u001b[0m\u001b[0;34m\u001b[0m\u001b[0;34m\u001b[0m\u001b[0;34m\u001b[0m\u001b[0m\n\u001b[0;32m----> 2\u001b[0;31m \u001b[0mprint\u001b[0m\u001b[0;34m(\u001b[0m\u001b[0mlista_inicial\u001b[0m\u001b[0;34m[\u001b[0m\u001b[0;36m11\u001b[0m\u001b[0;34m]\u001b[0m\u001b[0;34m)\u001b[0m\u001b[0;34m\u001b[0m\u001b[0;34m\u001b[0m\u001b[0m\n\u001b[0m",
            "\u001b[0;31mIndexError\u001b[0m: list index out of range"
          ]
        }
      ]
    },
    {
      "cell_type": "markdown",
      "metadata": {
        "id": "z-XUhyC6sTp2"
      },
      "source": [
        "#### Fatias de Listas\n",
        "\n",
        "Da mesma maneira que conseguimos \"fatiar\" um string, é possível fatiar uma lista. No caso, fatiar significa acessar itens que estejam dentro de um intervalo considerado.\n",
        "\n",
        "| \"Eduarda\" | \"Estudante\" | 222\\.50 | 433\\.80 | 591\\.66 | 124\\.20 |\n",
        "|-----------|-------------|---------|---------|---------|---------|\n",
        "| 0         | 1           | 2       | 3       | 4       | 5       |\n",
        "| \\-6       | \\-5         | \\-4     | \\-3     | \\-2     | \\-1     |\n",
        "\n",
        "\n",
        "Vamos ver como isso funciona na prática, criando e fatiando uma lista.\n",
        "\n"
      ]
    },
    {
      "cell_type": "code",
      "metadata": {
        "id": "ru7eNkNfsmBW"
      },
      "source": [
        "# gastos por trimestre\n",
        "cliente = [\"Eduarda\", \"Estudante\", 222.50, 433.80, 591.66, 124.20]"
      ],
      "execution_count": null,
      "outputs": []
    },
    {
      "cell_type": "code",
      "metadata": {
        "id": "nyVOR6y1uikP",
        "outputId": "9b60b144-0680-4e12-f1de-2af2da5d56be",
        "colab": {
          "base_uri": "https://localhost:8080/",
          "height": 35
        }
      },
      "source": [
        "# acessar as últimas quatro colunas:\n",
        "cliente[2:]"
      ],
      "execution_count": null,
      "outputs": [
        {
          "output_type": "execute_result",
          "data": {
            "text/plain": [
              "[222.5, 433.8, 591.66, 124.2]"
            ]
          },
          "metadata": {
            "tags": []
          },
          "execution_count": 10
        }
      ]
    },
    {
      "cell_type": "markdown",
      "metadata": {
        "id": "9C8RsDoXvIIp"
      },
      "source": [
        "#### Verificando se um item pertence à lista\n",
        "\n",
        "É possível checar se um determinado item está ou não em uma lista. Isso pode ser feito usando  `in` ou `not in`, que irão retornar uma resposta booleana.\n"
      ]
    },
    {
      "cell_type": "code",
      "metadata": {
        "id": "6jW92e0CvTiV"
      },
      "source": [
        "# criar lista de convidados\n",
        "convidados = [\"Ricardo\", \"Aline\", \"Carlos\", \"Mathias\", \"Elaine\"]"
      ],
      "execution_count": null,
      "outputs": []
    },
    {
      "cell_type": "code",
      "metadata": {
        "id": "SK_vx15UvuAR",
        "outputId": "13010bc7-bdae-451a-e75f-f38e90ef506c",
        "colab": {
          "base_uri": "https://localhost:8080/",
          "height": 35
        }
      },
      "source": [
        "# ver se Elaine está entre os convidados\n",
        "\"Elaine\" in convidados"
      ],
      "execution_count": null,
      "outputs": [
        {
          "output_type": "execute_result",
          "data": {
            "text/plain": [
              "True"
            ]
          },
          "metadata": {
            "tags": []
          },
          "execution_count": 12
        }
      ]
    },
    {
      "cell_type": "code",
      "metadata": {
        "id": "b3HKXn3hvzbv",
        "outputId": "84d5578b-088c-4c28-9fc6-1e9c526f29e6",
        "colab": {
          "base_uri": "https://localhost:8080/",
          "height": 35
        }
      },
      "source": [
        "# confirmar se Pablo não foi convidado\n",
        "\"Pablo\" not in convidados"
      ],
      "execution_count": null,
      "outputs": [
        {
          "output_type": "execute_result",
          "data": {
            "text/plain": [
              "True"
            ]
          },
          "metadata": {
            "tags": []
          },
          "execution_count": 14
        }
      ]
    },
    {
      "cell_type": "markdown",
      "metadata": {
        "id": "GPVP9gy7v-KK"
      },
      "source": [
        "#### Alterar um item da minha lista\n",
        "\n",
        "Uma vez que as listas são mutáveis, é possível acessar um índice e alterar o conteúdo dele."
      ]
    },
    {
      "cell_type": "code",
      "metadata": {
        "id": "gHQy65DawOMY",
        "outputId": "8096bb25-fceb-4e41-f08f-03221a9cbe94",
        "colab": {
          "base_uri": "https://localhost:8080/",
          "height": 35
        }
      },
      "source": [
        "# carteira de ações\n",
        "carteira = [\"BBAS3\", \"WEGE3\", \"ITSA4\"]\n",
        "\n",
        "print(carteira)"
      ],
      "execution_count": null,
      "outputs": [
        {
          "output_type": "stream",
          "text": [
            "['BBAS3', 'WEGE3', 'ITSA4']\n"
          ],
          "name": "stdout"
        }
      ]
    },
    {
      "cell_type": "code",
      "metadata": {
        "id": "ciCxHvg_xQJQ",
        "outputId": "72c36327-262a-4703-a1a1-276046479024",
        "colab": {
          "base_uri": "https://localhost:8080/",
          "height": 35
        }
      },
      "source": [
        "# trocar a ITSA4 por PETR4\n",
        "carteira[2] = \"PETR4\"\n",
        "\n",
        "print(carteira)"
      ],
      "execution_count": null,
      "outputs": [
        {
          "output_type": "stream",
          "text": [
            "['BBAS3', 'WEGE3', 'PETR4']\n"
          ],
          "name": "stdout"
        }
      ]
    },
    {
      "cell_type": "markdown",
      "metadata": {
        "id": "TwIZYjybxYoS"
      },
      "source": [
        "#### Adicionando ou excluindo itens de listas\n",
        "\n",
        "Para acrescentar um item ao final de uma lista, você pode usar o método `append()`. \n",
        "\n",
        "Para excluir um item, pode ser usado tantos o método `pop()` quanto o `remove()`. A diferença entre eles é que enquanto o primeiro recebe a posição do item como argumento, o segundo considera o próprio valor do item."
      ]
    },
    {
      "cell_type": "code",
      "metadata": {
        "id": "FUhuWPjbXinF",
        "outputId": "9e20df7a-22fa-4700-a14b-d07cf3d05ffa",
        "colab": {
          "base_uri": "https://localhost:8080/",
          "height": 35
        }
      },
      "source": [
        "# Acrescentar \"Ana Cristina\" à lista\n",
        "convidados = [\"Ricardo\", \"Aline\", \"Carlos\", \"Mathias\", \"Elaine\"]\n",
        "\n",
        "convidados.append(\"Ana Cristina\")\n",
        "print(convidados)"
      ],
      "execution_count": null,
      "outputs": [
        {
          "output_type": "stream",
          "text": [
            "['Ricardo', 'Aline', 'Carlos', 'Mathias', 'Elaine', 'Ana Cristina']\n"
          ],
          "name": "stdout"
        }
      ]
    },
    {
      "cell_type": "code",
      "metadata": {
        "id": "z_xe0mqxYCsB",
        "outputId": "6d493d56-080c-4cca-bb49-de46800aabc2",
        "colab": {
          "base_uri": "https://localhost:8080/",
          "height": 35
        }
      },
      "source": [
        "# Excluir o primeiro convidado da lista\n",
        "\n",
        "convidados.pop(0)\n",
        "print(convidados)"
      ],
      "execution_count": null,
      "outputs": [
        {
          "output_type": "stream",
          "text": [
            "['Aline', 'Carlos', 'Mathias', 'Elaine', 'Ana Cristina']\n"
          ],
          "name": "stdout"
        }
      ]
    },
    {
      "cell_type": "code",
      "metadata": {
        "id": "JXcna8deYN8-",
        "outputId": "9d9fe69b-7904-4e31-f10d-791de91b0ce8",
        "colab": {
          "base_uri": "https://localhost:8080/",
          "height": 35
        }
      },
      "source": [
        "# Excluir o \"Carlos\" dos convidados\n",
        "\n",
        "convidados.remove(\"Carlos\")\n",
        "print(convidados)"
      ],
      "execution_count": null,
      "outputs": [
        {
          "output_type": "stream",
          "text": [
            "['Aline', 'Mathias', 'Elaine', 'Ana Cristina']\n"
          ],
          "name": "stdout"
        }
      ]
    },
    {
      "cell_type": "markdown",
      "metadata": {
        "id": "pe1CwQkj32wD"
      },
      "source": [
        "## Exercícios\n",
        "\n",
        "Listas serão usadas com frequência quandon lidamos com Python, por isso, estar afiado na manipulação desse tipo de dados é essencial.\n",
        "\n",
        "Por isso, vamos praticar!\n",
        "\n",
        "\n",
        "<center><img width=\"50%\" src=\"https://image.freepik.com/free-photo/rear-view-programmer-working-all-night-long_1098-18697.jpg\"></center>"
      ]
    },
    {
      "cell_type": "markdown",
      "metadata": {
        "id": "3gEUUe6Y3yrm"
      },
      "source": [
        "### Exercício 1\n",
        "\n",
        "Crie uma lista que contenha o nome de 5 frutas."
      ]
    },
    {
      "cell_type": "code",
      "metadata": {
        "id": "5t-rhQ6A4MBm"
      },
      "source": [
        "# resposta"
      ],
      "execution_count": null,
      "outputs": []
    },
    {
      "cell_type": "code",
      "metadata": {
        "id": "1jM5kDZzYSmk",
        "cellView": "form"
      },
      "source": [
        "#@title Solução\n",
        "frutas = ['Banana', 'Uva', 'Maçã', 'Abacaxi', 'Kiwi']\n",
        "print(frutas)"
      ],
      "execution_count": null,
      "outputs": []
    },
    {
      "cell_type": "markdown",
      "metadata": {
        "id": "pRZ7HSR94Nfv"
      },
      "source": [
        "#### Exercício 2\n",
        "\n",
        "Adicione à sua lista de frutas:\n",
        "\n",
        "* Uma sexta fruta\n",
        "* Um objeto de tipo `int`\n",
        "* Um objeto de tipo `float`"
      ]
    },
    {
      "cell_type": "code",
      "metadata": {
        "id": "fGSZ0vk15nz7"
      },
      "source": [
        "# resposta\n"
      ],
      "execution_count": null,
      "outputs": []
    },
    {
      "cell_type": "code",
      "metadata": {
        "id": "vwOeRQVm4KmF",
        "cellView": "form"
      },
      "source": [
        "#@title Solução\n",
        "# adicionando a fruta\n",
        "frutas.append('Melancia')\n",
        "\n",
        "# adicionando o int\n",
        "frutas.append(5)\n",
        "\n",
        "#adicionando o float\n",
        "frutas.append(5.0)\n",
        "\n",
        "# verificando o resultado\n",
        "print(frutas)"
      ],
      "execution_count": null,
      "outputs": []
    },
    {
      "cell_type": "markdown",
      "metadata": {
        "id": "JXcfIWvF5pN7"
      },
      "source": [
        "#### Exercício 3\n",
        "Verifique se os seguintes itens estão na lista:\n",
        "\n",
        "* Maçã\n",
        "* Mamão\n",
        "* 90"
      ]
    },
    {
      "cell_type": "code",
      "metadata": {
        "id": "KdTbXda84gU3"
      },
      "source": [
        "# resposta\n"
      ],
      "execution_count": null,
      "outputs": []
    },
    {
      "cell_type": "code",
      "metadata": {
        "id": "RYtGqwZ8502F",
        "cellView": "form"
      },
      "source": [
        "#@title Solução\n",
        "\n",
        "print('A fruta Maçã está na lista? {}'.format('Maçã' in frutas))\n",
        "print('A fruta Mamão está na lista? {}'.format('Mamão' in frutas))\n",
        "print('O número 90 está na lista? {}'.format(90 in frutas))"
      ],
      "execution_count": null,
      "outputs": []
    },
    {
      "cell_type": "markdown",
      "metadata": {
        "id": "F0TYFduV6Q2Z"
      },
      "source": [
        "#### Exercício 4\n",
        "\n",
        "Execute as seguintes tarefas com a sua lista:\n",
        "\n",
        "* Substitua o item no index 2 pelo número `35`.\n",
        "* Remova da lista o item no index 2.\n",
        "* Remova todos os items da lista."
      ]
    },
    {
      "cell_type": "code",
      "metadata": {
        "id": "PDpkii5p54zt"
      },
      "source": [
        "# resposta\n"
      ],
      "execution_count": null,
      "outputs": []
    },
    {
      "cell_type": "code",
      "metadata": {
        "id": "OWlMk6L76k9D",
        "cellView": "form"
      },
      "source": [
        "#@title Solução\n",
        "# item 2 da lista antes da alteração\n",
        "print('Item no index 2 antes da alteração: ',frutas[2])\n",
        "\n",
        "# alterando o item no index 2\n",
        "frutas[2] = 35\n",
        "print('Novo item no index 2: ', frutas[2])\n",
        "\n",
        "# removendo o item\n",
        "frutas.pop(2)\n",
        "print('Lista sem o item \"35\": ', frutas)\n",
        "\n",
        "# limpando a lista\n",
        "frutas.clear()\n",
        "print('Lista vazia: ', frutas)"
      ],
      "execution_count": null,
      "outputs": []
    },
    {
      "cell_type": "code",
      "metadata": {
        "id": "WivrbSwq7NjZ"
      },
      "source": [
        ""
      ],
      "execution_count": null,
      "outputs": []
    }
  ]
}